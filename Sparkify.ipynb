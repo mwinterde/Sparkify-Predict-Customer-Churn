{
 "cells": [
  {
   "cell_type": "markdown",
   "metadata": {},
   "source": [
    "# Sparkify Project Workspace\n",
    "This workspace contains a tiny subset (128MB) of the full dataset available (12GB). Feel free to use this workspace to build your project, or to explore a smaller subset with Spark before deploying your cluster on the cloud. Instructions for setting up your Spark cluster is included in the last lesson of the Extracurricular Spark Course content.\n",
    "\n",
    "You can follow the steps below to guide your data analysis and model building portion of this project."
   ]
  },
  {
   "cell_type": "code",
   "execution_count": 292,
   "metadata": {},
   "outputs": [],
   "source": [
    "# import libraries\n",
    "from pyspark.sql import SparkSession\n",
    "from pyspark.sql.types import *\n",
    "import pyspark.sql.functions as F\n",
    "from pyspark.sql.window import Window\n",
    "import pandas as pd\n",
    "import numpy as np\n",
    "import matplotlib.pyplot as plt\n",
    "from datetime import datetime\n",
    "import re"
   ]
  },
  {
   "cell_type": "code",
   "execution_count": 11,
   "metadata": {},
   "outputs": [],
   "source": [
    "# create a Spark session\n",
    "spark = SparkSession.builder.appName('sparkify').getOrCreate()"
   ]
  },
  {
   "cell_type": "markdown",
   "metadata": {},
   "source": [
    "# Load and Clean Dataset\n",
    "In this workspace, the mini-dataset file is `mini_sparkify_event_data.json`. Load and clean the dataset, checking for invalid or missing data - for example, records without userids or sessionids. "
   ]
  },
  {
   "cell_type": "markdown",
   "metadata": {},
   "source": [
    "## Load Data"
   ]
  },
  {
   "cell_type": "code",
   "execution_count": 374,
   "metadata": {},
   "outputs": [],
   "source": [
    "path = \"mini_sparkify_event_data.json\"\n",
    "user_log = spark.read.json(path)"
   ]
  },
  {
   "cell_type": "code",
   "execution_count": 29,
   "metadata": {},
   "outputs": [
    {
     "data": {
      "text/plain": [
       "[Row(artist='Martha Tilston', auth='Logged In', firstName='Colin', gender='M', itemInSession=50, lastName='Freeman', length=277.89016, level='paid', location='Bakersfield, CA', method='PUT', page='NextSong', registration=1538173362000, sessionId=29, song='Rockpools', status=200, ts=1538352117000, userAgent='Mozilla/5.0 (Windows NT 6.1; WOW64; rv:31.0) Gecko/20100101 Firefox/31.0', userId='30'),\n",
       " Row(artist='Five Iron Frenzy', auth='Logged In', firstName='Micah', gender='M', itemInSession=79, lastName='Long', length=236.09424, level='free', location='Boston-Cambridge-Newton, MA-NH', method='PUT', page='NextSong', registration=1538331630000, sessionId=8, song='Canada', status=200, ts=1538352180000, userAgent='\"Mozilla/5.0 (Windows NT 6.1; WOW64) AppleWebKit/537.36 (KHTML, like Gecko) Chrome/37.0.2062.103 Safari/537.36\"', userId='9'),\n",
       " Row(artist='Adam Lambert', auth='Logged In', firstName='Colin', gender='M', itemInSession=51, lastName='Freeman', length=282.8273, level='paid', location='Bakersfield, CA', method='PUT', page='NextSong', registration=1538173362000, sessionId=29, song='Time For Miracles', status=200, ts=1538352394000, userAgent='Mozilla/5.0 (Windows NT 6.1; WOW64; rv:31.0) Gecko/20100101 Firefox/31.0', userId='30')]"
      ]
     },
     "execution_count": 29,
     "metadata": {},
     "output_type": "execute_result"
    }
   ],
   "source": [
    "user_log.take(3)"
   ]
  },
  {
   "cell_type": "markdown",
   "metadata": {},
   "source": [
    "## Data Types"
   ]
  },
  {
   "cell_type": "code",
   "execution_count": 31,
   "metadata": {},
   "outputs": [
    {
     "name": "stdout",
     "output_type": "stream",
     "text": [
      "root\n",
      " |-- artist: string (nullable = true)\n",
      " |-- auth: string (nullable = true)\n",
      " |-- firstName: string (nullable = true)\n",
      " |-- gender: string (nullable = true)\n",
      " |-- itemInSession: long (nullable = true)\n",
      " |-- lastName: string (nullable = true)\n",
      " |-- length: double (nullable = true)\n",
      " |-- level: string (nullable = true)\n",
      " |-- location: string (nullable = true)\n",
      " |-- method: string (nullable = true)\n",
      " |-- page: string (nullable = true)\n",
      " |-- registration: long (nullable = true)\n",
      " |-- sessionId: long (nullable = true)\n",
      " |-- song: string (nullable = true)\n",
      " |-- status: long (nullable = true)\n",
      " |-- ts: long (nullable = true)\n",
      " |-- userAgent: string (nullable = true)\n",
      " |-- userId: string (nullable = true)\n",
      "\n"
     ]
    }
   ],
   "source": [
    "user_log.printSchema()"
   ]
  },
  {
   "cell_type": "code",
   "execution_count": 375,
   "metadata": {},
   "outputs": [
    {
     "data": {
      "text/plain": [
       "[Row(userid='')]"
      ]
     },
     "execution_count": 375,
     "metadata": {},
     "output_type": "execute_result"
    }
   ],
   "source": [
    "user_log.filter('userid not rlike \"[0-9]+\"').select('userid').dropDuplicates().collect()"
   ]
  },
  {
   "cell_type": "code",
   "execution_count": 33,
   "metadata": {},
   "outputs": [
    {
     "data": {
      "text/plain": [
       "[Row(auth='Logged Out'), Row(auth='Guest')]"
      ]
     },
     "execution_count": 33,
     "metadata": {},
     "output_type": "execute_result"
    }
   ],
   "source": [
    "user_log.filter(user_log.userId == \"\").select('auth').dropDuplicates().collect()"
   ]
  },
  {
   "cell_type": "code",
   "execution_count": 376,
   "metadata": {},
   "outputs": [],
   "source": [
    "user_log = user_log.withColumn(\"userId\", user_log[\"userId\"].cast(types.IntegerType()))"
   ]
  },
  {
   "cell_type": "markdown",
   "metadata": {},
   "source": [
    "All columns have appropriate data types, except the `userId` column. I convert the variable from string to integer. By doing so, empty strings (as used for events from unregistered users) will become missing values."
   ]
  },
  {
   "cell_type": "markdown",
   "metadata": {},
   "source": [
    "## Missing values"
   ]
  },
  {
   "cell_type": "code",
   "execution_count": 35,
   "metadata": {},
   "outputs": [],
   "source": [
    "def count_missing_values(df):\n",
    "    \"\"\" Counts missing values for each column of df \"\"\"\n",
    "    \n",
    "    missings = df.select([\n",
    "        F.count(F.when(F.isnull(col) | F.isnan(col), 1)).alias(col) for col in df.columns\n",
    "    ])\n",
    "    \n",
    "    return missings"
   ]
  },
  {
   "cell_type": "code",
   "execution_count": 36,
   "metadata": {},
   "outputs": [
    {
     "name": "stdout",
     "output_type": "stream",
     "text": [
      "[Row(artist=58392, auth=0, firstName=8346, gender=8346, itemInSession=0, lastName=8346, length=58392, level=0, location=8346, method=0, page=0, registration=8346, sessionId=0, song=58392, status=0, ts=0, userAgent=8346, userId=8346)]\n"
     ]
    }
   ],
   "source": [
    "print(count_missing_values(user_log).collect())"
   ]
  },
  {
   "cell_type": "code",
   "execution_count": 37,
   "metadata": {},
   "outputs": [
    {
     "name": "stdout",
     "output_type": "stream",
     "text": [
      "[Row(artist=50046, auth=0, firstName=0, gender=0, itemInSession=0, lastName=0, length=50046, level=0, location=0, method=0, page=0, registration=0, sessionId=0, song=50046, status=0, ts=0, userAgent=0, userId=0)]\n"
     ]
    }
   ],
   "source": [
    "cond1 = (user_log.userId.isNotNull())\n",
    "print(count_missing_values(user_log.filter(cond1)).collect())"
   ]
  },
  {
   "cell_type": "code",
   "execution_count": 38,
   "metadata": {},
   "outputs": [
    {
     "name": "stdout",
     "output_type": "stream",
     "text": [
      "[Row(artist=0, auth=0, firstName=0, gender=0, itemInSession=0, lastName=0, length=0, level=0, location=0, method=0, page=0, registration=0, sessionId=0, song=0, status=0, ts=0, userAgent=0, userId=0)]\n"
     ]
    }
   ],
   "source": [
    "cond2 = (user_log.page == \"NextSong\")\n",
    "print(count_missing_values(user_log.filter(cond1 & cond2)).collect())"
   ]
  },
  {
   "cell_type": "markdown",
   "metadata": {},
   "source": [
    "There seems to be no major issue with missing values. Missing values occur in user specific variables (`firstName`, `gender`, `lastName`, `location`, `registration`, `userAgent`) only for events of unregistered users (for which holds `userId == None`), as well as in song specific variables (`artist`, `length`, `song`) for not song-related events (for which holds `page != \"NextSong\"`). "
   ]
  },
  {
   "cell_type": "code",
   "execution_count": 377,
   "metadata": {},
   "outputs": [],
   "source": [
    "user_log = user_log.filter(user_log.userId.isNotNull())"
   ]
  },
  {
   "cell_type": "markdown",
   "metadata": {},
   "source": [
    "Since we are only interested in the behavior of registered users for the purpose of churn prediction, I will drop events of unregistered users for the further analysis."
   ]
  },
  {
   "cell_type": "markdown",
   "metadata": {},
   "source": [
    "# Exploratory Data Analysis\n",
    "When you're working with the full dataset, perform EDA by loading a small subset of the data and doing basic manipulations within Spark. In this workspace, you are already provided a small subset of data you can explore.\n",
    "\n",
    "### Define Churn\n",
    "\n",
    "Once you've done some preliminary analysis, create a column `Churn` to use as the label for your model. I suggest using the `Cancellation Confirmation` events to define your churn, which happen for both paid and free users. As a bonus task, you can also look into the `Downgrade` events.\n",
    "\n",
    "### Explore Data\n",
    "Once you've defined churn, perform some exploratory data analysis to observe the behavior for users who stayed vs users who churned. You can start by exploring aggregates on these two groups of users, observing how much of a specific action they experienced per a certain time unit or number of songs played."
   ]
  },
  {
   "cell_type": "code",
   "execution_count": 147,
   "metadata": {},
   "outputs": [
    {
     "data": {
      "text/plain": [
       "[Row(artist='Martha Tilston', auth='Logged In', firstName='Colin', gender='M', itemInSession=50, lastName='Freeman', length=277.89016, level='paid', location='Bakersfield, CA', method='PUT', page='NextSong', registration=1538173362000, sessionId=29, song='Rockpools', status=200, ts=1538352117000, userAgent='Mozilla/5.0 (Windows NT 6.1; WOW64; rv:31.0) Gecko/20100101 Firefox/31.0', userId='30')]"
      ]
     },
     "execution_count": 147,
     "metadata": {},
     "output_type": "execute_result"
    }
   ],
   "source": [
    "user_log.take(1)"
   ]
  },
  {
   "cell_type": "code",
   "execution_count": 176,
   "metadata": {},
   "outputs": [
    {
     "name": "stdout",
     "output_type": "stream",
     "text": [
      "Number of unique values per column:\n",
      "userId    :        225\n",
      "sessionId :       2312\n",
      "location  :        114\n",
      "artist    :      17656\n",
      "song      :      58481\n"
     ]
    }
   ],
   "source": [
    "# Number of unique values per column\n",
    "def count_unique(df, col):\n",
    "    \"\"\" Counts number of unique values of col in df \"\"\"\n",
    "\n",
    "    return df.select(col).dropDuplicates().count()\n",
    "\n",
    "cols = ['userId', 'sessionId', 'location', 'artist', 'song']\n",
    "print(\"Number of unique values per column:\")\n",
    "for col in cols:\n",
    "    print(\"{0:<10}: {1:>10}\".format(col, count_unique(user_log, col)))"
   ]
  },
  {
   "cell_type": "code",
   "execution_count": 197,
   "metadata": {},
   "outputs": [
    {
     "data": {
      "image/png": "[encoded data removed]",
      "text/plain": [
       "<Figure size 576x288 with 1 Axes>"
      ]
     },
     "metadata": {
      "needs_background": "light"
     },
     "output_type": "display_data"
    }
   ],
   "source": [
    "# Number of sessions per user\n",
    "num_sessions_per_user = user_log.groupBy('userId').agg(F.countDistinct('sessionId').alias('num_sessions')).toPandas()\n",
    "plt.figure(figsize=(8, 4))\n",
    "plt.title(\"Number of sessions per user\")\n",
    "num_sessions_per_user['num_sessions'].hist(bins=30)\n",
    "plt.xlabel(\"Number of sessions per user\")\n",
    "plt.ylabel(\"Number of users\")\n",
    "plt.grid(None)\n",
    "plt.show()"
   ]
  },
  {
   "cell_type": "code",
   "execution_count": 198,
   "metadata": {},
   "outputs": [
    {
     "data": {
      "image/png": "[encoded data removed]",
      "text/plain": [
       "<Figure size 576x288 with 1 Axes>"
      ]
     },
     "metadata": {
      "needs_background": "light"
     },
     "output_type": "display_data"
    }
   ],
   "source": [
    "# Number of songs per session\n",
    "num_songs_per_session = user_log.groupBy('sessionId').agg(F.sum(F.when(F.col('page') == 'NextSong', 1).otherwise(0)).alias('num_songs')).toPandas()\n",
    "plt.figure(figsize=(8, 4))\n",
    "plt.title(\"Number of songs per session\")\n",
    "num_songs_per_session['num_songs'].hist(bins=30)\n",
    "plt.xlabel(\"Number of songs per session\")\n",
    "plt.ylabel(\"Number of session\")\n",
    "plt.grid(None)\n",
    "plt.show()"
   ]
  },
  {
   "cell_type": "code",
   "execution_count": 200,
   "metadata": {},
   "outputs": [
    {
     "data": {
      "image/png": "[encoded data removed]",
      "text/plain": [
       "<Figure size 576x432 with 1 Axes>"
      ]
     },
     "metadata": {
      "needs_background": "light"
     },
     "output_type": "display_data"
    }
   ],
   "source": [
    "# Pages\n",
    "num_events_per_page = user_log.groupBy('page').count().toPandas().sort_values('count')\n",
    "plt.figure(figsize=(8, 6))\n",
    "plt.title(\"Number of events per page\")\n",
    "plt.barh(num_events_per_page['page'], num_events_per_page['count'])\n",
    "plt.xlabel(\"Number of events\")\n",
    "plt.show()"
   ]
  },
  {
   "cell_type": "code",
   "execution_count": 201,
   "metadata": {},
   "outputs": [
    {
     "data": {
      "image/png": "[encoded data removed]",
      "text/plain": [
       "<Figure size 576x432 with 1 Axes>"
      ]
     },
     "metadata": {
      "needs_background": "light"
     },
     "output_type": "display_data"
    }
   ],
   "source": [
    "# Pages without 'NextSong'\n",
    "num_events_per_page_nosongs = num_events_per_page[num_events_per_page.page!='NextSong']\n",
    "plt.figure(figsize=(8, 6))\n",
    "plt.title(\"Number of events per page (without song pages)\")\n",
    "plt.barh(num_events_per_page_nosongs['page'], num_events_per_page_nosongs['count'])\n",
    "plt.xlabel(\"Number of events\")\n",
    "plt.show()"
   ]
  },
  {
   "cell_type": "code",
   "execution_count": 206,
   "metadata": {},
   "outputs": [
    {
     "data": {
      "text/plain": [
       "Timestamp('2018-03-18 13:44:35')"
      ]
     },
     "execution_count": 206,
     "metadata": {},
     "output_type": "execute_result"
    }
   ],
   "source": [
    "# We do not have the full history of users !!!\n",
    "pd.to_datetime(user_log.select('registration').toPandas()['registration'], unit='ms').min()"
   ]
  },
  {
   "cell_type": "code",
   "execution_count": 215,
   "metadata": {},
   "outputs": [
    {
     "data": {
      "text/html": [
       "<div>\n",
       "<style scoped>\n",
       "    .dataframe tbody tr th:only-of-type {\n",
       "        vertical-align: middle;\n",
       "    }\n",
       "\n",
       "    .dataframe tbody tr th {\n",
       "        vertical-align: top;\n",
       "    }\n",
       "\n",
       "    .dataframe thead th {\n",
       "        text-align: right;\n",
       "    }\n",
       "</style>\n",
       "<table border=\"1\" class=\"dataframe\">\n",
       "  <thead>\n",
       "    <tr style=\"text-align: right;\">\n",
       "      <th></th>\n",
       "      <th>gender</th>\n",
       "      <th>num_users</th>\n",
       "    </tr>\n",
       "  </thead>\n",
       "  <tbody>\n",
       "    <tr>\n",
       "      <th>0</th>\n",
       "      <td>F</td>\n",
       "      <td>104</td>\n",
       "    </tr>\n",
       "    <tr>\n",
       "      <th>1</th>\n",
       "      <td>M</td>\n",
       "      <td>121</td>\n",
       "    </tr>\n",
       "  </tbody>\n",
       "</table>\n",
       "</div>"
      ],
      "text/plain": [
       "  gender  num_users\n",
       "0      F        104\n",
       "1      M        121"
      ]
     },
     "execution_count": 215,
     "metadata": {},
     "output_type": "execute_result"
    }
   ],
   "source": [
    "num_users_per_gender"
   ]
  },
  {
   "cell_type": "code",
   "execution_count": 217,
   "metadata": {},
   "outputs": [
    {
     "data": {
      "image/png": "[encoded data removed]",
      "text/plain": [
       "<Figure size 432x288 with 1 Axes>"
      ]
     },
     "metadata": {
      "needs_background": "light"
     },
     "output_type": "display_data"
    }
   ],
   "source": [
    "# Number of users per gender\n",
    "num_users_per_gender = user_log.groupBy('gender').agg(F.countDistinct(F.col('userId')).alias('num_users')).toPandas()\n",
    "plt.figure()\n",
    "plt.title(\"Number of users per gender\")\n",
    "plt.bar(['female', 'male'], [num_users_per_gender[num_users_per_gender.gender=='F'].num_users.iloc[0],\n",
    "                             num_users_per_gender[num_users_per_gender.gender=='M'].num_users.iloc[0]])\n",
    "plt.show()"
   ]
  },
  {
   "cell_type": "code",
   "execution_count": 378,
   "metadata": {},
   "outputs": [],
   "source": [
    "# Create date features\n",
    "get_date = F.udf(lambda x: datetime.fromtimestamp(x/1000).strftime('%Y-%m-%d'), DateType())\n",
    "get_hour = F.udf(lambda x: datetime.fromtimestamp(x/1000).hour, IntegerType())\n",
    "get_day = F.udf(lambda x: datetime.fromtimestamp(x/1000).day, IntegerType())\n",
    "get_weekday = F.udf(lambda x: datetime.fromtimestamp(x/1000).strftime('%w'), IntegerType())\n",
    "get_month = F.udf(lambda x: datetime.fromtimestamp(x/1000).month, IntegerType())\n",
    "\n",
    "d = {'date': get_date, 'hour': get_hour, 'day': get_day, 'weekday': get_weekday, 'month': get_month}\n",
    "\n",
    "for colname, func in d.items():\n",
    "    \n",
    "    user_log = user_log.withColumn(colname, func('ts'))"
   ]
  },
  {
   "cell_type": "code",
   "execution_count": 379,
   "metadata": {},
   "outputs": [],
   "source": [
    "# Create location features\n",
    "get_city = F.udf(lambda x: x.split(', ')[0], StringType())\n",
    "get_state = F.udf(lambda x: x.split(', ')[1], StringType())\n",
    "user_log = user_log.withColumn('city', get_city('location'))\n",
    "user_log = user_log.withColumn('state', get_state('location'))"
   ]
  },
  {
   "cell_type": "code",
   "execution_count": 244,
   "metadata": {},
   "outputs": [
    {
     "name": "stdout",
     "output_type": "stream",
     "text": [
      "+------+\n",
      "|method|\n",
      "+------+\n",
      "|   PUT|\n",
      "|   GET|\n",
      "+------+\n",
      "\n"
     ]
    }
   ],
   "source": [
    "user_log.select('method').dropDuplicates().show()"
   ]
  },
  {
   "cell_type": "code",
   "execution_count": 245,
   "metadata": {},
   "outputs": [
    {
     "name": "stdout",
     "output_type": "stream",
     "text": [
      "+-----+\n",
      "|level|\n",
      "+-----+\n",
      "| free|\n",
      "| paid|\n",
      "+-----+\n",
      "\n"
     ]
    }
   ],
   "source": [
    "user_log.select('level').dropDuplicates().show()"
   ]
  },
  {
   "cell_type": "code",
   "execution_count": 380,
   "metadata": {},
   "outputs": [],
   "source": [
    "# Create os feature\n",
    "mapper_os = {'Windows NT 6.1': 'Windows', 'Macintosh': 'Mac', 'Windows NT 6.0': 'Windows', \n",
    "             'Windows NT 6.2': 'Windows', 'iPhone': 'Mac', 'Windows NT 6.3': 'Windows', \n",
    "             'iPad': 'Mac', 'compatible': 'Windows', 'X11': 'Linux', \n",
    "             'Windows NT 5.1': 'Windows'}\n",
    "\n",
    "get_os = F.udf(lambda x: mapper_os[ re.findall(r'\\((.+?)\\)', x)[0].split(';')[0] ], StringType() )\n",
    "get_mobile = F.udf(lambda x: 1 if re.findall(r'\\((.+?)\\)', x)[0].split(';')[0] in ('iPhone', 'iPad') else 0, IntegerType() )\n",
    "user_log = user_log.withColumn('os', get_os('userAgent'))\n",
    "user_log = user_log.withColumn('mobile', get_mobile('userAgent'))"
   ]
  },
  {
   "cell_type": "code",
   "execution_count": 287,
   "metadata": {},
   "outputs": [],
   "source": [
    "df = user_log.toPandas()"
   ]
  },
  {
   "cell_type": "code",
   "execution_count": 290,
   "metadata": {},
   "outputs": [
    {
     "data": {
      "text/plain": [
       "Windows    143871\n",
       "Mac        125322\n",
       "Linux        8961\n",
       "Name: os, dtype: int64"
      ]
     },
     "execution_count": 290,
     "metadata": {},
     "output_type": "execute_result"
    }
   ],
   "source": [
    "df.os.value_counts()"
   ]
  },
  {
   "cell_type": "code",
   "execution_count": 283,
   "metadata": {},
   "outputs": [
    {
     "data": {
      "text/plain": [
       "0.08115288653048311"
      ]
     },
     "execution_count": 283,
     "metadata": {},
     "output_type": "execute_result"
    }
   ],
   "source": [
    "df.mobile.astype('int').mean()"
   ]
  },
  {
   "cell_type": "code",
   "execution_count": 291,
   "metadata": {},
   "outputs": [
    {
     "data": {
      "text/plain": [
       "200    254718\n",
       "307     23184\n",
       "404       252\n",
       "Name: status, dtype: int64"
      ]
     },
     "execution_count": 291,
     "metadata": {},
     "output_type": "execute_result"
    }
   ],
   "source": [
    "df.status.value_counts()"
   ]
  },
  {
   "cell_type": "code",
   "execution_count": 511,
   "metadata": {},
   "outputs": [
    {
     "data": {
      "text/html": [
       "<div>\n",
       "<style scoped>\n",
       "    .dataframe tbody tr th:only-of-type {\n",
       "        vertical-align: middle;\n",
       "    }\n",
       "\n",
       "    .dataframe tbody tr th {\n",
       "        vertical-align: top;\n",
       "    }\n",
       "\n",
       "    .dataframe thead th {\n",
       "        text-align: right;\n",
       "    }\n",
       "</style>\n",
       "<table border=\"1\" class=\"dataframe\">\n",
       "  <thead>\n",
       "    <tr style=\"text-align: right;\">\n",
       "      <th></th>\n",
       "      <th>artist</th>\n",
       "      <th>auth</th>\n",
       "      <th>firstName</th>\n",
       "      <th>gender</th>\n",
       "      <th>itemInSession</th>\n",
       "      <th>lastName</th>\n",
       "      <th>length</th>\n",
       "      <th>level</th>\n",
       "      <th>location</th>\n",
       "      <th>method</th>\n",
       "      <th>page</th>\n",
       "      <th>registration</th>\n",
       "      <th>sessionId</th>\n",
       "      <th>song</th>\n",
       "      <th>status</th>\n",
       "      <th>ts</th>\n",
       "      <th>userAgent</th>\n",
       "      <th>userId</th>\n",
       "    </tr>\n",
       "  </thead>\n",
       "  <tbody>\n",
       "    <tr>\n",
       "      <th>0</th>\n",
       "      <td>Martha Tilston</td>\n",
       "      <td>Logged In</td>\n",
       "      <td>Colin</td>\n",
       "      <td>M</td>\n",
       "      <td>50</td>\n",
       "      <td>Freeman</td>\n",
       "      <td>277.89016</td>\n",
       "      <td>paid</td>\n",
       "      <td>Bakersfield, CA</td>\n",
       "      <td>PUT</td>\n",
       "      <td>NextSong</td>\n",
       "      <td>1.538173e+12</td>\n",
       "      <td>29</td>\n",
       "      <td>Rockpools</td>\n",
       "      <td>200</td>\n",
       "      <td>1538352117000</td>\n",
       "      <td>Mozilla/5.0 (Windows NT 6.1; WOW64; rv:31.0) G...</td>\n",
       "      <td>30</td>\n",
       "    </tr>\n",
       "    <tr>\n",
       "      <th>1</th>\n",
       "      <td>Five Iron Frenzy</td>\n",
       "      <td>Logged In</td>\n",
       "      <td>Micah</td>\n",
       "      <td>M</td>\n",
       "      <td>79</td>\n",
       "      <td>Long</td>\n",
       "      <td>236.09424</td>\n",
       "      <td>free</td>\n",
       "      <td>Boston-Cambridge-Newton, MA-NH</td>\n",
       "      <td>PUT</td>\n",
       "      <td>NextSong</td>\n",
       "      <td>1.538332e+12</td>\n",
       "      <td>8</td>\n",
       "      <td>Canada</td>\n",
       "      <td>200</td>\n",
       "      <td>1538352180000</td>\n",
       "      <td>\"Mozilla/5.0 (Windows NT 6.1; WOW64) AppleWebK...</td>\n",
       "      <td>9</td>\n",
       "    </tr>\n",
       "    <tr>\n",
       "      <th>2</th>\n",
       "      <td>Adam Lambert</td>\n",
       "      <td>Logged In</td>\n",
       "      <td>Colin</td>\n",
       "      <td>M</td>\n",
       "      <td>51</td>\n",
       "      <td>Freeman</td>\n",
       "      <td>282.82730</td>\n",
       "      <td>paid</td>\n",
       "      <td>Bakersfield, CA</td>\n",
       "      <td>PUT</td>\n",
       "      <td>NextSong</td>\n",
       "      <td>1.538173e+12</td>\n",
       "      <td>29</td>\n",
       "      <td>Time For Miracles</td>\n",
       "      <td>200</td>\n",
       "      <td>1538352394000</td>\n",
       "      <td>Mozilla/5.0 (Windows NT 6.1; WOW64; rv:31.0) G...</td>\n",
       "      <td>30</td>\n",
       "    </tr>\n",
       "    <tr>\n",
       "      <th>3</th>\n",
       "      <td>Enigma</td>\n",
       "      <td>Logged In</td>\n",
       "      <td>Micah</td>\n",
       "      <td>M</td>\n",
       "      <td>80</td>\n",
       "      <td>Long</td>\n",
       "      <td>262.71302</td>\n",
       "      <td>free</td>\n",
       "      <td>Boston-Cambridge-Newton, MA-NH</td>\n",
       "      <td>PUT</td>\n",
       "      <td>NextSong</td>\n",
       "      <td>1.538332e+12</td>\n",
       "      <td>8</td>\n",
       "      <td>Knocking On Forbidden Doors</td>\n",
       "      <td>200</td>\n",
       "      <td>1538352416000</td>\n",
       "      <td>\"Mozilla/5.0 (Windows NT 6.1; WOW64) AppleWebK...</td>\n",
       "      <td>9</td>\n",
       "    </tr>\n",
       "    <tr>\n",
       "      <th>4</th>\n",
       "      <td>Daft Punk</td>\n",
       "      <td>Logged In</td>\n",
       "      <td>Colin</td>\n",
       "      <td>M</td>\n",
       "      <td>52</td>\n",
       "      <td>Freeman</td>\n",
       "      <td>223.60771</td>\n",
       "      <td>paid</td>\n",
       "      <td>Bakersfield, CA</td>\n",
       "      <td>PUT</td>\n",
       "      <td>NextSong</td>\n",
       "      <td>1.538173e+12</td>\n",
       "      <td>29</td>\n",
       "      <td>Harder Better Faster Stronger</td>\n",
       "      <td>200</td>\n",
       "      <td>1538352676000</td>\n",
       "      <td>Mozilla/5.0 (Windows NT 6.1; WOW64; rv:31.0) G...</td>\n",
       "      <td>30</td>\n",
       "    </tr>\n",
       "  </tbody>\n",
       "</table>\n",
       "</div>"
      ],
      "text/plain": [
       "             artist       auth firstName gender  itemInSession lastName  \\\n",
       "0    Martha Tilston  Logged In     Colin      M             50  Freeman   \n",
       "1  Five Iron Frenzy  Logged In     Micah      M             79     Long   \n",
       "2      Adam Lambert  Logged In     Colin      M             51  Freeman   \n",
       "3            Enigma  Logged In     Micah      M             80     Long   \n",
       "4         Daft Punk  Logged In     Colin      M             52  Freeman   \n",
       "\n",
       "      length level                        location method      page  \\\n",
       "0  277.89016  paid                 Bakersfield, CA    PUT  NextSong   \n",
       "1  236.09424  free  Boston-Cambridge-Newton, MA-NH    PUT  NextSong   \n",
       "2  282.82730  paid                 Bakersfield, CA    PUT  NextSong   \n",
       "3  262.71302  free  Boston-Cambridge-Newton, MA-NH    PUT  NextSong   \n",
       "4  223.60771  paid                 Bakersfield, CA    PUT  NextSong   \n",
       "\n",
       "   registration  sessionId                           song  status  \\\n",
       "0  1.538173e+12         29                      Rockpools     200   \n",
       "1  1.538332e+12          8                         Canada     200   \n",
       "2  1.538173e+12         29              Time For Miracles     200   \n",
       "3  1.538332e+12          8    Knocking On Forbidden Doors     200   \n",
       "4  1.538173e+12         29  Harder Better Faster Stronger     200   \n",
       "\n",
       "              ts                                          userAgent userId  \n",
       "0  1538352117000  Mozilla/5.0 (Windows NT 6.1; WOW64; rv:31.0) G...     30  \n",
       "1  1538352180000  \"Mozilla/5.0 (Windows NT 6.1; WOW64) AppleWebK...      9  \n",
       "2  1538352394000  Mozilla/5.0 (Windows NT 6.1; WOW64; rv:31.0) G...     30  \n",
       "3  1538352416000  \"Mozilla/5.0 (Windows NT 6.1; WOW64) AppleWebK...      9  \n",
       "4  1538352676000  Mozilla/5.0 (Windows NT 6.1; WOW64; rv:31.0) G...     30  "
      ]
     },
     "execution_count": 511,
     "metadata": {},
     "output_type": "execute_result"
    }
   ],
   "source": [
    "user_log.toPandas().head(5)"
   ]
  },
  {
   "cell_type": "code",
   "execution_count": 381,
   "metadata": {},
   "outputs": [],
   "source": [
    "# Mark churn users\n",
    "user_log = user_log.withColumn('churn', F.when(F.col('page') == \"Cancellation Confirmation\", 1 ).otherwise(0))\n",
    "window_var = Window().partitionBy('userId')\n",
    "user_log = user_log.withColumn('churn', F.max(F.col('churn')).over(window_var))"
   ]
  },
  {
   "cell_type": "code",
   "execution_count": 97,
   "metadata": {},
   "outputs": [
    {
     "name": "stdout",
     "output_type": "stream",
     "text": [
      "+--------------------+\n",
      "|           last_page|\n",
      "+--------------------+\n",
      "|Cancellation Conf...|\n",
      "+--------------------+\n",
      "\n"
     ]
    }
   ],
   "source": [
    "# Is the cancellation event indeed the last events of churn users?\n",
    "user_log.filter(user_log.churn == 1).orderBy('ts').groupby('userId')\\\n",
    "    .agg(F.last('page').alias('last_page')).select('last_page').dropDuplicates()\\\n",
    "    .show()"
   ]
  },
  {
   "cell_type": "code",
   "execution_count": 100,
   "metadata": {},
   "outputs": [
    {
     "data": {
      "text/plain": [
       "[Row(artist=None, auth='Logged In', firstName='Evan', gender='M', itemInSession=0, lastName='Spencer', length=None, level='free', location='Miami-Fort Lauderdale-West Palm Beach, FL', method='GET', page='Home', registration=1537531076000, sessionId=147, song=None, status=200, ts=1538805488000, userAgent='Mozilla/5.0 (Windows NT 6.1; WOW64; rv:31.0) Gecko/20100101 Firefox/31.0', userId=148, churn=0, prediction_ts=1543799476000)]"
      ]
     },
     "execution_count": 100,
     "metadata": {},
     "output_type": "execute_result"
    }
   ],
   "source": [
    "user_log.take(1)"
   ]
  },
  {
   "cell_type": "code",
   "execution_count": 138,
   "metadata": {},
   "outputs": [],
   "source": [
    "# Mark pre periods\n",
    "ms_per_day = 86400*1000\n",
    "user_log = user_log.withColumn('pre_3_days', F.when(F.col('ts').between(F.col('prediction_ts')-3*ms_per_day, F.col('prediction_ts')), 1).otherwise(0) )\n",
    "user_log = user_log.withColumn('pre_7_days', F.when(F.col('ts').between(F.col('prediction_ts')-7*ms_per_day, F.col('prediction_ts')), 1).otherwise(0) )\n",
    "user_log = user_log.withColumn('pre_21_days', F.when(F.col('ts').between(F.col('prediction_ts')-21*ms_per_day, F.col('prediction_ts')), 1).otherwise(0) )"
   ]
  },
  {
   "cell_type": "code",
   "execution_count": 139,
   "metadata": {},
   "outputs": [
    {
     "data": {
      "text/plain": [
       "[Row(artist=None, auth='Logged In', firstName='Evan', gender='M', itemInSession=0, lastName='Spencer', length=None, level='free', location='Miami-Fort Lauderdale-West Palm Beach, FL', method='GET', page='Home', registration=1537531076000, sessionId=147, song=None, status=200, ts=1538805488000, userAgent='Mozilla/5.0 (Windows NT 6.1; WOW64; rv:31.0) Gecko/20100101 Firefox/31.0', userId=148, churn=0, prediction_ts=1543799476000, pre_3_days=0, pre_7_days=0, pre_21_days=0)]"
      ]
     },
     "execution_count": 139,
     "metadata": {},
     "output_type": "execute_result"
    }
   ],
   "source": [
    "user_log.take(1)"
   ]
  },
  {
   "cell_type": "code",
   "execution_count": 140,
   "metadata": {},
   "outputs": [],
   "source": [
    "# Get days since registration\n",
    "user_log = user_log.withColumn('days_since_registration', (F.col('prediction_ts') - F.col('registration')) / ms_per_day)"
   ]
  },
  {
   "cell_type": "code",
   "execution_count": null,
   "metadata": {},
   "outputs": [],
   "source": [
    "user_log.toPandas()"
   ]
  },
  {
   "cell_type": "code",
   "execution_count": null,
   "metadata": {},
   "outputs": [],
   "source": []
  },
  {
   "cell_type": "code",
   "execution_count": null,
   "metadata": {},
   "outputs": [],
   "source": []
  },
  {
   "cell_type": "code",
   "execution_count": 141,
   "metadata": {},
   "outputs": [],
   "source": [
    "df = user_log.toPandas()"
   ]
  },
  {
   "cell_type": "code",
   "execution_count": 134,
   "metadata": {},
   "outputs": [],
   "source": [
    "df['date'] = pd.to_datetime(df['ts'], unit='ms')"
   ]
  },
  {
   "cell_type": "code",
   "execution_count": 41,
   "metadata": {},
   "outputs": [
    {
     "name": "stdout",
     "output_type": "stream",
     "text": [
      "+-----+------+\n",
      "|churn| count|\n",
      "+-----+------+\n",
      "|    1| 44864|\n",
      "|    0|233290|\n",
      "+-----+------+\n",
      "\n"
     ]
    }
   ],
   "source": [
    "user_log.groupBy('churn').count().show()"
   ]
  },
  {
   "cell_type": "code",
   "execution_count": 42,
   "metadata": {},
   "outputs": [
    {
     "name": "stdout",
     "output_type": "stream",
     "text": [
      "+-----+-------------+\n",
      "|churn|count(userId)|\n",
      "+-----+-------------+\n",
      "|    1|           52|\n",
      "|    0|          173|\n",
      "+-----+-------------+\n",
      "\n"
     ]
    }
   ],
   "source": [
    "user_log.groupBy('churn').agg(F.countDistinct('userId')).show()"
   ]
  },
  {
   "cell_type": "code",
   "execution_count": null,
   "metadata": {},
   "outputs": [],
   "source": []
  },
  {
   "cell_type": "code",
   "execution_count": null,
   "metadata": {},
   "outputs": [],
   "source": [
    "# Mark churn users\n",
    "# Prediction date for churn users: last timestamp before begin of last session\n",
    "# Prediction date for not churn users: last overall timestamp "
   ]
  },
  {
   "cell_type": "markdown",
   "metadata": {},
   "source": [
    "# Feature Engineering\n",
    "Once you've familiarized yourself with the data, build out the features you find promising to train your model on. To work with the full dataset, you can follow the following steps.\n",
    "- Write a script to extract the necessary features from the smaller subset of data\n",
    "- Ensure that your script is scalable, using the best practices discussed in Lesson 3\n",
    "- Try your script on the full data set, debugging your script if necessary\n",
    "\n",
    "If you are working in the classroom workspace, you can just extract features based on the small subset of data contained here. Be sure to transfer over this work to the larger dataset when you work on your Spark cluster."
   ]
  },
  {
   "cell_type": "code",
   "execution_count": null,
   "metadata": {},
   "outputs": [],
   "source": [
    "# Churn users\n",
    "\n",
    "# gender\n",
    "# location\n",
    "# paid\n",
    "# os\n",
    "\n",
    "\n",
    "# Get timestamp of last event (cancellation)\n",
    "# Exclude last event\n",
    "# Calculate overall event counts\n",
    "# Calculate pre 3 days event counts\n",
    "# Calculate pre 7 days event counts\n",
    "# Calculate pre 21 days event counts\n",
    "# Days since registration\n",
    "# Days since downgrade\n",
    "# Average length of session\n",
    "\n",
    "# Event counts\n",
    "## Sessions\n",
    "## Pages\n",
    "## Errors\n",
    "## Artists\n",
    "## Songs\n",
    "## Mobile\n",
    "## Durchschnittliche Zeit zwischen zwei Sessions\n",
    "## Durchschnittliche Sessionlänge"
   ]
  },
  {
   "cell_type": "code",
   "execution_count": 507,
   "metadata": {},
   "outputs": [],
   "source": [
    "# Read the data\n",
    "path = \"mini_sparkify_event_data.json\"\n",
    "user_log = spark.read.json(path)"
   ]
  },
  {
   "cell_type": "code",
   "execution_count": 508,
   "metadata": {},
   "outputs": [],
   "source": [
    "def clean_user_log(user_log):\n",
    "    \"\"\" Prepares the user log data for the feature generation process \n",
    "    \n",
    "    Input:\n",
    "        user_log (DataFrame) - the original user log data\n",
    "        \n",
    "    Output:\n",
    "        DataFrame - cleansed user log data\n",
    "        \n",
    "    Note: The cleansing process among others involves the flagging of\n",
    "    churn users and the determination of an appropriate prediction\n",
    "    timestamp for each user. I provide further notes to the \n",
    "    modeling approach in the comments section.\n",
    "    \n",
    "    \"\"\"\n",
    "\n",
    "    # Cast userid column to integer and remove unregistered users\n",
    "    user_log = user_log.withColumn(\"userId\", user_log[\"userId\"].cast(types.IntegerType()))\n",
    "    user_log = user_log.filter(user_log.userId.isNotNull())\n",
    "    \n",
    "    # Flag churn events\n",
    "    user_log = user_log.withColumn('churn', F.when(F.col('page') == \"Cancellation Confirmation\", 1 ).otherwise(0))\n",
    "\n",
    "    # Enhance churn flags to all events of corresponding users\n",
    "    window_var = Window().partitionBy('userId')\n",
    "    user_log = user_log.withColumn('churn', F.max(F.col('churn')).over(window_var))\n",
    "    \n",
    "    # Remove cancellation events\n",
    "    user_log = user_log.filter(~F.col('page').isin([\"Cancellation Confirmation\", \"Cancel\"]))\n",
    "    \n",
    "    # Mark date of prediction for each user\n",
    "    prediction_date_nochurn = user_log.agg({'ts': 'max'}).collect()[0][0]\n",
    "    user_log = user_log.withColumn('prediction_ts',\\\n",
    "                                   F.when(F.col('churn') == 1, F.max(F.col('ts')).over(window_var))\\\n",
    "                                   .otherwise(prediction_date_nochurn))\n",
    "    \n",
    "    return user_log"
   ]
  },
  {
   "cell_type": "code",
   "execution_count": 513,
   "metadata": {},
   "outputs": [],
   "source": [
    "user_log_cleansed = clean_user_log(user_log)"
   ]
  },
  {
   "cell_type": "code",
   "execution_count": 514,
   "metadata": {},
   "outputs": [
    {
     "data": {
      "text/html": [
       "<div>\n",
       "<style scoped>\n",
       "    .dataframe tbody tr th:only-of-type {\n",
       "        vertical-align: middle;\n",
       "    }\n",
       "\n",
       "    .dataframe tbody tr th {\n",
       "        vertical-align: top;\n",
       "    }\n",
       "\n",
       "    .dataframe thead th {\n",
       "        text-align: right;\n",
       "    }\n",
       "</style>\n",
       "<table border=\"1\" class=\"dataframe\">\n",
       "  <thead>\n",
       "    <tr style=\"text-align: right;\">\n",
       "      <th></th>\n",
       "      <th>artist</th>\n",
       "      <th>auth</th>\n",
       "      <th>firstName</th>\n",
       "      <th>gender</th>\n",
       "      <th>itemInSession</th>\n",
       "      <th>lastName</th>\n",
       "      <th>length</th>\n",
       "      <th>level</th>\n",
       "      <th>location</th>\n",
       "      <th>method</th>\n",
       "      <th>page</th>\n",
       "      <th>registration</th>\n",
       "      <th>sessionId</th>\n",
       "      <th>song</th>\n",
       "      <th>status</th>\n",
       "      <th>ts</th>\n",
       "      <th>userAgent</th>\n",
       "      <th>userId</th>\n",
       "      <th>churn</th>\n",
       "      <th>prediction_ts</th>\n",
       "    </tr>\n",
       "  </thead>\n",
       "  <tbody>\n",
       "    <tr>\n",
       "      <th>0</th>\n",
       "      <td>None</td>\n",
       "      <td>Logged In</td>\n",
       "      <td>Evan</td>\n",
       "      <td>M</td>\n",
       "      <td>0</td>\n",
       "      <td>Spencer</td>\n",
       "      <td>NaN</td>\n",
       "      <td>free</td>\n",
       "      <td>Miami-Fort Lauderdale-West Palm Beach, FL</td>\n",
       "      <td>GET</td>\n",
       "      <td>Home</td>\n",
       "      <td>1537531076000</td>\n",
       "      <td>147</td>\n",
       "      <td>None</td>\n",
       "      <td>200</td>\n",
       "      <td>1538805488000</td>\n",
       "      <td>Mozilla/5.0 (Windows NT 6.1; WOW64; rv:31.0) G...</td>\n",
       "      <td>148</td>\n",
       "      <td>0</td>\n",
       "      <td>1543799476000</td>\n",
       "    </tr>\n",
       "    <tr>\n",
       "      <th>1</th>\n",
       "      <td>Blues Traveler</td>\n",
       "      <td>Logged In</td>\n",
       "      <td>Evan</td>\n",
       "      <td>M</td>\n",
       "      <td>1</td>\n",
       "      <td>Spencer</td>\n",
       "      <td>290.24608</td>\n",
       "      <td>free</td>\n",
       "      <td>Miami-Fort Lauderdale-West Palm Beach, FL</td>\n",
       "      <td>PUT</td>\n",
       "      <td>NextSong</td>\n",
       "      <td>1537531076000</td>\n",
       "      <td>147</td>\n",
       "      <td>Hook</td>\n",
       "      <td>200</td>\n",
       "      <td>1538805521000</td>\n",
       "      <td>Mozilla/5.0 (Windows NT 6.1; WOW64; rv:31.0) G...</td>\n",
       "      <td>148</td>\n",
       "      <td>0</td>\n",
       "      <td>1543799476000</td>\n",
       "    </tr>\n",
       "    <tr>\n",
       "      <th>2</th>\n",
       "      <td>Sheena Easton</td>\n",
       "      <td>Logged In</td>\n",
       "      <td>Evan</td>\n",
       "      <td>M</td>\n",
       "      <td>2</td>\n",
       "      <td>Spencer</td>\n",
       "      <td>239.62077</td>\n",
       "      <td>free</td>\n",
       "      <td>Miami-Fort Lauderdale-West Palm Beach, FL</td>\n",
       "      <td>PUT</td>\n",
       "      <td>NextSong</td>\n",
       "      <td>1537531076000</td>\n",
       "      <td>147</td>\n",
       "      <td>Strut (1993 Digital Remaster)</td>\n",
       "      <td>200</td>\n",
       "      <td>1538805811000</td>\n",
       "      <td>Mozilla/5.0 (Windows NT 6.1; WOW64; rv:31.0) G...</td>\n",
       "      <td>148</td>\n",
       "      <td>0</td>\n",
       "      <td>1543799476000</td>\n",
       "    </tr>\n",
       "    <tr>\n",
       "      <th>3</th>\n",
       "      <td>Andrew Bird</td>\n",
       "      <td>Logged In</td>\n",
       "      <td>Evan</td>\n",
       "      <td>M</td>\n",
       "      <td>3</td>\n",
       "      <td>Spencer</td>\n",
       "      <td>183.48363</td>\n",
       "      <td>free</td>\n",
       "      <td>Miami-Fort Lauderdale-West Palm Beach, FL</td>\n",
       "      <td>PUT</td>\n",
       "      <td>NextSong</td>\n",
       "      <td>1537531076000</td>\n",
       "      <td>147</td>\n",
       "      <td>Dora Goes To Town (Album Version)</td>\n",
       "      <td>200</td>\n",
       "      <td>1538806050000</td>\n",
       "      <td>Mozilla/5.0 (Windows NT 6.1; WOW64; rv:31.0) G...</td>\n",
       "      <td>148</td>\n",
       "      <td>0</td>\n",
       "      <td>1543799476000</td>\n",
       "    </tr>\n",
       "    <tr>\n",
       "      <th>4</th>\n",
       "      <td>Justin Bieber</td>\n",
       "      <td>Logged In</td>\n",
       "      <td>Evan</td>\n",
       "      <td>M</td>\n",
       "      <td>4</td>\n",
       "      <td>Spencer</td>\n",
       "      <td>234.91873</td>\n",
       "      <td>free</td>\n",
       "      <td>Miami-Fort Lauderdale-West Palm Beach, FL</td>\n",
       "      <td>PUT</td>\n",
       "      <td>NextSong</td>\n",
       "      <td>1537531076000</td>\n",
       "      <td>147</td>\n",
       "      <td>Up</td>\n",
       "      <td>200</td>\n",
       "      <td>1538806233000</td>\n",
       "      <td>Mozilla/5.0 (Windows NT 6.1; WOW64; rv:31.0) G...</td>\n",
       "      <td>148</td>\n",
       "      <td>0</td>\n",
       "      <td>1543799476000</td>\n",
       "    </tr>\n",
       "  </tbody>\n",
       "</table>\n",
       "</div>"
      ],
      "text/plain": [
       "           artist       auth firstName gender  itemInSession lastName  \\\n",
       "0            None  Logged In      Evan      M              0  Spencer   \n",
       "1  Blues Traveler  Logged In      Evan      M              1  Spencer   \n",
       "2   Sheena Easton  Logged In      Evan      M              2  Spencer   \n",
       "3     Andrew Bird  Logged In      Evan      M              3  Spencer   \n",
       "4   Justin Bieber  Logged In      Evan      M              4  Spencer   \n",
       "\n",
       "      length level                                   location method  \\\n",
       "0        NaN  free  Miami-Fort Lauderdale-West Palm Beach, FL    GET   \n",
       "1  290.24608  free  Miami-Fort Lauderdale-West Palm Beach, FL    PUT   \n",
       "2  239.62077  free  Miami-Fort Lauderdale-West Palm Beach, FL    PUT   \n",
       "3  183.48363  free  Miami-Fort Lauderdale-West Palm Beach, FL    PUT   \n",
       "4  234.91873  free  Miami-Fort Lauderdale-West Palm Beach, FL    PUT   \n",
       "\n",
       "       page   registration  sessionId                               song  \\\n",
       "0      Home  1537531076000        147                               None   \n",
       "1  NextSong  1537531076000        147                               Hook   \n",
       "2  NextSong  1537531076000        147      Strut (1993 Digital Remaster)   \n",
       "3  NextSong  1537531076000        147  Dora Goes To Town (Album Version)   \n",
       "4  NextSong  1537531076000        147                                 Up   \n",
       "\n",
       "   status             ts                                          userAgent  \\\n",
       "0     200  1538805488000  Mozilla/5.0 (Windows NT 6.1; WOW64; rv:31.0) G...   \n",
       "1     200  1538805521000  Mozilla/5.0 (Windows NT 6.1; WOW64; rv:31.0) G...   \n",
       "2     200  1538805811000  Mozilla/5.0 (Windows NT 6.1; WOW64; rv:31.0) G...   \n",
       "3     200  1538806050000  Mozilla/5.0 (Windows NT 6.1; WOW64; rv:31.0) G...   \n",
       "4     200  1538806233000  Mozilla/5.0 (Windows NT 6.1; WOW64; rv:31.0) G...   \n",
       "\n",
       "   userId  churn  prediction_ts  \n",
       "0     148      0  1543799476000  \n",
       "1     148      0  1543799476000  \n",
       "2     148      0  1543799476000  \n",
       "3     148      0  1543799476000  \n",
       "4     148      0  1543799476000  "
      ]
     },
     "execution_count": 514,
     "metadata": {},
     "output_type": "execute_result"
    }
   ],
   "source": [
    "user_log_cleansed.toPandas().head(5)"
   ]
  },
  {
   "cell_type": "code",
   "execution_count": 424,
   "metadata": {},
   "outputs": [],
   "source": [
    "def count_events_over_time(user_log):\n",
    "    \"\"\" Counts the events per user over various time periods. `Total` refers to the \n",
    "    time between registration and the prediction timestamp. `pre3`, `pre7` and `pre21`\n",
    "    refer to some time before the prediction timestamp (e.g. `pre3` gives the event\n",
    "    counts in the last three days before the prediction)\n",
    "    \n",
    "    Input:\n",
    "        user_log (DataFrame) - a DataFrame containing the cleansed user log data\n",
    "        \n",
    "    Output:\n",
    "        DataFrame - event counts per user and time period\n",
    "        \n",
    "    \"\"\"\n",
    "    \n",
    "    # Create flags for relevant time periods \n",
    "    ms_per_day = 86400*1000\n",
    "    user_log = user_log.withColumn('pre3', F.when(F.col('ts').between(F.col('prediction_ts')-3*ms_per_day, F.col('prediction_ts')), 1).otherwise(0) )\n",
    "    user_log = user_log.withColumn('pre7', F.when(F.col('ts').between(F.col('prediction_ts')-7*ms_per_day, F.col('prediction_ts')), 1).otherwise(0) )\n",
    "    user_log = user_log.withColumn('pre21', F.when(F.col('ts').between(F.col('prediction_ts')-21*ms_per_day, F.col('prediction_ts')), 1).otherwise(0) )\n",
    "\n",
    "    # Count the number of different events per user and time period\n",
    "    total = user_log.groupBy('userId').pivot('page').count()\n",
    "    total = total.select(*(F.col(x).alias(x + '_total') for x in total.columns))\n",
    "    pre3 = user_log.filter(F.col('pre3')==1).groupBy('userId').pivot('page').count()\n",
    "    pre3 = pre3.select(*(F.col(x).alias(x + '_pre3') for x in pre3.columns))\n",
    "    pre7 = user_log.filter(F.col('pre7')==1).groupBy('userId').pivot('page').count()\n",
    "    pre7 = pre7.select(*(F.col(x).alias(x + '_pre7') for x in pre7.columns))\n",
    "    pre21 = user_log.filter(F.col('pre21')==1).groupBy('userId').pivot('page').count()\n",
    "    pre21 = pre21.select(*(F.col(x).alias(x + '_pre21') for x in pre21.columns))\n",
    "    \n",
    "    # Merge the results into a single dataframe\n",
    "    event_counts = total.join(pre3, total.userId_total == pre3.userId_pre3, how='left')\\\n",
    "                    .join(pre7, total.userId_total == pre7.userId_pre7, how='left')\\\n",
    "                    .join(pre21, total.userId_total == pre21.userId_pre21, how='left')\n",
    "\n",
    "    # Clean columns and fill missing values with 0\n",
    "    event_counts = event_counts.withColumnRenamed('userId_total', 'userId')\n",
    "    cols_to_drop = ['userId_pre3', 'userId_pre7', 'userId_pre21']\n",
    "    event_counts = event_counts.drop(*cols_to_drop)\n",
    "    event_counts = event_counts.na.fill(0)\n",
    "\n",
    "    return event_counts"
   ]
  },
  {
   "cell_type": "code",
   "execution_count": 425,
   "metadata": {},
   "outputs": [],
   "source": [
    "event_counts = count_events_over_time(user_log_cleansed)"
   ]
  },
  {
   "cell_type": "code",
   "execution_count": 515,
   "metadata": {},
   "outputs": [
    {
     "data": {
      "text/html": [
       "<div>\n",
       "<style scoped>\n",
       "    .dataframe tbody tr th:only-of-type {\n",
       "        vertical-align: middle;\n",
       "    }\n",
       "\n",
       "    .dataframe tbody tr th {\n",
       "        vertical-align: top;\n",
       "    }\n",
       "\n",
       "    .dataframe thead th {\n",
       "        text-align: right;\n",
       "    }\n",
       "</style>\n",
       "<table border=\"1\" class=\"dataframe\">\n",
       "  <thead>\n",
       "    <tr style=\"text-align: right;\">\n",
       "      <th></th>\n",
       "      <th>userId</th>\n",
       "      <th>About_total</th>\n",
       "      <th>Add Friend_total</th>\n",
       "      <th>Add to Playlist_total</th>\n",
       "      <th>Downgrade_total</th>\n",
       "      <th>Error_total</th>\n",
       "      <th>Help_total</th>\n",
       "      <th>Home_total</th>\n",
       "      <th>Logout_total</th>\n",
       "      <th>NextSong_total</th>\n",
       "      <th>Roll Advert_total</th>\n",
       "      <th>Save Settings_total</th>\n",
       "      <th>Settings_total</th>\n",
       "      <th>Submit Downgrade_total</th>\n",
       "      <th>Submit Upgrade_total</th>\n",
       "      <th>Thumbs Down_total</th>\n",
       "      <th>Thumbs Up_total</th>\n",
       "      <th>Upgrade_total</th>\n",
       "      <th>About_pre3</th>\n",
       "      <th>Add Friend_pre3</th>\n",
       "      <th>Add to Playlist_pre3</th>\n",
       "      <th>Downgrade_pre3</th>\n",
       "      <th>Error_pre3</th>\n",
       "      <th>Help_pre3</th>\n",
       "      <th>Home_pre3</th>\n",
       "      <th>Logout_pre3</th>\n",
       "      <th>NextSong_pre3</th>\n",
       "      <th>Roll Advert_pre3</th>\n",
       "      <th>Save Settings_pre3</th>\n",
       "      <th>Settings_pre3</th>\n",
       "      <th>...</th>\n",
       "      <th>Error_pre7</th>\n",
       "      <th>Help_pre7</th>\n",
       "      <th>Home_pre7</th>\n",
       "      <th>Logout_pre7</th>\n",
       "      <th>NextSong_pre7</th>\n",
       "      <th>Roll Advert_pre7</th>\n",
       "      <th>Save Settings_pre7</th>\n",
       "      <th>Settings_pre7</th>\n",
       "      <th>Submit Downgrade_pre7</th>\n",
       "      <th>Submit Upgrade_pre7</th>\n",
       "      <th>Thumbs Down_pre7</th>\n",
       "      <th>Thumbs Up_pre7</th>\n",
       "      <th>Upgrade_pre7</th>\n",
       "      <th>About_pre21</th>\n",
       "      <th>Add Friend_pre21</th>\n",
       "      <th>Add to Playlist_pre21</th>\n",
       "      <th>Downgrade_pre21</th>\n",
       "      <th>Error_pre21</th>\n",
       "      <th>Help_pre21</th>\n",
       "      <th>Home_pre21</th>\n",
       "      <th>Logout_pre21</th>\n",
       "      <th>NextSong_pre21</th>\n",
       "      <th>Roll Advert_pre21</th>\n",
       "      <th>Save Settings_pre21</th>\n",
       "      <th>Settings_pre21</th>\n",
       "      <th>Submit Downgrade_pre21</th>\n",
       "      <th>Submit Upgrade_pre21</th>\n",
       "      <th>Thumbs Down_pre21</th>\n",
       "      <th>Thumbs Up_pre21</th>\n",
       "      <th>Upgrade_pre21</th>\n",
       "    </tr>\n",
       "  </thead>\n",
       "  <tbody>\n",
       "    <tr>\n",
       "      <th>0</th>\n",
       "      <td>148</td>\n",
       "      <td>1</td>\n",
       "      <td>7</td>\n",
       "      <td>5</td>\n",
       "      <td>0</td>\n",
       "      <td>0</td>\n",
       "      <td>3</td>\n",
       "      <td>26</td>\n",
       "      <td>9</td>\n",
       "      <td>398</td>\n",
       "      <td>32</td>\n",
       "      <td>0</td>\n",
       "      <td>3</td>\n",
       "      <td>0</td>\n",
       "      <td>0</td>\n",
       "      <td>3</td>\n",
       "      <td>28</td>\n",
       "      <td>3</td>\n",
       "      <td>0</td>\n",
       "      <td>0</td>\n",
       "      <td>0</td>\n",
       "      <td>0</td>\n",
       "      <td>0</td>\n",
       "      <td>0</td>\n",
       "      <td>2</td>\n",
       "      <td>1</td>\n",
       "      <td>5</td>\n",
       "      <td>0</td>\n",
       "      <td>0</td>\n",
       "      <td>0</td>\n",
       "      <td>...</td>\n",
       "      <td>0</td>\n",
       "      <td>0</td>\n",
       "      <td>2</td>\n",
       "      <td>1</td>\n",
       "      <td>5</td>\n",
       "      <td>0</td>\n",
       "      <td>0</td>\n",
       "      <td>0</td>\n",
       "      <td>0</td>\n",
       "      <td>0</td>\n",
       "      <td>0</td>\n",
       "      <td>0</td>\n",
       "      <td>0</td>\n",
       "      <td>0</td>\n",
       "      <td>0</td>\n",
       "      <td>0</td>\n",
       "      <td>0</td>\n",
       "      <td>0</td>\n",
       "      <td>0</td>\n",
       "      <td>6</td>\n",
       "      <td>3</td>\n",
       "      <td>52</td>\n",
       "      <td>4</td>\n",
       "      <td>0</td>\n",
       "      <td>0</td>\n",
       "      <td>0</td>\n",
       "      <td>0</td>\n",
       "      <td>2</td>\n",
       "      <td>4</td>\n",
       "      <td>0</td>\n",
       "    </tr>\n",
       "    <tr>\n",
       "      <th>1</th>\n",
       "      <td>85</td>\n",
       "      <td>6</td>\n",
       "      <td>58</td>\n",
       "      <td>108</td>\n",
       "      <td>42</td>\n",
       "      <td>2</td>\n",
       "      <td>24</td>\n",
       "      <td>157</td>\n",
       "      <td>54</td>\n",
       "      <td>3616</td>\n",
       "      <td>33</td>\n",
       "      <td>3</td>\n",
       "      <td>25</td>\n",
       "      <td>2</td>\n",
       "      <td>3</td>\n",
       "      <td>38</td>\n",
       "      <td>192</td>\n",
       "      <td>7</td>\n",
       "      <td>0</td>\n",
       "      <td>6</td>\n",
       "      <td>5</td>\n",
       "      <td>6</td>\n",
       "      <td>0</td>\n",
       "      <td>3</td>\n",
       "      <td>8</td>\n",
       "      <td>3</td>\n",
       "      <td>155</td>\n",
       "      <td>0</td>\n",
       "      <td>0</td>\n",
       "      <td>1</td>\n",
       "      <td>...</td>\n",
       "      <td>0</td>\n",
       "      <td>6</td>\n",
       "      <td>27</td>\n",
       "      <td>13</td>\n",
       "      <td>788</td>\n",
       "      <td>0</td>\n",
       "      <td>0</td>\n",
       "      <td>8</td>\n",
       "      <td>0</td>\n",
       "      <td>0</td>\n",
       "      <td>6</td>\n",
       "      <td>34</td>\n",
       "      <td>0</td>\n",
       "      <td>1</td>\n",
       "      <td>20</td>\n",
       "      <td>38</td>\n",
       "      <td>21</td>\n",
       "      <td>0</td>\n",
       "      <td>11</td>\n",
       "      <td>61</td>\n",
       "      <td>23</td>\n",
       "      <td>1519</td>\n",
       "      <td>0</td>\n",
       "      <td>2</td>\n",
       "      <td>11</td>\n",
       "      <td>0</td>\n",
       "      <td>0</td>\n",
       "      <td>12</td>\n",
       "      <td>74</td>\n",
       "      <td>0</td>\n",
       "    </tr>\n",
       "    <tr>\n",
       "      <th>2</th>\n",
       "      <td>137</td>\n",
       "      <td>0</td>\n",
       "      <td>8</td>\n",
       "      <td>4</td>\n",
       "      <td>0</td>\n",
       "      <td>0</td>\n",
       "      <td>1</td>\n",
       "      <td>12</td>\n",
       "      <td>5</td>\n",
       "      <td>154</td>\n",
       "      <td>10</td>\n",
       "      <td>0</td>\n",
       "      <td>1</td>\n",
       "      <td>0</td>\n",
       "      <td>1</td>\n",
       "      <td>1</td>\n",
       "      <td>8</td>\n",
       "      <td>4</td>\n",
       "      <td>0</td>\n",
       "      <td>0</td>\n",
       "      <td>0</td>\n",
       "      <td>0</td>\n",
       "      <td>0</td>\n",
       "      <td>0</td>\n",
       "      <td>0</td>\n",
       "      <td>0</td>\n",
       "      <td>0</td>\n",
       "      <td>0</td>\n",
       "      <td>0</td>\n",
       "      <td>0</td>\n",
       "      <td>...</td>\n",
       "      <td>0</td>\n",
       "      <td>0</td>\n",
       "      <td>0</td>\n",
       "      <td>0</td>\n",
       "      <td>0</td>\n",
       "      <td>0</td>\n",
       "      <td>0</td>\n",
       "      <td>0</td>\n",
       "      <td>0</td>\n",
       "      <td>0</td>\n",
       "      <td>0</td>\n",
       "      <td>0</td>\n",
       "      <td>0</td>\n",
       "      <td>0</td>\n",
       "      <td>7</td>\n",
       "      <td>2</td>\n",
       "      <td>0</td>\n",
       "      <td>0</td>\n",
       "      <td>1</td>\n",
       "      <td>11</td>\n",
       "      <td>4</td>\n",
       "      <td>113</td>\n",
       "      <td>7</td>\n",
       "      <td>0</td>\n",
       "      <td>0</td>\n",
       "      <td>0</td>\n",
       "      <td>1</td>\n",
       "      <td>1</td>\n",
       "      <td>5</td>\n",
       "      <td>4</td>\n",
       "    </tr>\n",
       "    <tr>\n",
       "      <th>3</th>\n",
       "      <td>65</td>\n",
       "      <td>6</td>\n",
       "      <td>53</td>\n",
       "      <td>68</td>\n",
       "      <td>20</td>\n",
       "      <td>0</td>\n",
       "      <td>13</td>\n",
       "      <td>80</td>\n",
       "      <td>21</td>\n",
       "      <td>2113</td>\n",
       "      <td>8</td>\n",
       "      <td>7</td>\n",
       "      <td>23</td>\n",
       "      <td>0</td>\n",
       "      <td>1</td>\n",
       "      <td>17</td>\n",
       "      <td>111</td>\n",
       "      <td>3</td>\n",
       "      <td>0</td>\n",
       "      <td>0</td>\n",
       "      <td>0</td>\n",
       "      <td>0</td>\n",
       "      <td>0</td>\n",
       "      <td>0</td>\n",
       "      <td>0</td>\n",
       "      <td>0</td>\n",
       "      <td>0</td>\n",
       "      <td>0</td>\n",
       "      <td>0</td>\n",
       "      <td>0</td>\n",
       "      <td>...</td>\n",
       "      <td>0</td>\n",
       "      <td>1</td>\n",
       "      <td>6</td>\n",
       "      <td>4</td>\n",
       "      <td>107</td>\n",
       "      <td>0</td>\n",
       "      <td>0</td>\n",
       "      <td>1</td>\n",
       "      <td>0</td>\n",
       "      <td>0</td>\n",
       "      <td>1</td>\n",
       "      <td>4</td>\n",
       "      <td>0</td>\n",
       "      <td>4</td>\n",
       "      <td>22</td>\n",
       "      <td>37</td>\n",
       "      <td>13</td>\n",
       "      <td>0</td>\n",
       "      <td>10</td>\n",
       "      <td>39</td>\n",
       "      <td>14</td>\n",
       "      <td>1213</td>\n",
       "      <td>2</td>\n",
       "      <td>4</td>\n",
       "      <td>11</td>\n",
       "      <td>0</td>\n",
       "      <td>0</td>\n",
       "      <td>7</td>\n",
       "      <td>57</td>\n",
       "      <td>0</td>\n",
       "    </tr>\n",
       "    <tr>\n",
       "      <th>4</th>\n",
       "      <td>200001</td>\n",
       "      <td>0</td>\n",
       "      <td>0</td>\n",
       "      <td>3</td>\n",
       "      <td>0</td>\n",
       "      <td>0</td>\n",
       "      <td>1</td>\n",
       "      <td>10</td>\n",
       "      <td>4</td>\n",
       "      <td>115</td>\n",
       "      <td>3</td>\n",
       "      <td>2</td>\n",
       "      <td>6</td>\n",
       "      <td>0</td>\n",
       "      <td>0</td>\n",
       "      <td>1</td>\n",
       "      <td>10</td>\n",
       "      <td>1</td>\n",
       "      <td>0</td>\n",
       "      <td>0</td>\n",
       "      <td>1</td>\n",
       "      <td>0</td>\n",
       "      <td>0</td>\n",
       "      <td>1</td>\n",
       "      <td>1</td>\n",
       "      <td>1</td>\n",
       "      <td>24</td>\n",
       "      <td>0</td>\n",
       "      <td>1</td>\n",
       "      <td>5</td>\n",
       "      <td>...</td>\n",
       "      <td>0</td>\n",
       "      <td>1</td>\n",
       "      <td>5</td>\n",
       "      <td>1</td>\n",
       "      <td>77</td>\n",
       "      <td>3</td>\n",
       "      <td>2</td>\n",
       "      <td>6</td>\n",
       "      <td>0</td>\n",
       "      <td>0</td>\n",
       "      <td>0</td>\n",
       "      <td>7</td>\n",
       "      <td>1</td>\n",
       "      <td>0</td>\n",
       "      <td>0</td>\n",
       "      <td>3</td>\n",
       "      <td>0</td>\n",
       "      <td>0</td>\n",
       "      <td>1</td>\n",
       "      <td>10</td>\n",
       "      <td>4</td>\n",
       "      <td>115</td>\n",
       "      <td>3</td>\n",
       "      <td>2</td>\n",
       "      <td>6</td>\n",
       "      <td>0</td>\n",
       "      <td>0</td>\n",
       "      <td>1</td>\n",
       "      <td>10</td>\n",
       "      <td>1</td>\n",
       "    </tr>\n",
       "  </tbody>\n",
       "</table>\n",
       "<p>5 rows × 69 columns</p>\n",
       "</div>"
      ],
      "text/plain": [
       "   userId  About_total  Add Friend_total  Add to Playlist_total  \\\n",
       "0     148            1                 7                      5   \n",
       "1      85            6                58                    108   \n",
       "2     137            0                 8                      4   \n",
       "3      65            6                53                     68   \n",
       "4  200001            0                 0                      3   \n",
       "\n",
       "   Downgrade_total  Error_total  Help_total  Home_total  Logout_total  \\\n",
       "0                0            0           3          26             9   \n",
       "1               42            2          24         157            54   \n",
       "2                0            0           1          12             5   \n",
       "3               20            0          13          80            21   \n",
       "4                0            0           1          10             4   \n",
       "\n",
       "   NextSong_total  Roll Advert_total  Save Settings_total  Settings_total  \\\n",
       "0             398                 32                    0               3   \n",
       "1            3616                 33                    3              25   \n",
       "2             154                 10                    0               1   \n",
       "3            2113                  8                    7              23   \n",
       "4             115                  3                    2               6   \n",
       "\n",
       "   Submit Downgrade_total  Submit Upgrade_total  Thumbs Down_total  \\\n",
       "0                       0                     0                  3   \n",
       "1                       2                     3                 38   \n",
       "2                       0                     1                  1   \n",
       "3                       0                     1                 17   \n",
       "4                       0                     0                  1   \n",
       "\n",
       "   Thumbs Up_total  Upgrade_total  About_pre3  Add Friend_pre3  \\\n",
       "0               28              3           0                0   \n",
       "1              192              7           0                6   \n",
       "2                8              4           0                0   \n",
       "3              111              3           0                0   \n",
       "4               10              1           0                0   \n",
       "\n",
       "   Add to Playlist_pre3  Downgrade_pre3  Error_pre3  Help_pre3  Home_pre3  \\\n",
       "0                     0               0           0          0          2   \n",
       "1                     5               6           0          3          8   \n",
       "2                     0               0           0          0          0   \n",
       "3                     0               0           0          0          0   \n",
       "4                     1               0           0          1          1   \n",
       "\n",
       "   Logout_pre3  NextSong_pre3  Roll Advert_pre3  Save Settings_pre3  \\\n",
       "0            1              5                 0                   0   \n",
       "1            3            155                 0                   0   \n",
       "2            0              0                 0                   0   \n",
       "3            0              0                 0                   0   \n",
       "4            1             24                 0                   1   \n",
       "\n",
       "   Settings_pre3  ...  Error_pre7  Help_pre7  Home_pre7  Logout_pre7  \\\n",
       "0              0  ...           0          0          2            1   \n",
       "1              1  ...           0          6         27           13   \n",
       "2              0  ...           0          0          0            0   \n",
       "3              0  ...           0          1          6            4   \n",
       "4              5  ...           0          1          5            1   \n",
       "\n",
       "   NextSong_pre7  Roll Advert_pre7  Save Settings_pre7  Settings_pre7  \\\n",
       "0              5                 0                   0              0   \n",
       "1            788                 0                   0              8   \n",
       "2              0                 0                   0              0   \n",
       "3            107                 0                   0              1   \n",
       "4             77                 3                   2              6   \n",
       "\n",
       "   Submit Downgrade_pre7  Submit Upgrade_pre7  Thumbs Down_pre7  \\\n",
       "0                      0                    0                 0   \n",
       "1                      0                    0                 6   \n",
       "2                      0                    0                 0   \n",
       "3                      0                    0                 1   \n",
       "4                      0                    0                 0   \n",
       "\n",
       "   Thumbs Up_pre7  Upgrade_pre7  About_pre21  Add Friend_pre21  \\\n",
       "0               0             0            0                 0   \n",
       "1              34             0            1                20   \n",
       "2               0             0            0                 7   \n",
       "3               4             0            4                22   \n",
       "4               7             1            0                 0   \n",
       "\n",
       "   Add to Playlist_pre21  Downgrade_pre21  Error_pre21  Help_pre21  \\\n",
       "0                      0                0            0           0   \n",
       "1                     38               21            0          11   \n",
       "2                      2                0            0           1   \n",
       "3                     37               13            0          10   \n",
       "4                      3                0            0           1   \n",
       "\n",
       "   Home_pre21  Logout_pre21  NextSong_pre21  Roll Advert_pre21  \\\n",
       "0           6             3              52                  4   \n",
       "1          61            23            1519                  0   \n",
       "2          11             4             113                  7   \n",
       "3          39            14            1213                  2   \n",
       "4          10             4             115                  3   \n",
       "\n",
       "   Save Settings_pre21  Settings_pre21  Submit Downgrade_pre21  \\\n",
       "0                    0               0                       0   \n",
       "1                    2              11                       0   \n",
       "2                    0               0                       0   \n",
       "3                    4              11                       0   \n",
       "4                    2               6                       0   \n",
       "\n",
       "   Submit Upgrade_pre21  Thumbs Down_pre21  Thumbs Up_pre21  Upgrade_pre21  \n",
       "0                     0                  2                4              0  \n",
       "1                     0                 12               74              0  \n",
       "2                     1                  1                5              4  \n",
       "3                     0                  7               57              0  \n",
       "4                     0                  1               10              1  \n",
       "\n",
       "[5 rows x 69 columns]"
      ]
     },
     "execution_count": 515,
     "metadata": {},
     "output_type": "execute_result"
    }
   ],
   "source": [
    "event_counts.toPandas().head(5)"
   ]
  },
  {
   "cell_type": "code",
   "execution_count": 427,
   "metadata": {},
   "outputs": [],
   "source": [
    "def get_metropolian_area_dummies(user_log):\n",
    "    \"\"\" Creates dataframe with dummies for the metropolian area users are \n",
    "    living in. The information can be extracted from the `location` column in\n",
    "    the user log data.\n",
    "    \n",
    "    Input:\n",
    "        user_log (DataFrame) - a DataFrame containing the cleansed user log data\n",
    "        \n",
    "    Output:\n",
    "        DataFrame - one hot encoded metropolian area of each user\n",
    "    \n",
    "    \"\"\"\n",
    "    \n",
    "    # Create metropolian area feature\n",
    "    get_state = F.udf(lambda x: x.split(', ')[1], StringType())\n",
    "    user_log = user_log.withColumn('area', get_state('location'))\n",
    "    \n",
    "    # Get dummies and fill missing values with 0\n",
    "    area_dummies = user_log.select(['userId', 'area']).dropDuplicates()\\\n",
    "                            .groupBy('userId').pivot('area').count()\n",
    "    area_dummies = area_dummies.fillna(0)\n",
    "    \n",
    "    return area_dummies"
   ]
  },
  {
   "cell_type": "code",
   "execution_count": 516,
   "metadata": {},
   "outputs": [],
   "source": [
    "metropolian_areas = get_metropolian_area_dummies(user_log_cleansed)"
   ]
  },
  {
   "cell_type": "code",
   "execution_count": 517,
   "metadata": {},
   "outputs": [
    {
     "data": {
      "text/html": [
       "<div>\n",
       "<style scoped>\n",
       "    .dataframe tbody tr th:only-of-type {\n",
       "        vertical-align: middle;\n",
       "    }\n",
       "\n",
       "    .dataframe tbody tr th {\n",
       "        vertical-align: top;\n",
       "    }\n",
       "\n",
       "    .dataframe thead th {\n",
       "        text-align: right;\n",
       "    }\n",
       "</style>\n",
       "<table border=\"1\" class=\"dataframe\">\n",
       "  <thead>\n",
       "    <tr style=\"text-align: right;\">\n",
       "      <th></th>\n",
       "      <th>userId</th>\n",
       "      <th>AK</th>\n",
       "      <th>AL</th>\n",
       "      <th>AR</th>\n",
       "      <th>AZ</th>\n",
       "      <th>CA</th>\n",
       "      <th>CO</th>\n",
       "      <th>CT</th>\n",
       "      <th>DC-VA-MD-WV</th>\n",
       "      <th>FL</th>\n",
       "      <th>GA</th>\n",
       "      <th>GA-AL</th>\n",
       "      <th>IA</th>\n",
       "      <th>IL</th>\n",
       "      <th>IL-IN-WI</th>\n",
       "      <th>IL-MO</th>\n",
       "      <th>IN</th>\n",
       "      <th>KY</th>\n",
       "      <th>KY-IN</th>\n",
       "      <th>LA</th>\n",
       "      <th>MA-NH</th>\n",
       "      <th>MD</th>\n",
       "      <th>MD-WV</th>\n",
       "      <th>MI</th>\n",
       "      <th>MN-WI</th>\n",
       "      <th>MO-IL</th>\n",
       "      <th>MO-KS</th>\n",
       "      <th>MS</th>\n",
       "      <th>MT</th>\n",
       "      <th>NC</th>\n",
       "      <th>NC-SC</th>\n",
       "      <th>NE-IA</th>\n",
       "      <th>NH</th>\n",
       "      <th>NJ</th>\n",
       "      <th>NV</th>\n",
       "      <th>NY</th>\n",
       "      <th>NY-NJ-PA</th>\n",
       "      <th>OH</th>\n",
       "      <th>OH-KY-IN</th>\n",
       "      <th>OK</th>\n",
       "      <th>OR</th>\n",
       "      <th>OR-WA</th>\n",
       "      <th>PA</th>\n",
       "      <th>PA-NJ</th>\n",
       "      <th>PA-NJ-DE-MD</th>\n",
       "      <th>RI-MA</th>\n",
       "      <th>SC</th>\n",
       "      <th>SC-NC</th>\n",
       "      <th>TN</th>\n",
       "      <th>TN-MS-AR</th>\n",
       "      <th>TN-VA</th>\n",
       "      <th>TX</th>\n",
       "      <th>UT</th>\n",
       "      <th>UT-ID</th>\n",
       "      <th>VA</th>\n",
       "      <th>VA-NC</th>\n",
       "      <th>WA</th>\n",
       "      <th>WI</th>\n",
       "      <th>WV</th>\n",
       "    </tr>\n",
       "  </thead>\n",
       "  <tbody>\n",
       "    <tr>\n",
       "      <th>0</th>\n",
       "      <td>148</td>\n",
       "      <td>0</td>\n",
       "      <td>0</td>\n",
       "      <td>0</td>\n",
       "      <td>0</td>\n",
       "      <td>0</td>\n",
       "      <td>0</td>\n",
       "      <td>0</td>\n",
       "      <td>0</td>\n",
       "      <td>1</td>\n",
       "      <td>0</td>\n",
       "      <td>0</td>\n",
       "      <td>0</td>\n",
       "      <td>0</td>\n",
       "      <td>0</td>\n",
       "      <td>0</td>\n",
       "      <td>0</td>\n",
       "      <td>0</td>\n",
       "      <td>0</td>\n",
       "      <td>0</td>\n",
       "      <td>0</td>\n",
       "      <td>0</td>\n",
       "      <td>0</td>\n",
       "      <td>0</td>\n",
       "      <td>0</td>\n",
       "      <td>0</td>\n",
       "      <td>0</td>\n",
       "      <td>0</td>\n",
       "      <td>0</td>\n",
       "      <td>0</td>\n",
       "      <td>0</td>\n",
       "      <td>0</td>\n",
       "      <td>0</td>\n",
       "      <td>0</td>\n",
       "      <td>0</td>\n",
       "      <td>0</td>\n",
       "      <td>0</td>\n",
       "      <td>0</td>\n",
       "      <td>0</td>\n",
       "      <td>0</td>\n",
       "      <td>0</td>\n",
       "      <td>0</td>\n",
       "      <td>0</td>\n",
       "      <td>0</td>\n",
       "      <td>0</td>\n",
       "      <td>0</td>\n",
       "      <td>0</td>\n",
       "      <td>0</td>\n",
       "      <td>0</td>\n",
       "      <td>0</td>\n",
       "      <td>0</td>\n",
       "      <td>0</td>\n",
       "      <td>0</td>\n",
       "      <td>0</td>\n",
       "      <td>0</td>\n",
       "      <td>0</td>\n",
       "      <td>0</td>\n",
       "      <td>0</td>\n",
       "      <td>0</td>\n",
       "    </tr>\n",
       "    <tr>\n",
       "      <th>1</th>\n",
       "      <td>137</td>\n",
       "      <td>0</td>\n",
       "      <td>0</td>\n",
       "      <td>0</td>\n",
       "      <td>0</td>\n",
       "      <td>0</td>\n",
       "      <td>0</td>\n",
       "      <td>0</td>\n",
       "      <td>0</td>\n",
       "      <td>0</td>\n",
       "      <td>0</td>\n",
       "      <td>0</td>\n",
       "      <td>0</td>\n",
       "      <td>0</td>\n",
       "      <td>0</td>\n",
       "      <td>0</td>\n",
       "      <td>0</td>\n",
       "      <td>0</td>\n",
       "      <td>0</td>\n",
       "      <td>0</td>\n",
       "      <td>0</td>\n",
       "      <td>0</td>\n",
       "      <td>0</td>\n",
       "      <td>0</td>\n",
       "      <td>0</td>\n",
       "      <td>0</td>\n",
       "      <td>0</td>\n",
       "      <td>0</td>\n",
       "      <td>0</td>\n",
       "      <td>0</td>\n",
       "      <td>0</td>\n",
       "      <td>0</td>\n",
       "      <td>0</td>\n",
       "      <td>0</td>\n",
       "      <td>0</td>\n",
       "      <td>0</td>\n",
       "      <td>1</td>\n",
       "      <td>0</td>\n",
       "      <td>0</td>\n",
       "      <td>0</td>\n",
       "      <td>0</td>\n",
       "      <td>0</td>\n",
       "      <td>0</td>\n",
       "      <td>0</td>\n",
       "      <td>0</td>\n",
       "      <td>0</td>\n",
       "      <td>0</td>\n",
       "      <td>0</td>\n",
       "      <td>0</td>\n",
       "      <td>0</td>\n",
       "      <td>0</td>\n",
       "      <td>0</td>\n",
       "      <td>0</td>\n",
       "      <td>0</td>\n",
       "      <td>0</td>\n",
       "      <td>0</td>\n",
       "      <td>0</td>\n",
       "      <td>0</td>\n",
       "      <td>0</td>\n",
       "    </tr>\n",
       "    <tr>\n",
       "      <th>2</th>\n",
       "      <td>85</td>\n",
       "      <td>0</td>\n",
       "      <td>0</td>\n",
       "      <td>0</td>\n",
       "      <td>0</td>\n",
       "      <td>1</td>\n",
       "      <td>0</td>\n",
       "      <td>0</td>\n",
       "      <td>0</td>\n",
       "      <td>0</td>\n",
       "      <td>0</td>\n",
       "      <td>0</td>\n",
       "      <td>0</td>\n",
       "      <td>0</td>\n",
       "      <td>0</td>\n",
       "      <td>0</td>\n",
       "      <td>0</td>\n",
       "      <td>0</td>\n",
       "      <td>0</td>\n",
       "      <td>0</td>\n",
       "      <td>0</td>\n",
       "      <td>0</td>\n",
       "      <td>0</td>\n",
       "      <td>0</td>\n",
       "      <td>0</td>\n",
       "      <td>0</td>\n",
       "      <td>0</td>\n",
       "      <td>0</td>\n",
       "      <td>0</td>\n",
       "      <td>0</td>\n",
       "      <td>0</td>\n",
       "      <td>0</td>\n",
       "      <td>0</td>\n",
       "      <td>0</td>\n",
       "      <td>0</td>\n",
       "      <td>0</td>\n",
       "      <td>0</td>\n",
       "      <td>0</td>\n",
       "      <td>0</td>\n",
       "      <td>0</td>\n",
       "      <td>0</td>\n",
       "      <td>0</td>\n",
       "      <td>0</td>\n",
       "      <td>0</td>\n",
       "      <td>0</td>\n",
       "      <td>0</td>\n",
       "      <td>0</td>\n",
       "      <td>0</td>\n",
       "      <td>0</td>\n",
       "      <td>0</td>\n",
       "      <td>0</td>\n",
       "      <td>0</td>\n",
       "      <td>0</td>\n",
       "      <td>0</td>\n",
       "      <td>0</td>\n",
       "      <td>0</td>\n",
       "      <td>0</td>\n",
       "      <td>0</td>\n",
       "      <td>0</td>\n",
       "    </tr>\n",
       "    <tr>\n",
       "      <th>3</th>\n",
       "      <td>200001</td>\n",
       "      <td>0</td>\n",
       "      <td>0</td>\n",
       "      <td>0</td>\n",
       "      <td>0</td>\n",
       "      <td>0</td>\n",
       "      <td>0</td>\n",
       "      <td>0</td>\n",
       "      <td>1</td>\n",
       "      <td>0</td>\n",
       "      <td>0</td>\n",
       "      <td>0</td>\n",
       "      <td>0</td>\n",
       "      <td>0</td>\n",
       "      <td>0</td>\n",
       "      <td>0</td>\n",
       "      <td>0</td>\n",
       "      <td>0</td>\n",
       "      <td>0</td>\n",
       "      <td>0</td>\n",
       "      <td>0</td>\n",
       "      <td>0</td>\n",
       "      <td>0</td>\n",
       "      <td>0</td>\n",
       "      <td>0</td>\n",
       "      <td>0</td>\n",
       "      <td>0</td>\n",
       "      <td>0</td>\n",
       "      <td>0</td>\n",
       "      <td>0</td>\n",
       "      <td>0</td>\n",
       "      <td>0</td>\n",
       "      <td>0</td>\n",
       "      <td>0</td>\n",
       "      <td>0</td>\n",
       "      <td>0</td>\n",
       "      <td>0</td>\n",
       "      <td>0</td>\n",
       "      <td>0</td>\n",
       "      <td>0</td>\n",
       "      <td>0</td>\n",
       "      <td>0</td>\n",
       "      <td>0</td>\n",
       "      <td>0</td>\n",
       "      <td>0</td>\n",
       "      <td>0</td>\n",
       "      <td>0</td>\n",
       "      <td>0</td>\n",
       "      <td>0</td>\n",
       "      <td>0</td>\n",
       "      <td>0</td>\n",
       "      <td>0</td>\n",
       "      <td>0</td>\n",
       "      <td>0</td>\n",
       "      <td>0</td>\n",
       "      <td>0</td>\n",
       "      <td>0</td>\n",
       "      <td>0</td>\n",
       "      <td>0</td>\n",
       "    </tr>\n",
       "    <tr>\n",
       "      <th>4</th>\n",
       "      <td>65</td>\n",
       "      <td>0</td>\n",
       "      <td>0</td>\n",
       "      <td>0</td>\n",
       "      <td>0</td>\n",
       "      <td>0</td>\n",
       "      <td>0</td>\n",
       "      <td>0</td>\n",
       "      <td>0</td>\n",
       "      <td>0</td>\n",
       "      <td>0</td>\n",
       "      <td>0</td>\n",
       "      <td>0</td>\n",
       "      <td>0</td>\n",
       "      <td>0</td>\n",
       "      <td>0</td>\n",
       "      <td>0</td>\n",
       "      <td>0</td>\n",
       "      <td>0</td>\n",
       "      <td>0</td>\n",
       "      <td>0</td>\n",
       "      <td>0</td>\n",
       "      <td>0</td>\n",
       "      <td>0</td>\n",
       "      <td>0</td>\n",
       "      <td>0</td>\n",
       "      <td>0</td>\n",
       "      <td>0</td>\n",
       "      <td>0</td>\n",
       "      <td>0</td>\n",
       "      <td>0</td>\n",
       "      <td>0</td>\n",
       "      <td>1</td>\n",
       "      <td>0</td>\n",
       "      <td>0</td>\n",
       "      <td>0</td>\n",
       "      <td>0</td>\n",
       "      <td>0</td>\n",
       "      <td>0</td>\n",
       "      <td>0</td>\n",
       "      <td>0</td>\n",
       "      <td>0</td>\n",
       "      <td>0</td>\n",
       "      <td>0</td>\n",
       "      <td>0</td>\n",
       "      <td>0</td>\n",
       "      <td>0</td>\n",
       "      <td>0</td>\n",
       "      <td>0</td>\n",
       "      <td>0</td>\n",
       "      <td>0</td>\n",
       "      <td>0</td>\n",
       "      <td>0</td>\n",
       "      <td>0</td>\n",
       "      <td>0</td>\n",
       "      <td>0</td>\n",
       "      <td>0</td>\n",
       "      <td>0</td>\n",
       "      <td>0</td>\n",
       "    </tr>\n",
       "  </tbody>\n",
       "</table>\n",
       "</div>"
      ],
      "text/plain": [
       "   userId  AK  AL  AR  AZ  CA  CO  CT  DC-VA-MD-WV  FL  GA  GA-AL  IA  IL  \\\n",
       "0     148   0   0   0   0   0   0   0            0   1   0      0   0   0   \n",
       "1     137   0   0   0   0   0   0   0            0   0   0      0   0   0   \n",
       "2      85   0   0   0   0   1   0   0            0   0   0      0   0   0   \n",
       "3  200001   0   0   0   0   0   0   0            1   0   0      0   0   0   \n",
       "4      65   0   0   0   0   0   0   0            0   0   0      0   0   0   \n",
       "\n",
       "   IL-IN-WI  IL-MO  IN  KY  KY-IN  LA  MA-NH  MD  MD-WV  MI  MN-WI  MO-IL  \\\n",
       "0         0      0   0   0      0   0      0   0      0   0      0      0   \n",
       "1         0      0   0   0      0   0      0   0      0   0      0      0   \n",
       "2         0      0   0   0      0   0      0   0      0   0      0      0   \n",
       "3         0      0   0   0      0   0      0   0      0   0      0      0   \n",
       "4         0      0   0   0      0   0      0   0      0   0      0      0   \n",
       "\n",
       "   MO-KS  MS  MT  NC  NC-SC  NE-IA  NH  NJ  NV  NY  NY-NJ-PA  OH  OH-KY-IN  \\\n",
       "0      0   0   0   0      0      0   0   0   0   0         0   0         0   \n",
       "1      0   0   0   0      0      0   0   0   0   0         1   0         0   \n",
       "2      0   0   0   0      0      0   0   0   0   0         0   0         0   \n",
       "3      0   0   0   0      0      0   0   0   0   0         0   0         0   \n",
       "4      0   0   0   0      0      0   1   0   0   0         0   0         0   \n",
       "\n",
       "   OK  OR  OR-WA  PA  PA-NJ  PA-NJ-DE-MD  RI-MA  SC  SC-NC  TN  TN-MS-AR  \\\n",
       "0   0   0      0   0      0            0      0   0      0   0         0   \n",
       "1   0   0      0   0      0            0      0   0      0   0         0   \n",
       "2   0   0      0   0      0            0      0   0      0   0         0   \n",
       "3   0   0      0   0      0            0      0   0      0   0         0   \n",
       "4   0   0      0   0      0            0      0   0      0   0         0   \n",
       "\n",
       "   TN-VA  TX  UT  UT-ID  VA  VA-NC  WA  WI  WV  \n",
       "0      0   0   0      0   0      0   0   0   0  \n",
       "1      0   0   0      0   0      0   0   0   0  \n",
       "2      0   0   0      0   0      0   0   0   0  \n",
       "3      0   0   0      0   0      0   0   0   0  \n",
       "4      0   0   0      0   0      0   0   0   0  "
      ]
     },
     "execution_count": 517,
     "metadata": {},
     "output_type": "execute_result"
    }
   ],
   "source": [
    "metropolian_areas.toPandas().head(5)"
   ]
  },
  {
   "cell_type": "code",
   "execution_count": 429,
   "metadata": {},
   "outputs": [],
   "source": [
    "def get_device_dummies(user_log):\n",
    "    \"\"\" Creates dataframe with dummies for the devices each user\n",
    "    uses. The information can be extracted from the `userAgent`\n",
    "    column in the user log data.\n",
    "    \n",
    "    Input:\n",
    "        user_log (DataFrame) - a DataFrame containing the cleansed user log data\n",
    "        \n",
    "    Output:\n",
    "        DataFrame - one hot encoded devices of each user\n",
    "    \n",
    "    \"\"\"\n",
    "    \n",
    "    # Create mapper for the derivation of device types\n",
    "    device_mapper = {'Windows NT 6.1': 'Windows', 'Macintosh': 'Mac', 'Windows NT 6.0': 'Windows', \n",
    "                 'Windows NT 6.2': 'Windows', 'iPhone': 'iPhone', 'Windows NT 6.3': 'Windows', \n",
    "                 'iPad': 'iPad', 'compatible': 'Windows', 'X11': 'Linux', \n",
    "                 'Windows NT 5.1': 'Windows'}\n",
    "    \n",
    "    # Create device column \n",
    "    # Note: If device type is unknown, assign `unknown device` type\n",
    "    get_device = F.udf(lambda x: device_mapper.get(re.findall(r'\\((.+?)\\)', x)[0].split(';')[0], 'Unknown Device'), \n",
    "                       StringType() )\n",
    "    user_log = user_log.withColumn('device', get_device('userAgent'))\n",
    "    \n",
    "    # Get dummies and fill missing values with 0\n",
    "    device_dummies = user_log.select(['userId', 'device']).dropDuplicates()\\\n",
    "                            .groupBy('userId').pivot('device').count()\n",
    "    device_dummies = device_dummies.fillna(0)\n",
    "    \n",
    "    return device_dummies"
   ]
  },
  {
   "cell_type": "code",
   "execution_count": 518,
   "metadata": {},
   "outputs": [],
   "source": [
    "devices = get_device_dummies(user_log_cleansed)"
   ]
  },
  {
   "cell_type": "code",
   "execution_count": 519,
   "metadata": {},
   "outputs": [
    {
     "data": {
      "text/html": [
       "<div>\n",
       "<style scoped>\n",
       "    .dataframe tbody tr th:only-of-type {\n",
       "        vertical-align: middle;\n",
       "    }\n",
       "\n",
       "    .dataframe tbody tr th {\n",
       "        vertical-align: top;\n",
       "    }\n",
       "\n",
       "    .dataframe thead th {\n",
       "        text-align: right;\n",
       "    }\n",
       "</style>\n",
       "<table border=\"1\" class=\"dataframe\">\n",
       "  <thead>\n",
       "    <tr style=\"text-align: right;\">\n",
       "      <th></th>\n",
       "      <th>userId</th>\n",
       "      <th>Linux</th>\n",
       "      <th>Mac</th>\n",
       "      <th>Windows</th>\n",
       "      <th>iPad</th>\n",
       "      <th>iPhone</th>\n",
       "    </tr>\n",
       "  </thead>\n",
       "  <tbody>\n",
       "    <tr>\n",
       "      <th>0</th>\n",
       "      <td>148</td>\n",
       "      <td>0</td>\n",
       "      <td>0</td>\n",
       "      <td>1</td>\n",
       "      <td>0</td>\n",
       "      <td>0</td>\n",
       "    </tr>\n",
       "    <tr>\n",
       "      <th>1</th>\n",
       "      <td>137</td>\n",
       "      <td>0</td>\n",
       "      <td>1</td>\n",
       "      <td>0</td>\n",
       "      <td>0</td>\n",
       "      <td>0</td>\n",
       "    </tr>\n",
       "    <tr>\n",
       "      <th>2</th>\n",
       "      <td>85</td>\n",
       "      <td>0</td>\n",
       "      <td>1</td>\n",
       "      <td>0</td>\n",
       "      <td>0</td>\n",
       "      <td>0</td>\n",
       "    </tr>\n",
       "    <tr>\n",
       "      <th>3</th>\n",
       "      <td>65</td>\n",
       "      <td>1</td>\n",
       "      <td>0</td>\n",
       "      <td>0</td>\n",
       "      <td>0</td>\n",
       "      <td>0</td>\n",
       "    </tr>\n",
       "    <tr>\n",
       "      <th>4</th>\n",
       "      <td>200001</td>\n",
       "      <td>0</td>\n",
       "      <td>0</td>\n",
       "      <td>1</td>\n",
       "      <td>0</td>\n",
       "      <td>0</td>\n",
       "    </tr>\n",
       "  </tbody>\n",
       "</table>\n",
       "</div>"
      ],
      "text/plain": [
       "   userId  Linux  Mac  Windows  iPad  iPhone\n",
       "0     148      0    0        1     0       0\n",
       "1     137      0    1        0     0       0\n",
       "2      85      0    1        0     0       0\n",
       "3      65      1    0        0     0       0\n",
       "4  200001      0    0        1     0       0"
      ]
     },
     "execution_count": 519,
     "metadata": {},
     "output_type": "execute_result"
    }
   ],
   "source": [
    "devices.toPandas().head(5)"
   ]
  },
  {
   "cell_type": "code",
   "execution_count": 521,
   "metadata": {},
   "outputs": [],
   "source": [
    "def calculate_session_length(user_log):\n",
    "    \"\"\" Calculates the average length of all sessions of a user \n",
    "    \n",
    "    Input:\n",
    "        user_log (DataFrame) - a DataFrame containing the cleansed user log data\n",
    "        \n",
    "    Output:\n",
    "        DataFrame - average session length per user\n",
    "    \n",
    "    \"\"\"\n",
    "\n",
    "    # Calculate length per session\n",
    "    session_length = user_log.groupBy(['userId', 'sessionId'])\\\n",
    "                             .agg((F.max('ts')-F.min('ts')).alias('session_length'))\n",
    "    \n",
    "    # Calculate average length of all sessions per user\n",
    "    avg_session_length = session_length.groupBy('userId')\\\n",
    "                                       .agg((F.mean('session_length')/60000).alias('Length Per Session'))\n",
    "    \n",
    "    return avg_session_length"
   ]
  },
  {
   "cell_type": "code",
   "execution_count": 522,
   "metadata": {},
   "outputs": [],
   "source": [
    "session_length = calculate_session_length(user_log_cleansed)"
   ]
  },
  {
   "cell_type": "code",
   "execution_count": 523,
   "metadata": {},
   "outputs": [
    {
     "data": {
      "text/html": [
       "<div>\n",
       "<style scoped>\n",
       "    .dataframe tbody tr th:only-of-type {\n",
       "        vertical-align: middle;\n",
       "    }\n",
       "\n",
       "    .dataframe tbody tr th {\n",
       "        vertical-align: top;\n",
       "    }\n",
       "\n",
       "    .dataframe thead th {\n",
       "        text-align: right;\n",
       "    }\n",
       "</style>\n",
       "<table border=\"1\" class=\"dataframe\">\n",
       "  <thead>\n",
       "    <tr style=\"text-align: right;\">\n",
       "      <th></th>\n",
       "      <th>userId</th>\n",
       "      <th>Length Per Session</th>\n",
       "    </tr>\n",
       "  </thead>\n",
       "  <tbody>\n",
       "    <tr>\n",
       "      <th>0</th>\n",
       "      <td>148</td>\n",
       "      <td>132.355556</td>\n",
       "    </tr>\n",
       "    <tr>\n",
       "      <th>1</th>\n",
       "      <td>85</td>\n",
       "      <td>370.846341</td>\n",
       "    </tr>\n",
       "    <tr>\n",
       "      <th>2</th>\n",
       "      <td>137</td>\n",
       "      <td>211.261111</td>\n",
       "    </tr>\n",
       "    <tr>\n",
       "      <th>3</th>\n",
       "      <td>200001</td>\n",
       "      <td>83.508333</td>\n",
       "    </tr>\n",
       "    <tr>\n",
       "      <th>4</th>\n",
       "      <td>65</td>\n",
       "      <td>384.174638</td>\n",
       "    </tr>\n",
       "  </tbody>\n",
       "</table>\n",
       "</div>"
      ],
      "text/plain": [
       "   userId  Length Per Session\n",
       "0     148          132.355556\n",
       "1      85          370.846341\n",
       "2     137          211.261111\n",
       "3  200001           83.508333\n",
       "4      65          384.174638"
      ]
     },
     "execution_count": 523,
     "metadata": {},
     "output_type": "execute_result"
    }
   ],
   "source": [
    "session_length.toPandas().head(5)"
   ]
  },
  {
   "cell_type": "code",
   "execution_count": null,
   "metadata": {},
   "outputs": [],
   "source": [
    "def calculate_time_between_sessions(user_log):\n",
    "    \n",
    "    pass"
   ]
  },
  {
   "cell_type": "code",
   "execution_count": 493,
   "metadata": {},
   "outputs": [],
   "source": [
    "def get_current_level(user_log):\n",
    "    \"\"\" Gets the current level of each user\n",
    "    \n",
    "    Input:\n",
    "        user_log (DataFrame) - a DataFrame containing the cleansed user log data\n",
    "        \n",
    "    Output:\n",
    "        DataFrame - current level per user (0=unpaid, 1=paid)\n",
    "    \n",
    "    \"\"\"\n",
    "    \n",
    "    # Get payment mode of last event of users\n",
    "    window_var = Window().partitionBy('userId').orderBy(F.desc('ts'))\n",
    "    current_level = user_log.withColumn('rn', F.row_number().over(window_var))\\\n",
    "                           .filter(F.col('rn')==1).select(['userId', 'level'])\n",
    "    \n",
    "    # Make binary feature (0=unpaid, 1=paid)\n",
    "    is_user_paying = F.udf(lambda x: 1 if x==\"paid\" else 0)\n",
    "    current_level = current_level.withColumn('level', is_user_paying('level'))\n",
    "    current_level = current_level.withColumnRenamed('level', 'Paying')\n",
    "    \n",
    "    return current_level"
   ]
  },
  {
   "cell_type": "code",
   "execution_count": 524,
   "metadata": {},
   "outputs": [],
   "source": [
    "current_level = get_current_level(user_log_cleansed)"
   ]
  },
  {
   "cell_type": "code",
   "execution_count": 525,
   "metadata": {},
   "outputs": [
    {
     "data": {
      "text/html": [
       "<div>\n",
       "<style scoped>\n",
       "    .dataframe tbody tr th:only-of-type {\n",
       "        vertical-align: middle;\n",
       "    }\n",
       "\n",
       "    .dataframe tbody tr th {\n",
       "        vertical-align: top;\n",
       "    }\n",
       "\n",
       "    .dataframe thead th {\n",
       "        text-align: right;\n",
       "    }\n",
       "</style>\n",
       "<table border=\"1\" class=\"dataframe\">\n",
       "  <thead>\n",
       "    <tr style=\"text-align: right;\">\n",
       "      <th></th>\n",
       "      <th>userId</th>\n",
       "      <th>Paying</th>\n",
       "    </tr>\n",
       "  </thead>\n",
       "  <tbody>\n",
       "    <tr>\n",
       "      <th>0</th>\n",
       "      <td>148</td>\n",
       "      <td>0</td>\n",
       "    </tr>\n",
       "    <tr>\n",
       "      <th>1</th>\n",
       "      <td>85</td>\n",
       "      <td>1</td>\n",
       "    </tr>\n",
       "    <tr>\n",
       "      <th>2</th>\n",
       "      <td>137</td>\n",
       "      <td>1</td>\n",
       "    </tr>\n",
       "    <tr>\n",
       "      <th>3</th>\n",
       "      <td>65</td>\n",
       "      <td>1</td>\n",
       "    </tr>\n",
       "    <tr>\n",
       "      <th>4</th>\n",
       "      <td>200001</td>\n",
       "      <td>0</td>\n",
       "    </tr>\n",
       "  </tbody>\n",
       "</table>\n",
       "</div>"
      ],
      "text/plain": [
       "   userId Paying\n",
       "0     148      0\n",
       "1      85      1\n",
       "2     137      1\n",
       "3      65      1\n",
       "4  200001      0"
      ]
     },
     "execution_count": 525,
     "metadata": {},
     "output_type": "execute_result"
    }
   ],
   "source": [
    "current_level.toPandas().head(5)"
   ]
  },
  {
   "cell_type": "code",
   "execution_count": 475,
   "metadata": {},
   "outputs": [
    {
     "data": {
      "text/plain": [
       "\u001b[0;31mSignature:\u001b[0m \u001b[0mF\u001b[0m\u001b[0;34m.\u001b[0m\u001b[0mrow_number\u001b[0m\u001b[0;34m(\u001b[0m\u001b[0;34m)\u001b[0m\u001b[0;34m\u001b[0m\u001b[0;34m\u001b[0m\u001b[0m\n",
       "\u001b[0;31mDocstring:\u001b[0m\n",
       "Window function: returns a sequential number starting at 1 within a window partition.\n",
       "\n",
       ".. versionadded:: 1.6\n",
       "\u001b[0;31mFile:\u001b[0m      /opt/anaconda3/lib/python3.7/site-packages/pyspark/sql/functions.py\n",
       "\u001b[0;31mType:\u001b[0m      function\n"
      ]
     },
     "metadata": {},
     "output_type": "display_data"
    }
   ],
   "source": [
    "def count_number_of_paid_days()"
   ]
  },
  {
   "cell_type": "code",
   "execution_count": null,
   "metadata": {},
   "outputs": [],
   "source": [
    "number of paid days"
   ]
  },
  {
   "cell_type": "code",
   "execution_count": null,
   "metadata": {},
   "outputs": [],
   "source": [
    "gender"
   ]
  },
  {
   "cell_type": "code",
   "execution_count": null,
   "metadata": {},
   "outputs": [],
   "source": [
    "days since registration"
   ]
  },
  {
   "cell_type": "code",
   "execution_count": null,
   "metadata": {},
   "outputs": [],
   "source": []
  },
  {
   "cell_type": "code",
   "execution_count": null,
   "metadata": {},
   "outputs": [],
   "source": []
  },
  {
   "cell_type": "code",
   "execution_count": null,
   "metadata": {},
   "outputs": [],
   "source": [
    "## features that i ignore because of possible missing values\n",
    "\n",
    "time between sessions"
   ]
  },
  {
   "cell_type": "code",
   "execution_count": 418,
   "metadata": {},
   "outputs": [
    {
     "data": {
      "text/plain": [
       "userId       65391.013333\n",
       "count(os)        1.000000\n",
       "dtype: float64"
      ]
     },
     "execution_count": 418,
     "metadata": {},
     "output_type": "execute_result"
    }
   ],
   "source": [
    "user_log.groupby('userId').agg(F.countDistinct(F.col('os'))).toPandas().mean()"
   ]
  },
  {
   "cell_type": "code",
   "execution_count": 323,
   "metadata": {},
   "outputs": [
    {
     "name": "stdout",
     "output_type": "stream",
     "text": [
      "+-----+\n",
      "| page|\n",
      "+-----+\n",
      "|Error|\n",
      "+-----+\n",
      "\n"
     ]
    }
   ],
   "source": [
    "user_log.filter(F.col('status').isin(404)).select('page').dropDuplicates().show()"
   ]
  },
  {
   "cell_type": "code",
   "execution_count": 321,
   "metadata": {},
   "outputs": [
    {
     "data": {
      "text/html": [
       "<div>\n",
       "<style scoped>\n",
       "    .dataframe tbody tr th:only-of-type {\n",
       "        vertical-align: middle;\n",
       "    }\n",
       "\n",
       "    .dataframe tbody tr th {\n",
       "        vertical-align: top;\n",
       "    }\n",
       "\n",
       "    .dataframe thead th {\n",
       "        text-align: right;\n",
       "    }\n",
       "</style>\n",
       "<table border=\"1\" class=\"dataframe\">\n",
       "  <thead>\n",
       "    <tr style=\"text-align: right;\">\n",
       "      <th></th>\n",
       "      <th>status</th>\n",
       "    </tr>\n",
       "  </thead>\n",
       "  <tbody>\n",
       "    <tr>\n",
       "      <th>0</th>\n",
       "      <td>307</td>\n",
       "    </tr>\n",
       "  </tbody>\n",
       "</table>\n",
       "</div>"
      ],
      "text/plain": [
       "   status\n",
       "0     307"
      ]
     },
     "execution_count": 321,
     "metadata": {},
     "output_type": "execute_result"
    }
   ],
   "source": [
    "user_log.filter((F.col('page')=='Logout')).select('status').dropDuplicates().toPandas()"
   ]
  },
  {
   "cell_type": "markdown",
   "metadata": {},
   "source": [
    "# Modeling\n",
    "Split the full dataset into train, test, and validation sets. Test out several of the machine learning methods you learned. Evaluate the accuracy of the various models, tuning parameters as necessary. Determine your winning model based on test accuracy and report results on the validation set. Since the churned users are a fairly small subset, I suggest using F1 score as the metric to optimize."
   ]
  },
  {
   "cell_type": "code",
   "execution_count": null,
   "metadata": {},
   "outputs": [],
   "source": []
  },
  {
   "cell_type": "markdown",
   "metadata": {},
   "source": [
    "# Final Steps\n",
    "Clean up your code, adding comments and renaming variables to make the code easier to read and maintain. Refer to the Spark Project Overview page and Data Scientist Capstone Project Rubric to make sure you are including all components of the capstone project and meet all expectations. Remember, this includes thorough documentation in a README file in a Github repository, as well as a web app or blog post."
   ]
  },
  {
   "cell_type": "code",
   "execution_count": null,
   "metadata": {},
   "outputs": [],
   "source": []
  }
 ],
 "metadata": {
  "kernelspec": {
   "display_name": "Python 3",
   "language": "python",
   "name": "python3"
  },
  "language_info": {
   "codemirror_mode": {
    "name": "ipython",
    "version": 3
   },
   "file_extension": ".py",
   "mimetype": "text/x-python",
   "name": "python",
   "nbconvert_exporter": "python",
   "pygments_lexer": "ipython3",
   "version": "3.7.6"
  }
 },
 "nbformat": 4,
 "nbformat_minor": 4
}
