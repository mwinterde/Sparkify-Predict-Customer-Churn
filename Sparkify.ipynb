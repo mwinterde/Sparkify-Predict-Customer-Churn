{
 "cells": [
  {
   "cell_type": "markdown",
   "metadata": {},
   "source": [
    "# Sparkify Project Workspace\n",
    "This workspace contains a tiny subset (128MB) of the full dataset available (12GB). Feel free to use this workspace to build your project, or to explore a smaller subset with Spark before deploying your cluster on the cloud. Instructions for setting up your Spark cluster is included in the last lesson of the Extracurricular Spark Course content."
   ]
  },
  {
   "cell_type": "code",
   "execution_count": 575,
   "metadata": {},
   "outputs": [],
   "source": [
    "# Import libraries\n",
    "from pyspark.sql import SparkSession\n",
    "from pyspark.sql.types import *\n",
    "import pyspark.sql.functions as F\n",
    "from pyspark.sql.window import Window\n",
    "from pyspark.ml import Pipeline\n",
    "from pyspark.ml.classification import LogisticRegression, GBTClassifier, LinearSVC\n",
    "from pyspark.ml.evaluation import BinaryClassificationEvaluator, MulticlassClassificationEvaluator\n",
    "from pyspark.ml.feature import StandardScaler, VectorAssembler\n",
    "from pyspark.ml.regression import LinearRegression\n",
    "from pyspark.ml.tuning import CrossValidator, ParamGridBuilder\n",
    "import pandas as pd\n",
    "pd.set_option(\"display.max_columns\", 120)\n",
    "import numpy as np\n",
    "import matplotlib.pyplot as plt\n",
    "from datetime import datetime\n",
    "import re\n",
    "import seaborn as sns\n",
    "from functools import reduce"
   ]
  },
  {
   "cell_type": "markdown",
   "metadata": {},
   "source": [
    "## Load Data"
   ]
  },
  {
   "cell_type": "code",
   "execution_count": null,
   "metadata": {},
   "outputs": [],
   "source": [
    "# Create a Spark session\n",
    "spark = SparkSession.builder.appName('sparkify').getOrCreate()"
   ]
  },
  {
   "cell_type": "code",
   "execution_count": 590,
   "metadata": {},
   "outputs": [],
   "source": [
    "# Load the user log data\n",
    "path = \"mini_sparkify_event_data.json\"\n",
    "user_log = spark.read.json(path)"
   ]
  },
  {
   "cell_type": "markdown",
   "metadata": {},
   "source": [
    "## Explore Data"
   ]
  },
  {
   "cell_type": "markdown",
   "metadata": {},
   "source": [
    "### Overview"
   ]
  },
  {
   "cell_type": "code",
   "execution_count": 494,
   "metadata": {},
   "outputs": [
    {
     "data": {
      "text/plain": [
       "[Row(artist='Martha Tilston', auth='Logged In', firstName='Colin', gender='M', itemInSession=50, lastName='Freeman', length=277.89016, level='paid', location='Bakersfield, CA', method='PUT', page='NextSong', registration=1538173362000, sessionId=29, song='Rockpools', status=200, ts=1538352117000, userAgent='Mozilla/5.0 (Windows NT 6.1; WOW64; rv:31.0) Gecko/20100101 Firefox/31.0', userId='30'),\n",
       " Row(artist='Five Iron Frenzy', auth='Logged In', firstName='Micah', gender='M', itemInSession=79, lastName='Long', length=236.09424, level='free', location='Boston-Cambridge-Newton, MA-NH', method='PUT', page='NextSong', registration=1538331630000, sessionId=8, song='Canada', status=200, ts=1538352180000, userAgent='\"Mozilla/5.0 (Windows NT 6.1; WOW64) AppleWebKit/537.36 (KHTML, like Gecko) Chrome/37.0.2062.103 Safari/537.36\"', userId='9'),\n",
       " Row(artist='Adam Lambert', auth='Logged In', firstName='Colin', gender='M', itemInSession=51, lastName='Freeman', length=282.8273, level='paid', location='Bakersfield, CA', method='PUT', page='NextSong', registration=1538173362000, sessionId=29, song='Time For Miracles', status=200, ts=1538352394000, userAgent='Mozilla/5.0 (Windows NT 6.1; WOW64; rv:31.0) Gecko/20100101 Firefox/31.0', userId='30')]"
      ]
     },
     "execution_count": 494,
     "metadata": {},
     "output_type": "execute_result"
    }
   ],
   "source": [
    "# Take a look on the first three rows\n",
    "user_log.take(3)"
   ]
  },
  {
   "cell_type": "markdown",
   "metadata": {},
   "source": [
    "### Data types"
   ]
  },
  {
   "cell_type": "code",
   "execution_count": 495,
   "metadata": {},
   "outputs": [
    {
     "name": "stdout",
     "output_type": "stream",
     "text": [
      "root\n",
      " |-- artist: string (nullable = true)\n",
      " |-- auth: string (nullable = true)\n",
      " |-- firstName: string (nullable = true)\n",
      " |-- gender: string (nullable = true)\n",
      " |-- itemInSession: long (nullable = true)\n",
      " |-- lastName: string (nullable = true)\n",
      " |-- length: double (nullable = true)\n",
      " |-- level: string (nullable = true)\n",
      " |-- location: string (nullable = true)\n",
      " |-- method: string (nullable = true)\n",
      " |-- page: string (nullable = true)\n",
      " |-- registration: long (nullable = true)\n",
      " |-- sessionId: long (nullable = true)\n",
      " |-- song: string (nullable = true)\n",
      " |-- status: long (nullable = true)\n",
      " |-- ts: long (nullable = true)\n",
      " |-- userAgent: string (nullable = true)\n",
      " |-- userId: string (nullable = true)\n",
      "\n"
     ]
    }
   ],
   "source": [
    "# Print data types\n",
    "user_log.printSchema()"
   ]
  },
  {
   "cell_type": "code",
   "execution_count": 496,
   "metadata": {},
   "outputs": [
    {
     "data": {
      "text/plain": [
       "[Row(userid='')]"
      ]
     },
     "execution_count": 496,
     "metadata": {},
     "output_type": "execute_result"
    }
   ],
   "source": [
    "# Investigate non numeric user IDs\n",
    "user_log.filter('userid not rlike \"[0-9]+\"').select('userid').dropDuplicates().collect()"
   ]
  },
  {
   "cell_type": "code",
   "execution_count": 497,
   "metadata": {},
   "outputs": [
    {
     "data": {
      "text/plain": [
       "[Row(auth='Logged Out'), Row(auth='Guest')]"
      ]
     },
     "execution_count": 497,
     "metadata": {},
     "output_type": "execute_result"
    }
   ],
   "source": [
    "# Investigate authentication of non numeric user IDs\n",
    "user_log.filter(user_log.userId == \"\").select('auth').dropDuplicates().collect()"
   ]
  },
  {
   "cell_type": "markdown",
   "metadata": {},
   "source": [
    "All columns have appropriate data types, except the `userId` column. I will later drop events of unregistered users (those with `userId = ''`) and then convert the variable from string to integer."
   ]
  },
  {
   "cell_type": "markdown",
   "metadata": {},
   "source": [
    "### Missing values"
   ]
  },
  {
   "cell_type": "code",
   "execution_count": 498,
   "metadata": {},
   "outputs": [
    {
     "data": {
      "text/plain": [
       "[Row(artist=58392, auth=0, firstName=8346, gender=8346, itemInSession=0, lastName=8346, length=58392, level=0, location=8346, method=0, page=0, registration=8346, sessionId=0, song=58392, status=0, ts=0, userAgent=8346, userId=0)]"
      ]
     },
     "execution_count": 498,
     "metadata": {},
     "output_type": "execute_result"
    }
   ],
   "source": [
    "# Count missing values\n",
    "user_log.select([F.count(F.when(F.isnull(col) | F.isnan(col), 1)).alias(col) for col in user_log.columns]).collect()"
   ]
  },
  {
   "cell_type": "code",
   "execution_count": 499,
   "metadata": {},
   "outputs": [
    {
     "data": {
      "text/plain": [
       "[Row(artist=50046, auth=0, firstName=0, gender=0, itemInSession=0, lastName=0, length=50046, level=0, location=0, method=0, page=0, registration=0, sessionId=0, song=50046, status=0, ts=0, userAgent=0, userId=0)]"
      ]
     },
     "execution_count": 499,
     "metadata": {},
     "output_type": "execute_result"
    }
   ],
   "source": [
    "# Count missing values only for registered users\n",
    "cond1 = (user_log.userId != '')\n",
    "user_log.filter(cond1).select([F.count(F.when(F.isnull(col) | F.isnan(col), 1)).alias(col) for col in user_log.columns]).collect()"
   ]
  },
  {
   "cell_type": "code",
   "execution_count": 500,
   "metadata": {},
   "outputs": [
    {
     "data": {
      "text/plain": [
       "[Row(artist=0, auth=0, firstName=0, gender=0, itemInSession=0, lastName=0, length=0, level=0, location=0, method=0, page=0, registration=0, sessionId=0, song=0, status=0, ts=0, userAgent=0, userId=0)]"
      ]
     },
     "execution_count": 500,
     "metadata": {},
     "output_type": "execute_result"
    }
   ],
   "source": [
    "# Count missing values only for registered users and song pages\n",
    "cond2 = (user_log.page == \"NextSong\")\n",
    "user_log.filter(cond1 & cond2).select([F.count(F.when(F.isnull(col) | F.isnan(col), 1)).alias(col) for col in user_log.columns]).collect()"
   ]
  },
  {
   "cell_type": "markdown",
   "metadata": {},
   "source": [
    "There seems to be no major issue with missing values. Missing values occur in user specific variables (`firstName`, `gender`, `lastName`, `location`, `registration`, `userAgent`) only for events of unregistered users (for which holds `userId == ''`), as well as in song specific variables (`artist`, `length`, `song`) for not song-related events (for which holds `page != \"NextSong\"`). "
   ]
  },
  {
   "cell_type": "markdown",
   "metadata": {},
   "source": [
    "### Timestamps"
   ]
  },
  {
   "cell_type": "code",
   "execution_count": 512,
   "metadata": {},
   "outputs": [
    {
     "data": {
      "text/plain": [
       "([Row(min='2018-03-18')], [Row(min='2018-11-26')])"
      ]
     },
     "execution_count": 512,
     "metadata": {},
     "output_type": "execute_result"
    }
   ],
   "source": [
    "# Minimal and maximal registration date\n",
    "user_log.select('registration').agg(F.from_unixtime(F.min('registration') / 1000, 'yyyy-MM-dd').alias('min')).collect(), \\\n",
    "user_log.select('registration').agg(F.from_unixtime(F.max('registration') / 1000, 'yyyy-MM-dd').alias('min')).collect()"
   ]
  },
  {
   "cell_type": "code",
   "execution_count": 513,
   "metadata": {},
   "outputs": [
    {
     "data": {
      "text/plain": [
       "([Row(min='2018-10-01')], [Row(min='2018-12-03')])"
      ]
     },
     "execution_count": 513,
     "metadata": {},
     "output_type": "execute_result"
    }
   ],
   "source": [
    "# Minimal and maximal event date\n",
    "user_log.select('ts').agg(F.from_unixtime(F.min('ts') / 1000, 'yyyy-MM-dd').alias('min')).collect(), \\\n",
    "user_log.select('ts').agg(F.from_unixtime(F.max('ts') / 1000, 'yyyy-MM-dd').alias('min')).collect()"
   ]
  },
  {
   "cell_type": "markdown",
   "metadata": {},
   "source": [
    "This is an important insight for modeling on the small user log subset. There are users of which we don't have the full history (those who have registered before 2018-10-01). This is something we should consider in the feature generation phase, since otherwise, if we do not act wisely, our model could suffer from bias."
   ]
  },
  {
   "cell_type": "markdown",
   "metadata": {},
   "source": [
    "### Categorical variables"
   ]
  },
  {
   "cell_type": "code",
   "execution_count": 516,
   "metadata": {},
   "outputs": [
    {
     "name": "stdout",
     "output_type": "stream",
     "text": [
      "artist (17655)\n",
      "['Kings Of Leon', 'Coldplay', 'Florence + The Machine', 'Dwight Yoakam', 'BjÃ\\x83Â¶rk', 'The Black Keys', 'Muse', 'Justin Bieber', 'Jack Johnson', 'Eminem']\n",
      "auth (4)\n",
      "['Logged In', 'Logged Out', 'Guest', 'Cancelled']\n",
      "firstName (189)\n",
      "['Payton', 'Riley', 'Lucero', 'Emilia', 'Emma', 'Joseph', 'Colin', 'Nicole', 'Joshua', 'Brayden']\n",
      "gender (2)\n",
      "['F', 'M']\n",
      "lastName (173)\n",
      "['Campbell', 'Reed', 'Williams', 'Taylor', 'Johnson', 'Larson', 'House', 'Thompson', 'Jones', 'Beck']\n",
      "level (2)\n",
      "['paid', 'free']\n",
      "location (114)\n",
      "['Los Angeles-Long Beach-Anaheim, CA', 'New York-Newark-Jersey City, NY-NJ-PA', 'Boston-Cambridge-Newton, MA-NH', 'Houston-The Woodlands-Sugar Land, TX', 'Charlotte-Concord-Gastonia, NC-SC', 'Dallas-Fort Worth-Arlington, TX', 'Louisville/Jefferson County, KY-IN', 'Philadelphia-Camden-Wilmington, PA-NJ-DE-MD', 'Chicago-Naperville-Elgin, IL-IN-WI', 'St. Louis, MO-IL']\n",
      "method (2)\n",
      "['PUT', 'GET']\n",
      "page (22)\n",
      "['NextSong', 'Home', 'Thumbs Up', 'Add to Playlist', 'Add Friend', 'Roll Advert', 'Login', 'Logout', 'Thumbs Down', 'Downgrade']\n",
      "song (58480)\n",
      "[\"You're The One\", 'Undo', 'Revelry', 'Sehr kosmisch', 'Horn Concerto No. 4 in E flat K495: II. Romance (Andante cantabile)', 'Dog Days Are Over (Radio Edit)', 'Secrets', 'Use Somebody', 'Canada', 'Invalid']\n",
      "userAgent (56)\n",
      "['\"Mozilla/5.0 (Windows NT 6.1; WOW64) AppleWebKit/537.36 (KHTML, like Gecko) Chrome/36.0.1985.143 Safari/537.36\"', '\"Mozilla/5.0 (Macintosh; Intel Mac OS X 10_9_4) AppleWebKit/537.77.4 (KHTML, like Gecko) Version/7.0.5 Safari/537.77.4\"', '\"Mozilla/5.0 (Macintosh; Intel Mac OS X 10_9_4) AppleWebKit/537.36 (KHTML, like Gecko) Chrome/36.0.1985.125 Safari/537.36\"', '\"Mozilla/5.0 (Macintosh; Intel Mac OS X 10_9_4) AppleWebKit/537.36 (KHTML, like Gecko) Chrome/36.0.1985.143 Safari/537.36\"', 'Mozilla/5.0 (Windows NT 6.1; WOW64; rv:31.0) Gecko/20100101 Firefox/31.0', '\"Mozilla/5.0 (Windows NT 6.1; WOW64) AppleWebKit/537.36 (KHTML, like Gecko) Chrome/36.0.1985.125 Safari/537.36\"', '\"Mozilla/5.0 (Windows NT 6.1; WOW64) AppleWebKit/537.36 (KHTML, like Gecko) Chrome/37.0.2062.103 Safari/537.36\"', 'Mozilla/5.0 (Macintosh; Intel Mac OS X 10.9; rv:31.0) Gecko/20100101 Firefox/31.0', '\"Mozilla/5.0 (iPad; CPU OS 7_1_2 like Mac OS X) AppleWebKit/537.51.2 (KHTML, like Gecko) Version/7.0 Mobile/11D257 Safari/9537.53\"', 'Mozilla/5.0 (compatible; MSIE 9.0; Windows NT 6.1; WOW64; Trident/5.0)']\n"
     ]
    }
   ],
   "source": [
    "# Get number of unique values and top 10 values of categorical data\n",
    "df = user_log.toPandas()\n",
    "for col in df.columns[(df.dtypes == 'object') & (df.columns!='userId')]:\n",
    "    top10 = df[col].value_counts().index[:10].tolist()\n",
    "    print(col + \" ({})\".format(df[col].nunique()))\n",
    "    print(top10)"
   ]
  },
  {
   "cell_type": "markdown",
   "metadata": {},
   "source": [
    "### Numerical variables"
   ]
  },
  {
   "cell_type": "code",
   "execution_count": 521,
   "metadata": {},
   "outputs": [
    {
     "data": {
      "text/html": [
       "<div>\n",
       "<style scoped>\n",
       "    .dataframe tbody tr th:only-of-type {\n",
       "        vertical-align: middle;\n",
       "    }\n",
       "\n",
       "    .dataframe tbody tr th {\n",
       "        vertical-align: top;\n",
       "    }\n",
       "\n",
       "    .dataframe thead th {\n",
       "        text-align: right;\n",
       "    }\n",
       "</style>\n",
       "<table border=\"1\" class=\"dataframe\">\n",
       "  <thead>\n",
       "    <tr style=\"text-align: right;\">\n",
       "      <th></th>\n",
       "      <th>itemInSession</th>\n",
       "      <th>length</th>\n",
       "      <th>registration</th>\n",
       "      <th>sessionId</th>\n",
       "      <th>status</th>\n",
       "      <th>ts</th>\n",
       "    </tr>\n",
       "  </thead>\n",
       "  <tbody>\n",
       "    <tr>\n",
       "      <th>count</th>\n",
       "      <td>286500.000000</td>\n",
       "      <td>228108.000000</td>\n",
       "      <td>2.781540e+05</td>\n",
       "      <td>286500.000000</td>\n",
       "      <td>286500.000000</td>\n",
       "      <td>2.865000e+05</td>\n",
       "    </tr>\n",
       "    <tr>\n",
       "      <th>mean</th>\n",
       "      <td>114.414213</td>\n",
       "      <td>249.117182</td>\n",
       "      <td>1.535359e+12</td>\n",
       "      <td>1041.526555</td>\n",
       "      <td>210.054597</td>\n",
       "      <td>1.540957e+12</td>\n",
       "    </tr>\n",
       "    <tr>\n",
       "      <th>std</th>\n",
       "      <td>129.767262</td>\n",
       "      <td>99.235179</td>\n",
       "      <td>3.291322e+09</td>\n",
       "      <td>726.776263</td>\n",
       "      <td>31.505078</td>\n",
       "      <td>1.507544e+09</td>\n",
       "    </tr>\n",
       "    <tr>\n",
       "      <th>min</th>\n",
       "      <td>0.000000</td>\n",
       "      <td>0.783220</td>\n",
       "      <td>1.521381e+12</td>\n",
       "      <td>1.000000</td>\n",
       "      <td>200.000000</td>\n",
       "      <td>1.538352e+12</td>\n",
       "    </tr>\n",
       "    <tr>\n",
       "      <th>25%</th>\n",
       "      <td>27.000000</td>\n",
       "      <td>199.888530</td>\n",
       "      <td>1.533522e+12</td>\n",
       "      <td>336.000000</td>\n",
       "      <td>200.000000</td>\n",
       "      <td>1.539697e+12</td>\n",
       "    </tr>\n",
       "    <tr>\n",
       "      <th>50%</th>\n",
       "      <td>70.000000</td>\n",
       "      <td>234.500770</td>\n",
       "      <td>1.536664e+12</td>\n",
       "      <td>1013.000000</td>\n",
       "      <td>200.000000</td>\n",
       "      <td>1.540932e+12</td>\n",
       "    </tr>\n",
       "    <tr>\n",
       "      <th>75%</th>\n",
       "      <td>156.250000</td>\n",
       "      <td>277.158730</td>\n",
       "      <td>1.537672e+12</td>\n",
       "      <td>1675.000000</td>\n",
       "      <td>200.000000</td>\n",
       "      <td>1.542266e+12</td>\n",
       "    </tr>\n",
       "    <tr>\n",
       "      <th>max</th>\n",
       "      <td>1321.000000</td>\n",
       "      <td>3024.665670</td>\n",
       "      <td>1.543247e+12</td>\n",
       "      <td>2474.000000</td>\n",
       "      <td>404.000000</td>\n",
       "      <td>1.543799e+12</td>\n",
       "    </tr>\n",
       "  </tbody>\n",
       "</table>\n",
       "</div>"
      ],
      "text/plain": [
       "       itemInSession         length  registration      sessionId  \\\n",
       "count  286500.000000  228108.000000  2.781540e+05  286500.000000   \n",
       "mean      114.414213     249.117182  1.535359e+12    1041.526555   \n",
       "std       129.767262      99.235179  3.291322e+09     726.776263   \n",
       "min         0.000000       0.783220  1.521381e+12       1.000000   \n",
       "25%        27.000000     199.888530  1.533522e+12     336.000000   \n",
       "50%        70.000000     234.500770  1.536664e+12    1013.000000   \n",
       "75%       156.250000     277.158730  1.537672e+12    1675.000000   \n",
       "max      1321.000000    3024.665670  1.543247e+12    2474.000000   \n",
       "\n",
       "              status            ts  \n",
       "count  286500.000000  2.865000e+05  \n",
       "mean      210.054597  1.540957e+12  \n",
       "std        31.505078  1.507544e+09  \n",
       "min       200.000000  1.538352e+12  \n",
       "25%       200.000000  1.539697e+12  \n",
       "50%       200.000000  1.540932e+12  \n",
       "75%       200.000000  1.542266e+12  \n",
       "max       404.000000  1.543799e+12  "
      ]
     },
     "execution_count": 521,
     "metadata": {},
     "output_type": "execute_result"
    }
   ],
   "source": [
    "# Get description of numerical variables\n",
    "df.describe()"
   ]
  },
  {
   "cell_type": "markdown",
   "metadata": {},
   "source": [
    "### Activity over time"
   ]
  },
  {
   "cell_type": "code",
   "execution_count": 557,
   "metadata": {},
   "outputs": [
    {
     "data": {
      "image/png": "[encoded data removed]",
      "text/plain": [
       "<Figure size 1080x360 with 1 Axes>"
      ]
     },
     "metadata": {
      "needs_background": "light"
     },
     "output_type": "display_data"
    }
   ],
   "source": [
    "# Plot events per day\n",
    "get_date =  F.udf(lambda x: datetime.fromtimestamp(x/1000), DateType())\n",
    "events_per_date = user_log.withColumn('date', get_date('ts')).groupBy('date').count().alias('events')\n",
    "fig, ax = plt.subplots(1, 1, figsize=(15, 5))\n",
    "ax.set_title(\"Number of events per day\")\n",
    "events_per_date.toPandas().set_index('date').sort_index().plot(kind='bar', ax=ax)\n",
    "ax.get_legend().remove()\n",
    "plt.show()"
   ]
  },
  {
   "cell_type": "code",
   "execution_count": 570,
   "metadata": {},
   "outputs": [
    {
     "data": {
      "image/png": "[encoded data removed]",
      "text/plain": [
       "<Figure size 1080x360 with 1 Axes>"
      ]
     },
     "metadata": {
      "needs_background": "light"
     },
     "output_type": "display_data"
    }
   ],
   "source": [
    "# Plot events per weekday\n",
    "get_weekday = F.udf(lambda x: datetime.fromtimestamp(x/1000).weekday(), IntegerType())\n",
    "events_per_weekday = user_log.withColumn('weekday', get_weekday('ts')).groupBy('weekday').count()\n",
    "fig, ax = plt.subplots(1, 1, figsize=(15, 5))\n",
    "ax.set_title(\"Number of events per weekday\")\n",
    "events_per_weekday.toPandas().set_index('weekday').sort_index().plot(kind='bar', ax=ax)\n",
    "ax.set_xticklabels(['Mon', 'Tue', 'Wed', 'Thu', 'Fri', 'Sat', 'Sun'], rotation=0)\n",
    "ax.xaxis.set_tick_params(rotation=0)\n",
    "ax.get_legend().remove()\n",
    "plt.show()"
   ]
  },
  {
   "cell_type": "code",
   "execution_count": 568,
   "metadata": {},
   "outputs": [
    {
     "data": {
      "image/png": "[encoded data removed]",
      "text/plain": [
       "<Figure size 1080x360 with 1 Axes>"
      ]
     },
     "metadata": {
      "needs_background": "light"
     },
     "output_type": "display_data"
    }
   ],
   "source": [
    "# Plot events per hour\n",
    "get_hour = F.udf(lambda x: datetime.fromtimestamp(x/1000).hour, IntegerType())\n",
    "events_per_hour = user_log.withColumn('hour', get_hour('ts')).groupBy('hour').count()\n",
    "fig, ax = plt.subplots(1, 1, figsize=(15, 5))\n",
    "ax.set_title(\"Number of events per hour\")\n",
    "events_per_hour.toPandas().set_index('hour').sort_index().plot(kind='bar', ax=ax)\n",
    "ax.xaxis.set_tick_params(rotation=0)\n",
    "ax.get_legend().remove()\n",
    "plt.show()"
   ]
  },
  {
   "cell_type": "markdown",
   "metadata": {},
   "source": [
    "### Number of events per page"
   ]
  },
  {
   "cell_type": "code",
   "execution_count": 663,
   "metadata": {},
   "outputs": [
    {
     "data": {
      "image/png": "[encoded data removed]",
      "text/plain": [
       "<Figure size 1080x720 with 1 Axes>"
      ]
     },
     "metadata": {
      "needs_background": "light"
     },
     "output_type": "display_data"
    }
   ],
   "source": [
    "# Plot number of events per page\n",
    "num_events_per_page = user_log.groupBy('page').count().toPandas().sort_values('count')\n",
    "plt.figure(figsize=(15, 10))\n",
    "plt.title(\"Number of events per page\")\n",
    "plt.barh(num_events_per_page['page'], num_events_per_page['count'])\n",
    "plt.xlabel(\"Number of events\")\n",
    "plt.show()"
   ]
  },
  {
   "cell_type": "markdown",
   "metadata": {},
   "source": [
    "## Clean Data"
   ]
  },
  {
   "cell_type": "markdown",
   "metadata": {},
   "source": [
    "### Remove unregistered users"
   ]
  },
  {
   "cell_type": "code",
   "execution_count": 591,
   "metadata": {},
   "outputs": [],
   "source": [
    "def clean_user_log(user_log):\n",
    "    \"\"\" Prepares the user log data for the feature generation process \n",
    "    \n",
    "    Input:\n",
    "        user_log (DataFrame) - the original user log data\n",
    "        \n",
    "    Output:\n",
    "        DataFrame - cleansed user log data\n",
    "    \n",
    "    \"\"\"\n",
    "\n",
    "    # Cast userid column to integer and remove unregistered users\n",
    "    user_log = user_log.withColumn('userId', user_log['userId'].cast(IntegerType()))\n",
    "    user_log = user_log.filter(user_log.userId.isNotNull())\n",
    "    \n",
    "    return user_log"
   ]
  },
  {
   "cell_type": "code",
   "execution_count": 592,
   "metadata": {},
   "outputs": [
    {
     "data": {
      "text/html": [
       "<div>\n",
       "<style scoped>\n",
       "    .dataframe tbody tr th:only-of-type {\n",
       "        vertical-align: middle;\n",
       "    }\n",
       "\n",
       "    .dataframe tbody tr th {\n",
       "        vertical-align: top;\n",
       "    }\n",
       "\n",
       "    .dataframe thead th {\n",
       "        text-align: right;\n",
       "    }\n",
       "</style>\n",
       "<table border=\"1\" class=\"dataframe\">\n",
       "  <thead>\n",
       "    <tr style=\"text-align: right;\">\n",
       "      <th></th>\n",
       "      <th>artist</th>\n",
       "      <th>auth</th>\n",
       "      <th>firstName</th>\n",
       "      <th>gender</th>\n",
       "      <th>itemInSession</th>\n",
       "      <th>lastName</th>\n",
       "      <th>length</th>\n",
       "      <th>level</th>\n",
       "      <th>location</th>\n",
       "      <th>method</th>\n",
       "      <th>page</th>\n",
       "      <th>registration</th>\n",
       "      <th>sessionId</th>\n",
       "      <th>song</th>\n",
       "      <th>status</th>\n",
       "      <th>ts</th>\n",
       "      <th>userAgent</th>\n",
       "      <th>userId</th>\n",
       "    </tr>\n",
       "  </thead>\n",
       "  <tbody>\n",
       "    <tr>\n",
       "      <th>0</th>\n",
       "      <td>Martha Tilston</td>\n",
       "      <td>Logged In</td>\n",
       "      <td>Colin</td>\n",
       "      <td>M</td>\n",
       "      <td>50</td>\n",
       "      <td>Freeman</td>\n",
       "      <td>277.89016</td>\n",
       "      <td>paid</td>\n",
       "      <td>Bakersfield, CA</td>\n",
       "      <td>PUT</td>\n",
       "      <td>NextSong</td>\n",
       "      <td>1538173362000</td>\n",
       "      <td>29</td>\n",
       "      <td>Rockpools</td>\n",
       "      <td>200</td>\n",
       "      <td>1538352117000</td>\n",
       "      <td>Mozilla/5.0 (Windows NT 6.1; WOW64; rv:31.0) G...</td>\n",
       "      <td>30</td>\n",
       "    </tr>\n",
       "    <tr>\n",
       "      <th>1</th>\n",
       "      <td>Five Iron Frenzy</td>\n",
       "      <td>Logged In</td>\n",
       "      <td>Micah</td>\n",
       "      <td>M</td>\n",
       "      <td>79</td>\n",
       "      <td>Long</td>\n",
       "      <td>236.09424</td>\n",
       "      <td>free</td>\n",
       "      <td>Boston-Cambridge-Newton, MA-NH</td>\n",
       "      <td>PUT</td>\n",
       "      <td>NextSong</td>\n",
       "      <td>1538331630000</td>\n",
       "      <td>8</td>\n",
       "      <td>Canada</td>\n",
       "      <td>200</td>\n",
       "      <td>1538352180000</td>\n",
       "      <td>\"Mozilla/5.0 (Windows NT 6.1; WOW64) AppleWebK...</td>\n",
       "      <td>9</td>\n",
       "    </tr>\n",
       "    <tr>\n",
       "      <th>2</th>\n",
       "      <td>Adam Lambert</td>\n",
       "      <td>Logged In</td>\n",
       "      <td>Colin</td>\n",
       "      <td>M</td>\n",
       "      <td>51</td>\n",
       "      <td>Freeman</td>\n",
       "      <td>282.82730</td>\n",
       "      <td>paid</td>\n",
       "      <td>Bakersfield, CA</td>\n",
       "      <td>PUT</td>\n",
       "      <td>NextSong</td>\n",
       "      <td>1538173362000</td>\n",
       "      <td>29</td>\n",
       "      <td>Time For Miracles</td>\n",
       "      <td>200</td>\n",
       "      <td>1538352394000</td>\n",
       "      <td>Mozilla/5.0 (Windows NT 6.1; WOW64; rv:31.0) G...</td>\n",
       "      <td>30</td>\n",
       "    </tr>\n",
       "    <tr>\n",
       "      <th>3</th>\n",
       "      <td>Enigma</td>\n",
       "      <td>Logged In</td>\n",
       "      <td>Micah</td>\n",
       "      <td>M</td>\n",
       "      <td>80</td>\n",
       "      <td>Long</td>\n",
       "      <td>262.71302</td>\n",
       "      <td>free</td>\n",
       "      <td>Boston-Cambridge-Newton, MA-NH</td>\n",
       "      <td>PUT</td>\n",
       "      <td>NextSong</td>\n",
       "      <td>1538331630000</td>\n",
       "      <td>8</td>\n",
       "      <td>Knocking On Forbidden Doors</td>\n",
       "      <td>200</td>\n",
       "      <td>1538352416000</td>\n",
       "      <td>\"Mozilla/5.0 (Windows NT 6.1; WOW64) AppleWebK...</td>\n",
       "      <td>9</td>\n",
       "    </tr>\n",
       "    <tr>\n",
       "      <th>4</th>\n",
       "      <td>Daft Punk</td>\n",
       "      <td>Logged In</td>\n",
       "      <td>Colin</td>\n",
       "      <td>M</td>\n",
       "      <td>52</td>\n",
       "      <td>Freeman</td>\n",
       "      <td>223.60771</td>\n",
       "      <td>paid</td>\n",
       "      <td>Bakersfield, CA</td>\n",
       "      <td>PUT</td>\n",
       "      <td>NextSong</td>\n",
       "      <td>1538173362000</td>\n",
       "      <td>29</td>\n",
       "      <td>Harder Better Faster Stronger</td>\n",
       "      <td>200</td>\n",
       "      <td>1538352676000</td>\n",
       "      <td>Mozilla/5.0 (Windows NT 6.1; WOW64; rv:31.0) G...</td>\n",
       "      <td>30</td>\n",
       "    </tr>\n",
       "  </tbody>\n",
       "</table>\n",
       "</div>"
      ],
      "text/plain": [
       "             artist       auth firstName gender  itemInSession lastName  \\\n",
       "0    Martha Tilston  Logged In     Colin      M             50  Freeman   \n",
       "1  Five Iron Frenzy  Logged In     Micah      M             79     Long   \n",
       "2      Adam Lambert  Logged In     Colin      M             51  Freeman   \n",
       "3            Enigma  Logged In     Micah      M             80     Long   \n",
       "4         Daft Punk  Logged In     Colin      M             52  Freeman   \n",
       "\n",
       "      length level                        location method      page  \\\n",
       "0  277.89016  paid                 Bakersfield, CA    PUT  NextSong   \n",
       "1  236.09424  free  Boston-Cambridge-Newton, MA-NH    PUT  NextSong   \n",
       "2  282.82730  paid                 Bakersfield, CA    PUT  NextSong   \n",
       "3  262.71302  free  Boston-Cambridge-Newton, MA-NH    PUT  NextSong   \n",
       "4  223.60771  paid                 Bakersfield, CA    PUT  NextSong   \n",
       "\n",
       "    registration  sessionId                           song  status  \\\n",
       "0  1538173362000         29                      Rockpools     200   \n",
       "1  1538331630000          8                         Canada     200   \n",
       "2  1538173362000         29              Time For Miracles     200   \n",
       "3  1538331630000          8    Knocking On Forbidden Doors     200   \n",
       "4  1538173362000         29  Harder Better Faster Stronger     200   \n",
       "\n",
       "              ts                                          userAgent  userId  \n",
       "0  1538352117000  Mozilla/5.0 (Windows NT 6.1; WOW64; rv:31.0) G...      30  \n",
       "1  1538352180000  \"Mozilla/5.0 (Windows NT 6.1; WOW64) AppleWebK...       9  \n",
       "2  1538352394000  Mozilla/5.0 (Windows NT 6.1; WOW64; rv:31.0) G...      30  \n",
       "3  1538352416000  \"Mozilla/5.0 (Windows NT 6.1; WOW64) AppleWebK...       9  \n",
       "4  1538352676000  Mozilla/5.0 (Windows NT 6.1; WOW64; rv:31.0) G...      30  "
      ]
     },
     "execution_count": 592,
     "metadata": {},
     "output_type": "execute_result"
    }
   ],
   "source": [
    "user_log = clean_user_log(user_log)\n",
    "user_log.toPandas().head()"
   ]
  },
  {
   "cell_type": "code",
   "execution_count": 489,
   "metadata": {},
   "outputs": [
    {
     "data": {
      "text/plain": [
       "[]"
      ]
     },
     "execution_count": 489,
     "metadata": {},
     "output_type": "execute_result"
    }
   ],
   "source": [
    "# Is the dataset clean now?\n",
    "user_log.filter( (F.col('userId').isNull()) | (F.col('userId') == '')).collect()"
   ]
  },
  {
   "cell_type": "markdown",
   "metadata": {},
   "source": [
    "### Save churn users "
   ]
  },
  {
   "cell_type": "code",
   "execution_count": 593,
   "metadata": {},
   "outputs": [],
   "source": [
    "def get_churn_users(user_log):\n",
    "    \"\"\" Gets the user IDs of churn users in user log\n",
    "    \n",
    "    Input:\n",
    "        user_log (DataFrame) - a DataFrame containing the cleansed user log data\n",
    "    \n",
    "    Output:\n",
    "        list - churn user IDs\n",
    "    \n",
    "    \"\"\"\n",
    "    \n",
    "    churn_users = user_log.filter(F.col('page') == \"Cancellation Confirmation\")\\\n",
    "                      .select('userId').dropDuplicates()\\\n",
    "                      .rdd.flatMap(lambda x: x).collect()\n",
    "    \n",
    "    return churn_users"
   ]
  },
  {
   "cell_type": "code",
   "execution_count": 525,
   "metadata": {},
   "outputs": [
    {
     "name": "stdout",
     "output_type": "stream",
     "text": [
      "There are 52 churn users in the sample\n",
      "Examples: ['125', '51', '54', '100014', '101']\n"
     ]
    }
   ],
   "source": [
    "churn_users = get_churn_users(user_log)\n",
    "print(\"There are {} churn users in the sample\".format(len(churn_users)))\n",
    "print(\"Examples:\", churn_users[:5])"
   ]
  },
  {
   "cell_type": "markdown",
   "metadata": {},
   "source": [
    "### Create flag for churn users and remove cancellation events"
   ]
  },
  {
   "cell_type": "code",
   "execution_count": 594,
   "metadata": {},
   "outputs": [],
   "source": [
    "def create_churn_flag(user_log, churn_users):\n",
    "    \"\"\" Adds churn flag to each event of the user log and removes \n",
    "    cancellation events\n",
    "    \n",
    "    Input:\n",
    "        user_log (DataFrame) - a DataFrame containing the cleansed user log data\n",
    "        \n",
    "    Output:\n",
    "        DataFrame - new user log data set\n",
    "    \n",
    "    \"\"\"\n",
    "    \n",
    "    # Create churn user flag for user log data\n",
    "    is_churn_user = F.udf(lambda x: int(x in churn_users), IntegerType())\n",
    "    user_log = user_log.withColumn('churn', is_churn_user('userId'))\n",
    "    \n",
    "    # Remove cancellation events\n",
    "    user_log = user_log.filter(~F.col('page').isin([\"Cancellation Confirmation\", \"Cancel\"]))\n",
    "    \n",
    "    return user_log"
   ]
  },
  {
   "cell_type": "code",
   "execution_count": 595,
   "metadata": {},
   "outputs": [
    {
     "data": {
      "text/html": [
       "<div>\n",
       "<style scoped>\n",
       "    .dataframe tbody tr th:only-of-type {\n",
       "        vertical-align: middle;\n",
       "    }\n",
       "\n",
       "    .dataframe tbody tr th {\n",
       "        vertical-align: top;\n",
       "    }\n",
       "\n",
       "    .dataframe thead th {\n",
       "        text-align: right;\n",
       "    }\n",
       "</style>\n",
       "<table border=\"1\" class=\"dataframe\">\n",
       "  <thead>\n",
       "    <tr style=\"text-align: right;\">\n",
       "      <th></th>\n",
       "      <th>artist</th>\n",
       "      <th>auth</th>\n",
       "      <th>firstName</th>\n",
       "      <th>gender</th>\n",
       "      <th>itemInSession</th>\n",
       "      <th>lastName</th>\n",
       "      <th>length</th>\n",
       "      <th>level</th>\n",
       "      <th>location</th>\n",
       "      <th>method</th>\n",
       "      <th>page</th>\n",
       "      <th>registration</th>\n",
       "      <th>sessionId</th>\n",
       "      <th>song</th>\n",
       "      <th>status</th>\n",
       "      <th>ts</th>\n",
       "      <th>userAgent</th>\n",
       "      <th>userId</th>\n",
       "      <th>churn</th>\n",
       "    </tr>\n",
       "  </thead>\n",
       "  <tbody>\n",
       "    <tr>\n",
       "      <th>0</th>\n",
       "      <td>Martha Tilston</td>\n",
       "      <td>Logged In</td>\n",
       "      <td>Colin</td>\n",
       "      <td>M</td>\n",
       "      <td>50</td>\n",
       "      <td>Freeman</td>\n",
       "      <td>277.89016</td>\n",
       "      <td>paid</td>\n",
       "      <td>Bakersfield, CA</td>\n",
       "      <td>PUT</td>\n",
       "      <td>NextSong</td>\n",
       "      <td>1538173362000</td>\n",
       "      <td>29</td>\n",
       "      <td>Rockpools</td>\n",
       "      <td>200</td>\n",
       "      <td>1538352117000</td>\n",
       "      <td>Mozilla/5.0 (Windows NT 6.1; WOW64; rv:31.0) G...</td>\n",
       "      <td>30</td>\n",
       "      <td>0</td>\n",
       "    </tr>\n",
       "    <tr>\n",
       "      <th>1</th>\n",
       "      <td>Five Iron Frenzy</td>\n",
       "      <td>Logged In</td>\n",
       "      <td>Micah</td>\n",
       "      <td>M</td>\n",
       "      <td>79</td>\n",
       "      <td>Long</td>\n",
       "      <td>236.09424</td>\n",
       "      <td>free</td>\n",
       "      <td>Boston-Cambridge-Newton, MA-NH</td>\n",
       "      <td>PUT</td>\n",
       "      <td>NextSong</td>\n",
       "      <td>1538331630000</td>\n",
       "      <td>8</td>\n",
       "      <td>Canada</td>\n",
       "      <td>200</td>\n",
       "      <td>1538352180000</td>\n",
       "      <td>\"Mozilla/5.0 (Windows NT 6.1; WOW64) AppleWebK...</td>\n",
       "      <td>9</td>\n",
       "      <td>0</td>\n",
       "    </tr>\n",
       "    <tr>\n",
       "      <th>2</th>\n",
       "      <td>Adam Lambert</td>\n",
       "      <td>Logged In</td>\n",
       "      <td>Colin</td>\n",
       "      <td>M</td>\n",
       "      <td>51</td>\n",
       "      <td>Freeman</td>\n",
       "      <td>282.82730</td>\n",
       "      <td>paid</td>\n",
       "      <td>Bakersfield, CA</td>\n",
       "      <td>PUT</td>\n",
       "      <td>NextSong</td>\n",
       "      <td>1538173362000</td>\n",
       "      <td>29</td>\n",
       "      <td>Time For Miracles</td>\n",
       "      <td>200</td>\n",
       "      <td>1538352394000</td>\n",
       "      <td>Mozilla/5.0 (Windows NT 6.1; WOW64; rv:31.0) G...</td>\n",
       "      <td>30</td>\n",
       "      <td>0</td>\n",
       "    </tr>\n",
       "    <tr>\n",
       "      <th>3</th>\n",
       "      <td>Enigma</td>\n",
       "      <td>Logged In</td>\n",
       "      <td>Micah</td>\n",
       "      <td>M</td>\n",
       "      <td>80</td>\n",
       "      <td>Long</td>\n",
       "      <td>262.71302</td>\n",
       "      <td>free</td>\n",
       "      <td>Boston-Cambridge-Newton, MA-NH</td>\n",
       "      <td>PUT</td>\n",
       "      <td>NextSong</td>\n",
       "      <td>1538331630000</td>\n",
       "      <td>8</td>\n",
       "      <td>Knocking On Forbidden Doors</td>\n",
       "      <td>200</td>\n",
       "      <td>1538352416000</td>\n",
       "      <td>\"Mozilla/5.0 (Windows NT 6.1; WOW64) AppleWebK...</td>\n",
       "      <td>9</td>\n",
       "      <td>0</td>\n",
       "    </tr>\n",
       "    <tr>\n",
       "      <th>4</th>\n",
       "      <td>Daft Punk</td>\n",
       "      <td>Logged In</td>\n",
       "      <td>Colin</td>\n",
       "      <td>M</td>\n",
       "      <td>52</td>\n",
       "      <td>Freeman</td>\n",
       "      <td>223.60771</td>\n",
       "      <td>paid</td>\n",
       "      <td>Bakersfield, CA</td>\n",
       "      <td>PUT</td>\n",
       "      <td>NextSong</td>\n",
       "      <td>1538173362000</td>\n",
       "      <td>29</td>\n",
       "      <td>Harder Better Faster Stronger</td>\n",
       "      <td>200</td>\n",
       "      <td>1538352676000</td>\n",
       "      <td>Mozilla/5.0 (Windows NT 6.1; WOW64; rv:31.0) G...</td>\n",
       "      <td>30</td>\n",
       "      <td>0</td>\n",
       "    </tr>\n",
       "  </tbody>\n",
       "</table>\n",
       "</div>"
      ],
      "text/plain": [
       "             artist       auth firstName gender  itemInSession lastName  \\\n",
       "0    Martha Tilston  Logged In     Colin      M             50  Freeman   \n",
       "1  Five Iron Frenzy  Logged In     Micah      M             79     Long   \n",
       "2      Adam Lambert  Logged In     Colin      M             51  Freeman   \n",
       "3            Enigma  Logged In     Micah      M             80     Long   \n",
       "4         Daft Punk  Logged In     Colin      M             52  Freeman   \n",
       "\n",
       "      length level                        location method      page  \\\n",
       "0  277.89016  paid                 Bakersfield, CA    PUT  NextSong   \n",
       "1  236.09424  free  Boston-Cambridge-Newton, MA-NH    PUT  NextSong   \n",
       "2  282.82730  paid                 Bakersfield, CA    PUT  NextSong   \n",
       "3  262.71302  free  Boston-Cambridge-Newton, MA-NH    PUT  NextSong   \n",
       "4  223.60771  paid                 Bakersfield, CA    PUT  NextSong   \n",
       "\n",
       "    registration  sessionId                           song  status  \\\n",
       "0  1538173362000         29                      Rockpools     200   \n",
       "1  1538331630000          8                         Canada     200   \n",
       "2  1538173362000         29              Time For Miracles     200   \n",
       "3  1538331630000          8    Knocking On Forbidden Doors     200   \n",
       "4  1538173362000         29  Harder Better Faster Stronger     200   \n",
       "\n",
       "              ts                                          userAgent  userId  \\\n",
       "0  1538352117000  Mozilla/5.0 (Windows NT 6.1; WOW64; rv:31.0) G...      30   \n",
       "1  1538352180000  \"Mozilla/5.0 (Windows NT 6.1; WOW64) AppleWebK...       9   \n",
       "2  1538352394000  Mozilla/5.0 (Windows NT 6.1; WOW64; rv:31.0) G...      30   \n",
       "3  1538352416000  \"Mozilla/5.0 (Windows NT 6.1; WOW64) AppleWebK...       9   \n",
       "4  1538352676000  Mozilla/5.0 (Windows NT 6.1; WOW64; rv:31.0) G...      30   \n",
       "\n",
       "   churn  \n",
       "0      0  \n",
       "1      0  \n",
       "2      0  \n",
       "3      0  \n",
       "4      0  "
      ]
     },
     "execution_count": 595,
     "metadata": {},
     "output_type": "execute_result"
    }
   ],
   "source": [
    "user_log = create_churn_flag(user_log, churn_users)\n",
    "user_log.toPandas().head()"
   ]
  },
  {
   "cell_type": "code",
   "execution_count": 425,
   "metadata": {},
   "outputs": [
    {
     "data": {
      "text/plain": [
       "[]"
      ]
     },
     "execution_count": 425,
     "metadata": {},
     "output_type": "execute_result"
    }
   ],
   "source": [
    "# Are the cancellation events removed?\n",
    "user_log.filter(user_log.page.isin([\"Cancellation Confirmation\", \"Cancel\"])).collect()"
   ]
  },
  {
   "cell_type": "markdown",
   "metadata": {},
   "source": [
    "## Generate Features"
   ]
  },
  {
   "cell_type": "markdown",
   "metadata": {},
   "source": [
    "### Gender"
   ]
  },
  {
   "cell_type": "code",
   "execution_count": 596,
   "metadata": {},
   "outputs": [],
   "source": [
    "def get_gender(user_log):\n",
    "    \"\"\" Gets the gender of each user \n",
    "    \n",
    "    Input:\n",
    "        user_log (DataFrame) - a DataFrame containing the cleansed user log data\n",
    "    \n",
    "    Output:\n",
    "        DataFrame - gender per user\n",
    "    \n",
    "    \"\"\"\n",
    "    \n",
    "    # Get and encode gender per user\n",
    "    gender = user_log.withColumn('gender', F.when(F.col('gender') == 'M', 1).otherwise(0))\\\n",
    "                     .select('userId', 'gender').dropDuplicates()\n",
    "    \n",
    "    return gender"
   ]
  },
  {
   "cell_type": "code",
   "execution_count": 597,
   "metadata": {},
   "outputs": [],
   "source": [
    "gender = get_gender(user_log)"
   ]
  },
  {
   "cell_type": "code",
   "execution_count": 578,
   "metadata": {},
   "outputs": [
    {
     "data": {
      "text/html": [
       "<div>\n",
       "<style scoped>\n",
       "    .dataframe tbody tr th:only-of-type {\n",
       "        vertical-align: middle;\n",
       "    }\n",
       "\n",
       "    .dataframe tbody tr th {\n",
       "        vertical-align: top;\n",
       "    }\n",
       "\n",
       "    .dataframe thead th {\n",
       "        text-align: right;\n",
       "    }\n",
       "</style>\n",
       "<table border=\"1\" class=\"dataframe\">\n",
       "  <thead>\n",
       "    <tr style=\"text-align: right;\">\n",
       "      <th></th>\n",
       "      <th>userId</th>\n",
       "      <th>gender</th>\n",
       "      <th>churn</th>\n",
       "    </tr>\n",
       "  </thead>\n",
       "  <tbody>\n",
       "    <tr>\n",
       "      <th>0</th>\n",
       "      <td>73</td>\n",
       "      <td>0</td>\n",
       "      <td>1</td>\n",
       "    </tr>\n",
       "    <tr>\n",
       "      <th>1</th>\n",
       "      <td>37</td>\n",
       "      <td>1</td>\n",
       "      <td>0</td>\n",
       "    </tr>\n",
       "    <tr>\n",
       "      <th>2</th>\n",
       "      <td>19</td>\n",
       "      <td>0</td>\n",
       "      <td>0</td>\n",
       "    </tr>\n",
       "    <tr>\n",
       "      <th>3</th>\n",
       "      <td>134</td>\n",
       "      <td>1</td>\n",
       "      <td>0</td>\n",
       "    </tr>\n",
       "    <tr>\n",
       "      <th>4</th>\n",
       "      <td>139</td>\n",
       "      <td>1</td>\n",
       "      <td>0</td>\n",
       "    </tr>\n",
       "  </tbody>\n",
       "</table>\n",
       "</div>"
      ],
      "text/plain": [
       "  userId  gender  churn\n",
       "0     73       0      1\n",
       "1     37       1      0\n",
       "2     19       0      0\n",
       "3    134       1      0\n",
       "4    139       1      0"
      ]
     },
     "execution_count": 578,
     "metadata": {},
     "output_type": "execute_result"
    }
   ],
   "source": [
    "# Make pandas dataframe for exploration\n",
    "gender_pandas = gender.toPandas()\n",
    "gender_pandas['churn'] = gender_pandas['userId'].isin(churn_users).astype(int)\n",
    "gender_pandas.head()"
   ]
  },
  {
   "cell_type": "code",
   "execution_count": 616,
   "metadata": {},
   "outputs": [
    {
     "data": {
      "image/png": "[encoded data removed]",
      "text/plain": [
       "<Figure size 1080x360 with 1 Axes>"
      ]
     },
     "metadata": {
      "needs_background": "light"
     },
     "output_type": "display_data"
    }
   ],
   "source": [
    "# Plot number of users per gender\n",
    "gender_pandas_plot = gender_pandas.groupby(['gender', 'churn'], as_index=False).count()\n",
    "gender_pandas_plot.columns = ['gender', 'churn', 'num_users']\n",
    "plt.figure(figsize=(15, 5))\n",
    "plt.title(\"Number of users per gender\")\n",
    "sns.barplot(x = 'gender', y = 'num_users', hue = 'churn', data = gender_pandas_plot)\n",
    "plt.show()"
   ]
  },
  {
   "cell_type": "markdown",
   "metadata": {},
   "source": [
    "### Metropolian Area"
   ]
  },
  {
   "cell_type": "code",
   "execution_count": 598,
   "metadata": {},
   "outputs": [],
   "source": [
    "def get_metropolian_area_dummies(user_log):\n",
    "    \"\"\" Creates dataframe with dummies for the metropolian area users are \n",
    "    living in. The information can be extracted from the `location` column in\n",
    "    the user log data.\n",
    "    \n",
    "    Input:\n",
    "        user_log (DataFrame) - a DataFrame containing the cleansed user log data\n",
    "        \n",
    "    Output:\n",
    "        DataFrame - one hot encoded metropolian area of each user\n",
    "    \n",
    "    \"\"\"\n",
    "    \n",
    "    # Create metropolian area feature\n",
    "    get_state = F.udf(lambda x: x.split(', ')[1], StringType())\n",
    "    user_log = user_log.withColumn('area', get_state('location'))\n",
    "    \n",
    "    # Get dummies and fill missing values with 0\n",
    "    area_dummies = user_log.select(['userId', 'area']).dropDuplicates()\\\n",
    "                            .groupBy('userId').pivot('area').count()\n",
    "    area_dummies = area_dummies.fillna(0)\n",
    "    \n",
    "    return area_dummies"
   ]
  },
  {
   "cell_type": "code",
   "execution_count": 599,
   "metadata": {},
   "outputs": [],
   "source": [
    "area = get_metropolian_area_dummies(user_log)"
   ]
  },
  {
   "cell_type": "code",
   "execution_count": 600,
   "metadata": {},
   "outputs": [
    {
     "data": {
      "text/html": [
       "<div>\n",
       "<style scoped>\n",
       "    .dataframe tbody tr th:only-of-type {\n",
       "        vertical-align: middle;\n",
       "    }\n",
       "\n",
       "    .dataframe tbody tr th {\n",
       "        vertical-align: top;\n",
       "    }\n",
       "\n",
       "    .dataframe thead th {\n",
       "        text-align: right;\n",
       "    }\n",
       "</style>\n",
       "<table border=\"1\" class=\"dataframe\">\n",
       "  <thead>\n",
       "    <tr style=\"text-align: right;\">\n",
       "      <th></th>\n",
       "      <th>userId</th>\n",
       "      <th>AK</th>\n",
       "      <th>AL</th>\n",
       "      <th>AR</th>\n",
       "      <th>AZ</th>\n",
       "      <th>CA</th>\n",
       "      <th>CO</th>\n",
       "      <th>CT</th>\n",
       "      <th>DC-VA-MD-WV</th>\n",
       "      <th>FL</th>\n",
       "      <th>GA</th>\n",
       "      <th>GA-AL</th>\n",
       "      <th>IA</th>\n",
       "      <th>IL</th>\n",
       "      <th>IL-IN-WI</th>\n",
       "      <th>IL-MO</th>\n",
       "      <th>IN</th>\n",
       "      <th>KY</th>\n",
       "      <th>KY-IN</th>\n",
       "      <th>LA</th>\n",
       "      <th>MA-NH</th>\n",
       "      <th>MD</th>\n",
       "      <th>MD-WV</th>\n",
       "      <th>MI</th>\n",
       "      <th>MN-WI</th>\n",
       "      <th>MO-IL</th>\n",
       "      <th>MO-KS</th>\n",
       "      <th>MS</th>\n",
       "      <th>MT</th>\n",
       "      <th>NC</th>\n",
       "      <th>NC-SC</th>\n",
       "      <th>NE-IA</th>\n",
       "      <th>NH</th>\n",
       "      <th>NJ</th>\n",
       "      <th>NV</th>\n",
       "      <th>NY</th>\n",
       "      <th>NY-NJ-PA</th>\n",
       "      <th>OH</th>\n",
       "      <th>OH-KY-IN</th>\n",
       "      <th>OK</th>\n",
       "      <th>OR</th>\n",
       "      <th>OR-WA</th>\n",
       "      <th>PA</th>\n",
       "      <th>PA-NJ</th>\n",
       "      <th>PA-NJ-DE-MD</th>\n",
       "      <th>RI-MA</th>\n",
       "      <th>SC</th>\n",
       "      <th>SC-NC</th>\n",
       "      <th>TN</th>\n",
       "      <th>TN-MS-AR</th>\n",
       "      <th>TN-VA</th>\n",
       "      <th>TX</th>\n",
       "      <th>UT</th>\n",
       "      <th>UT-ID</th>\n",
       "      <th>VA</th>\n",
       "      <th>VA-NC</th>\n",
       "      <th>WA</th>\n",
       "      <th>WI</th>\n",
       "      <th>WV</th>\n",
       "      <th>churn</th>\n",
       "    </tr>\n",
       "  </thead>\n",
       "  <tbody>\n",
       "    <tr>\n",
       "      <th>0</th>\n",
       "      <td>148</td>\n",
       "      <td>0</td>\n",
       "      <td>0</td>\n",
       "      <td>0</td>\n",
       "      <td>0</td>\n",
       "      <td>0</td>\n",
       "      <td>0</td>\n",
       "      <td>0</td>\n",
       "      <td>0</td>\n",
       "      <td>1</td>\n",
       "      <td>0</td>\n",
       "      <td>0</td>\n",
       "      <td>0</td>\n",
       "      <td>0</td>\n",
       "      <td>0</td>\n",
       "      <td>0</td>\n",
       "      <td>0</td>\n",
       "      <td>0</td>\n",
       "      <td>0</td>\n",
       "      <td>0</td>\n",
       "      <td>0</td>\n",
       "      <td>0</td>\n",
       "      <td>0</td>\n",
       "      <td>0</td>\n",
       "      <td>0</td>\n",
       "      <td>0</td>\n",
       "      <td>0</td>\n",
       "      <td>0</td>\n",
       "      <td>0</td>\n",
       "      <td>0</td>\n",
       "      <td>0</td>\n",
       "      <td>0</td>\n",
       "      <td>0</td>\n",
       "      <td>0</td>\n",
       "      <td>0</td>\n",
       "      <td>0</td>\n",
       "      <td>0</td>\n",
       "      <td>0</td>\n",
       "      <td>0</td>\n",
       "      <td>0</td>\n",
       "      <td>0</td>\n",
       "      <td>0</td>\n",
       "      <td>0</td>\n",
       "      <td>0</td>\n",
       "      <td>0</td>\n",
       "      <td>0</td>\n",
       "      <td>0</td>\n",
       "      <td>0</td>\n",
       "      <td>0</td>\n",
       "      <td>0</td>\n",
       "      <td>0</td>\n",
       "      <td>0</td>\n",
       "      <td>0</td>\n",
       "      <td>0</td>\n",
       "      <td>0</td>\n",
       "      <td>0</td>\n",
       "      <td>0</td>\n",
       "      <td>0</td>\n",
       "      <td>0</td>\n",
       "      <td>0</td>\n",
       "    </tr>\n",
       "    <tr>\n",
       "      <th>1</th>\n",
       "      <td>137</td>\n",
       "      <td>0</td>\n",
       "      <td>0</td>\n",
       "      <td>0</td>\n",
       "      <td>0</td>\n",
       "      <td>0</td>\n",
       "      <td>0</td>\n",
       "      <td>0</td>\n",
       "      <td>0</td>\n",
       "      <td>0</td>\n",
       "      <td>0</td>\n",
       "      <td>0</td>\n",
       "      <td>0</td>\n",
       "      <td>0</td>\n",
       "      <td>0</td>\n",
       "      <td>0</td>\n",
       "      <td>0</td>\n",
       "      <td>0</td>\n",
       "      <td>0</td>\n",
       "      <td>0</td>\n",
       "      <td>0</td>\n",
       "      <td>0</td>\n",
       "      <td>0</td>\n",
       "      <td>0</td>\n",
       "      <td>0</td>\n",
       "      <td>0</td>\n",
       "      <td>0</td>\n",
       "      <td>0</td>\n",
       "      <td>0</td>\n",
       "      <td>0</td>\n",
       "      <td>0</td>\n",
       "      <td>0</td>\n",
       "      <td>0</td>\n",
       "      <td>0</td>\n",
       "      <td>0</td>\n",
       "      <td>0</td>\n",
       "      <td>1</td>\n",
       "      <td>0</td>\n",
       "      <td>0</td>\n",
       "      <td>0</td>\n",
       "      <td>0</td>\n",
       "      <td>0</td>\n",
       "      <td>0</td>\n",
       "      <td>0</td>\n",
       "      <td>0</td>\n",
       "      <td>0</td>\n",
       "      <td>0</td>\n",
       "      <td>0</td>\n",
       "      <td>0</td>\n",
       "      <td>0</td>\n",
       "      <td>0</td>\n",
       "      <td>0</td>\n",
       "      <td>0</td>\n",
       "      <td>0</td>\n",
       "      <td>0</td>\n",
       "      <td>0</td>\n",
       "      <td>0</td>\n",
       "      <td>0</td>\n",
       "      <td>0</td>\n",
       "      <td>0</td>\n",
       "    </tr>\n",
       "    <tr>\n",
       "      <th>2</th>\n",
       "      <td>85</td>\n",
       "      <td>0</td>\n",
       "      <td>0</td>\n",
       "      <td>0</td>\n",
       "      <td>0</td>\n",
       "      <td>1</td>\n",
       "      <td>0</td>\n",
       "      <td>0</td>\n",
       "      <td>0</td>\n",
       "      <td>0</td>\n",
       "      <td>0</td>\n",
       "      <td>0</td>\n",
       "      <td>0</td>\n",
       "      <td>0</td>\n",
       "      <td>0</td>\n",
       "      <td>0</td>\n",
       "      <td>0</td>\n",
       "      <td>0</td>\n",
       "      <td>0</td>\n",
       "      <td>0</td>\n",
       "      <td>0</td>\n",
       "      <td>0</td>\n",
       "      <td>0</td>\n",
       "      <td>0</td>\n",
       "      <td>0</td>\n",
       "      <td>0</td>\n",
       "      <td>0</td>\n",
       "      <td>0</td>\n",
       "      <td>0</td>\n",
       "      <td>0</td>\n",
       "      <td>0</td>\n",
       "      <td>0</td>\n",
       "      <td>0</td>\n",
       "      <td>0</td>\n",
       "      <td>0</td>\n",
       "      <td>0</td>\n",
       "      <td>0</td>\n",
       "      <td>0</td>\n",
       "      <td>0</td>\n",
       "      <td>0</td>\n",
       "      <td>0</td>\n",
       "      <td>0</td>\n",
       "      <td>0</td>\n",
       "      <td>0</td>\n",
       "      <td>0</td>\n",
       "      <td>0</td>\n",
       "      <td>0</td>\n",
       "      <td>0</td>\n",
       "      <td>0</td>\n",
       "      <td>0</td>\n",
       "      <td>0</td>\n",
       "      <td>0</td>\n",
       "      <td>0</td>\n",
       "      <td>0</td>\n",
       "      <td>0</td>\n",
       "      <td>0</td>\n",
       "      <td>0</td>\n",
       "      <td>0</td>\n",
       "      <td>0</td>\n",
       "      <td>0</td>\n",
       "    </tr>\n",
       "    <tr>\n",
       "      <th>3</th>\n",
       "      <td>200001</td>\n",
       "      <td>0</td>\n",
       "      <td>0</td>\n",
       "      <td>0</td>\n",
       "      <td>0</td>\n",
       "      <td>0</td>\n",
       "      <td>0</td>\n",
       "      <td>0</td>\n",
       "      <td>1</td>\n",
       "      <td>0</td>\n",
       "      <td>0</td>\n",
       "      <td>0</td>\n",
       "      <td>0</td>\n",
       "      <td>0</td>\n",
       "      <td>0</td>\n",
       "      <td>0</td>\n",
       "      <td>0</td>\n",
       "      <td>0</td>\n",
       "      <td>0</td>\n",
       "      <td>0</td>\n",
       "      <td>0</td>\n",
       "      <td>0</td>\n",
       "      <td>0</td>\n",
       "      <td>0</td>\n",
       "      <td>0</td>\n",
       "      <td>0</td>\n",
       "      <td>0</td>\n",
       "      <td>0</td>\n",
       "      <td>0</td>\n",
       "      <td>0</td>\n",
       "      <td>0</td>\n",
       "      <td>0</td>\n",
       "      <td>0</td>\n",
       "      <td>0</td>\n",
       "      <td>0</td>\n",
       "      <td>0</td>\n",
       "      <td>0</td>\n",
       "      <td>0</td>\n",
       "      <td>0</td>\n",
       "      <td>0</td>\n",
       "      <td>0</td>\n",
       "      <td>0</td>\n",
       "      <td>0</td>\n",
       "      <td>0</td>\n",
       "      <td>0</td>\n",
       "      <td>0</td>\n",
       "      <td>0</td>\n",
       "      <td>0</td>\n",
       "      <td>0</td>\n",
       "      <td>0</td>\n",
       "      <td>0</td>\n",
       "      <td>0</td>\n",
       "      <td>0</td>\n",
       "      <td>0</td>\n",
       "      <td>0</td>\n",
       "      <td>0</td>\n",
       "      <td>0</td>\n",
       "      <td>0</td>\n",
       "      <td>0</td>\n",
       "      <td>1</td>\n",
       "    </tr>\n",
       "    <tr>\n",
       "      <th>4</th>\n",
       "      <td>65</td>\n",
       "      <td>0</td>\n",
       "      <td>0</td>\n",
       "      <td>0</td>\n",
       "      <td>0</td>\n",
       "      <td>0</td>\n",
       "      <td>0</td>\n",
       "      <td>0</td>\n",
       "      <td>0</td>\n",
       "      <td>0</td>\n",
       "      <td>0</td>\n",
       "      <td>0</td>\n",
       "      <td>0</td>\n",
       "      <td>0</td>\n",
       "      <td>0</td>\n",
       "      <td>0</td>\n",
       "      <td>0</td>\n",
       "      <td>0</td>\n",
       "      <td>0</td>\n",
       "      <td>0</td>\n",
       "      <td>0</td>\n",
       "      <td>0</td>\n",
       "      <td>0</td>\n",
       "      <td>0</td>\n",
       "      <td>0</td>\n",
       "      <td>0</td>\n",
       "      <td>0</td>\n",
       "      <td>0</td>\n",
       "      <td>0</td>\n",
       "      <td>0</td>\n",
       "      <td>0</td>\n",
       "      <td>0</td>\n",
       "      <td>1</td>\n",
       "      <td>0</td>\n",
       "      <td>0</td>\n",
       "      <td>0</td>\n",
       "      <td>0</td>\n",
       "      <td>0</td>\n",
       "      <td>0</td>\n",
       "      <td>0</td>\n",
       "      <td>0</td>\n",
       "      <td>0</td>\n",
       "      <td>0</td>\n",
       "      <td>0</td>\n",
       "      <td>0</td>\n",
       "      <td>0</td>\n",
       "      <td>0</td>\n",
       "      <td>0</td>\n",
       "      <td>0</td>\n",
       "      <td>0</td>\n",
       "      <td>0</td>\n",
       "      <td>0</td>\n",
       "      <td>0</td>\n",
       "      <td>0</td>\n",
       "      <td>0</td>\n",
       "      <td>0</td>\n",
       "      <td>0</td>\n",
       "      <td>0</td>\n",
       "      <td>0</td>\n",
       "      <td>0</td>\n",
       "    </tr>\n",
       "  </tbody>\n",
       "</table>\n",
       "</div>"
      ],
      "text/plain": [
       "   userId  AK  AL  AR  AZ  CA  CO  CT  DC-VA-MD-WV  FL  GA  GA-AL  IA  IL  \\\n",
       "0     148   0   0   0   0   0   0   0            0   1   0      0   0   0   \n",
       "1     137   0   0   0   0   0   0   0            0   0   0      0   0   0   \n",
       "2      85   0   0   0   0   1   0   0            0   0   0      0   0   0   \n",
       "3  200001   0   0   0   0   0   0   0            1   0   0      0   0   0   \n",
       "4      65   0   0   0   0   0   0   0            0   0   0      0   0   0   \n",
       "\n",
       "   IL-IN-WI  IL-MO  IN  KY  KY-IN  LA  MA-NH  MD  MD-WV  MI  MN-WI  MO-IL  \\\n",
       "0         0      0   0   0      0   0      0   0      0   0      0      0   \n",
       "1         0      0   0   0      0   0      0   0      0   0      0      0   \n",
       "2         0      0   0   0      0   0      0   0      0   0      0      0   \n",
       "3         0      0   0   0      0   0      0   0      0   0      0      0   \n",
       "4         0      0   0   0      0   0      0   0      0   0      0      0   \n",
       "\n",
       "   MO-KS  MS  MT  NC  NC-SC  NE-IA  NH  NJ  NV  NY  NY-NJ-PA  OH  OH-KY-IN  \\\n",
       "0      0   0   0   0      0      0   0   0   0   0         0   0         0   \n",
       "1      0   0   0   0      0      0   0   0   0   0         1   0         0   \n",
       "2      0   0   0   0      0      0   0   0   0   0         0   0         0   \n",
       "3      0   0   0   0      0      0   0   0   0   0         0   0         0   \n",
       "4      0   0   0   0      0      0   1   0   0   0         0   0         0   \n",
       "\n",
       "   OK  OR  OR-WA  PA  PA-NJ  PA-NJ-DE-MD  RI-MA  SC  SC-NC  TN  TN-MS-AR  \\\n",
       "0   0   0      0   0      0            0      0   0      0   0         0   \n",
       "1   0   0      0   0      0            0      0   0      0   0         0   \n",
       "2   0   0      0   0      0            0      0   0      0   0         0   \n",
       "3   0   0      0   0      0            0      0   0      0   0         0   \n",
       "4   0   0      0   0      0            0      0   0      0   0         0   \n",
       "\n",
       "   TN-VA  TX  UT  UT-ID  VA  VA-NC  WA  WI  WV  churn  \n",
       "0      0   0   0      0   0      0   0   0   0      0  \n",
       "1      0   0   0      0   0      0   0   0   0      0  \n",
       "2      0   0   0      0   0      0   0   0   0      0  \n",
       "3      0   0   0      0   0      0   0   0   0      1  \n",
       "4      0   0   0      0   0      0   0   0   0      0  "
      ]
     },
     "execution_count": 600,
     "metadata": {},
     "output_type": "execute_result"
    }
   ],
   "source": [
    "# Make pandas dataframe for exploration\n",
    "area_pandas = area.toPandas()\n",
    "area_pandas['churn'] = area_pandas['userId'].isin(churn_users).astype(int)\n",
    "area_pandas.head()"
   ]
  },
  {
   "cell_type": "code",
   "execution_count": 617,
   "metadata": {},
   "outputs": [
    {
     "data": {
      "image/png": "[encoded data removed]",
      "text/plain": [
       "<Figure size 1080x360 with 1 Axes>"
      ]
     },
     "metadata": {
      "needs_background": "light"
     },
     "output_type": "display_data"
    }
   ],
   "source": [
    "# Plot number of users per metropolian area\n",
    "area_pandas_plot = area_pandas.groupby('churn').sum().drop('userId', axis=1).unstack().reset_index()\n",
    "area_pandas_plot.columns = ['area', 'churn', 'num_users']\n",
    "plt.figure(figsize=(15, 5))\n",
    "plt.title(\"Number of users per metropolian area\")\n",
    "sns.barplot(x = 'area', y = 'num_users', hue = 'churn', data = area_pandas_plot)\n",
    "plt.xticks(rotation=90)\n",
    "plt.show()"
   ]
  },
  {
   "cell_type": "markdown",
   "metadata": {},
   "source": [
    "### Device"
   ]
  },
  {
   "cell_type": "code",
   "execution_count": null,
   "metadata": {},
   "outputs": [],
   "source": [
    "def get_device_dummies(user_log):\n",
    "    \"\"\" Creates dataframe with dummies for the devices each user\n",
    "    uses. The information can be extracted from the `userAgent`\n",
    "    column in the user log data.\n",
    "    \n",
    "    Input:\n",
    "        user_log (DataFrame) - a DataFrame containing the cleansed user log data\n",
    "        \n",
    "    Output:\n",
    "        DataFrame - one hot encoded devices of each user\n",
    "    \n",
    "    \"\"\"\n",
    "    \n",
    "    # Create mapper for the derivation of device types\n",
    "    device_mapper = {'Windows NT 6.1': 'Windows', 'Macintosh': 'Mac', 'Windows NT 6.0': 'Windows', \n",
    "                 'Windows NT 6.2': 'Windows', 'iPhone': 'iPhone', 'Windows NT 6.3': 'Windows', \n",
    "                 'iPad': 'iPad', 'compatible': 'Windows', 'X11': 'Linux', \n",
    "                 'Windows NT 5.1': 'Windows'}\n",
    "    \n",
    "    # Create device column \n",
    "    # Note: If device type is unknown, assign `unknown device` type\n",
    "    get_device = F.udf(lambda x: device_mapper.get(re.findall(r'\\((.+?)\\)', x)[0].split(';')[0], 'Unknown Device'), \n",
    "                       StringType() )\n",
    "    user_log = user_log.withColumn('device', get_device('userAgent'))\n",
    "    \n",
    "    # Get dummies and fill missing values with 0\n",
    "    device_dummies = user_log.select(['userId', 'device']).dropDuplicates()\\\n",
    "                            .groupBy('userId').pivot('device').count()\n",
    "    device_dummies = device_dummies.fillna(0)\n",
    "    \n",
    "    return device_dummies"
   ]
  },
  {
   "cell_type": "code",
   "execution_count": 618,
   "metadata": {},
   "outputs": [],
   "source": [
    "device = get_device_dummies(user_log)"
   ]
  },
  {
   "cell_type": "code",
   "execution_count": 619,
   "metadata": {},
   "outputs": [
    {
     "data": {
      "text/html": [
       "<div>\n",
       "<style scoped>\n",
       "    .dataframe tbody tr th:only-of-type {\n",
       "        vertical-align: middle;\n",
       "    }\n",
       "\n",
       "    .dataframe tbody tr th {\n",
       "        vertical-align: top;\n",
       "    }\n",
       "\n",
       "    .dataframe thead th {\n",
       "        text-align: right;\n",
       "    }\n",
       "</style>\n",
       "<table border=\"1\" class=\"dataframe\">\n",
       "  <thead>\n",
       "    <tr style=\"text-align: right;\">\n",
       "      <th></th>\n",
       "      <th>userId</th>\n",
       "      <th>Linux</th>\n",
       "      <th>Mac</th>\n",
       "      <th>Windows</th>\n",
       "      <th>iPad</th>\n",
       "      <th>iPhone</th>\n",
       "      <th>churn</th>\n",
       "    </tr>\n",
       "  </thead>\n",
       "  <tbody>\n",
       "    <tr>\n",
       "      <th>0</th>\n",
       "      <td>148</td>\n",
       "      <td>0</td>\n",
       "      <td>0</td>\n",
       "      <td>1</td>\n",
       "      <td>0</td>\n",
       "      <td>0</td>\n",
       "      <td>0</td>\n",
       "    </tr>\n",
       "    <tr>\n",
       "      <th>1</th>\n",
       "      <td>137</td>\n",
       "      <td>0</td>\n",
       "      <td>1</td>\n",
       "      <td>0</td>\n",
       "      <td>0</td>\n",
       "      <td>0</td>\n",
       "      <td>0</td>\n",
       "    </tr>\n",
       "    <tr>\n",
       "      <th>2</th>\n",
       "      <td>85</td>\n",
       "      <td>0</td>\n",
       "      <td>1</td>\n",
       "      <td>0</td>\n",
       "      <td>0</td>\n",
       "      <td>0</td>\n",
       "      <td>0</td>\n",
       "    </tr>\n",
       "    <tr>\n",
       "      <th>3</th>\n",
       "      <td>65</td>\n",
       "      <td>1</td>\n",
       "      <td>0</td>\n",
       "      <td>0</td>\n",
       "      <td>0</td>\n",
       "      <td>0</td>\n",
       "      <td>0</td>\n",
       "    </tr>\n",
       "    <tr>\n",
       "      <th>4</th>\n",
       "      <td>200001</td>\n",
       "      <td>0</td>\n",
       "      <td>0</td>\n",
       "      <td>1</td>\n",
       "      <td>0</td>\n",
       "      <td>0</td>\n",
       "      <td>1</td>\n",
       "    </tr>\n",
       "  </tbody>\n",
       "</table>\n",
       "</div>"
      ],
      "text/plain": [
       "   userId  Linux  Mac  Windows  iPad  iPhone  churn\n",
       "0     148      0    0        1     0       0      0\n",
       "1     137      0    1        0     0       0      0\n",
       "2      85      0    1        0     0       0      0\n",
       "3      65      1    0        0     0       0      0\n",
       "4  200001      0    0        1     0       0      1"
      ]
     },
     "execution_count": 619,
     "metadata": {},
     "output_type": "execute_result"
    }
   ],
   "source": [
    "# Make pandas dataframe for exploration\n",
    "device_pandas = device.toPandas()\n",
    "device_pandas['churn'] = device_pandas['userId'].isin(churn_users).astype(int)\n",
    "device_pandas.head()"
   ]
  },
  {
   "cell_type": "code",
   "execution_count": 620,
   "metadata": {},
   "outputs": [
    {
     "data": {
      "image/png": "[encoded data removed]",
      "text/plain": [
       "<Figure size 1080x360 with 1 Axes>"
      ]
     },
     "metadata": {
      "needs_background": "light"
     },
     "output_type": "display_data"
    }
   ],
   "source": [
    "# Plot number of users per device\n",
    "device_pandas_plot = device_pandas.groupby('churn').sum().drop('userId', axis=1).unstack().reset_index()\n",
    "device_pandas_plot.columns = ['device', 'churn', 'num_users']\n",
    "plt.figure(figsize=(15, 5))\n",
    "plt.title(\"Number of users per device\")\n",
    "sns.barplot(x = 'device', y = 'num_users', hue = 'churn', data = device_pandas_plot)\n",
    "plt.xticks(rotation=90)\n",
    "plt.show()"
   ]
  },
  {
   "cell_type": "code",
   "execution_count": 634,
   "metadata": {},
   "outputs": [
    {
     "data": {
      "text/plain": [
       "Series([], Name: userId, dtype: int32)"
      ]
     },
     "execution_count": 634,
     "metadata": {},
     "output_type": "execute_result"
    }
   ],
   "source": [
    "# Are there multidevice users?\n",
    "device_pandas.loc[device_pandas.iloc[:,1:-1].sum(axis=1)>1, 'userId']"
   ]
  },
  {
   "cell_type": "markdown",
   "metadata": {},
   "source": [
    "### Status"
   ]
  },
  {
   "cell_type": "code",
   "execution_count": 639,
   "metadata": {},
   "outputs": [],
   "source": [
    "def get_current_status(user_log):\n",
    "    \"\"\" Gets the current status of each user\n",
    "    \n",
    "    Input:\n",
    "        user_log (DataFrame) - a DataFrame containing the cleansed user log data\n",
    "        \n",
    "    Output:\n",
    "        DataFrame - current status per user (0=unpaid, 1=paid)\n",
    "    \n",
    "    \"\"\"\n",
    "    \n",
    "    # Get payment mode of last event of users\n",
    "    window_var = Window().partitionBy('userId').orderBy(F.desc('ts'))\n",
    "    current_status = user_log.withColumn('rn', F.row_number().over(window_var))\\\n",
    "                           .filter(F.col('rn')==1).select(['userId', 'level'])\n",
    "    \n",
    "    # Make binary feature (0=unpaid, 1=paid)\n",
    "    is_user_paying = F.udf(lambda x: 1 if x==\"paid\" else 0, IntegerType())\n",
    "    current_status = current_status.withColumn('level', is_user_paying('level'))\n",
    "    current_status = current_status.withColumnRenamed('level', 'Pay Status')\n",
    "    \n",
    "    return current_status"
   ]
  },
  {
   "cell_type": "code",
   "execution_count": 640,
   "metadata": {},
   "outputs": [],
   "source": [
    "status = get_current_status(user_log)"
   ]
  },
  {
   "cell_type": "code",
   "execution_count": 641,
   "metadata": {},
   "outputs": [
    {
     "data": {
      "text/html": [
       "<div>\n",
       "<style scoped>\n",
       "    .dataframe tbody tr th:only-of-type {\n",
       "        vertical-align: middle;\n",
       "    }\n",
       "\n",
       "    .dataframe tbody tr th {\n",
       "        vertical-align: top;\n",
       "    }\n",
       "\n",
       "    .dataframe thead th {\n",
       "        text-align: right;\n",
       "    }\n",
       "</style>\n",
       "<table border=\"1\" class=\"dataframe\">\n",
       "  <thead>\n",
       "    <tr style=\"text-align: right;\">\n",
       "      <th></th>\n",
       "      <th>userId</th>\n",
       "      <th>Pay Status</th>\n",
       "      <th>churn</th>\n",
       "    </tr>\n",
       "  </thead>\n",
       "  <tbody>\n",
       "    <tr>\n",
       "      <th>0</th>\n",
       "      <td>148</td>\n",
       "      <td>0</td>\n",
       "      <td>0</td>\n",
       "    </tr>\n",
       "    <tr>\n",
       "      <th>1</th>\n",
       "      <td>85</td>\n",
       "      <td>1</td>\n",
       "      <td>0</td>\n",
       "    </tr>\n",
       "    <tr>\n",
       "      <th>2</th>\n",
       "      <td>137</td>\n",
       "      <td>1</td>\n",
       "      <td>0</td>\n",
       "    </tr>\n",
       "    <tr>\n",
       "      <th>3</th>\n",
       "      <td>65</td>\n",
       "      <td>1</td>\n",
       "      <td>0</td>\n",
       "    </tr>\n",
       "    <tr>\n",
       "      <th>4</th>\n",
       "      <td>200001</td>\n",
       "      <td>0</td>\n",
       "      <td>1</td>\n",
       "    </tr>\n",
       "  </tbody>\n",
       "</table>\n",
       "</div>"
      ],
      "text/plain": [
       "   userId  Pay Status  churn\n",
       "0     148           0      0\n",
       "1      85           1      0\n",
       "2     137           1      0\n",
       "3      65           1      0\n",
       "4  200001           0      1"
      ]
     },
     "execution_count": 641,
     "metadata": {},
     "output_type": "execute_result"
    }
   ],
   "source": [
    "# Make pandas dataframe for exploration\n",
    "status_pandas = status.toPandas()\n",
    "status_pandas['churn'] = status_pandas['userId'].isin(churn_users).astype(int)\n",
    "status_pandas.head()"
   ]
  },
  {
   "cell_type": "code",
   "execution_count": 644,
   "metadata": {},
   "outputs": [
    {
     "data": {
      "image/png": "[encoded data removed]",
      "text/plain": [
       "<Figure size 1080x360 with 1 Axes>"
      ]
     },
     "metadata": {
      "needs_background": "light"
     },
     "output_type": "display_data"
    }
   ],
   "source": [
    "# Plot number of users per status\n",
    "status_pandas_plot = status_pandas.groupby(['Pay Status', 'churn'], as_index=False).count()\n",
    "status_pandas_plot.columns = ['Pay Status', 'churn', 'num_users']\n",
    "plt.figure(figsize=(15, 5))\n",
    "plt.title(\"Number of users per status\")\n",
    "sns.barplot(x = 'Pay Status', y = 'num_users', hue = 'churn', data = status_pandas_plot)\n",
    "plt.show()"
   ]
  },
  {
   "cell_type": "markdown",
   "metadata": {},
   "source": [
    "### Number of sessions"
   ]
  },
  {
   "cell_type": "code",
   "execution_count": 453,
   "metadata": {},
   "outputs": [],
   "source": [
    "def get_number_of_sessions(user_log):\n",
    "    \"\"\" Calculates the average number of sessions per week for each user\n",
    "    \n",
    "    Input:\n",
    "        user_log (DataFrame) - a DataFrame containing the cleansed user log data\n",
    "        \n",
    "    Output:\n",
    "        DataFrame - average number of sessions per week per user\n",
    "    \n",
    "    \"\"\"\n",
    "    \n",
    "    # Calculate length of observation period for each user\n",
    "    start_date_min = user_log.agg({'ts': 'min'}).collect()[0][0]\n",
    "    end_date_max = user_log.agg({'ts': 'max'}).collect()[0][0]\n",
    "    window_var = Window().partitionBy('userId')\n",
    "    user_log = user_log.withColumn('start_ts',\\\n",
    "                               F.when(F.col('registration') >= start_date_min, F.max(F.col('registration')).over(window_var))\\\n",
    "                               .otherwise(start_date_min))\\\n",
    "                       .withColumn('end_ts',\\\n",
    "                               F.when(F.col('churn') == 1, F.max(F.col('ts')).over(window_var))\\\n",
    "                               .otherwise(end_date_max))\\\n",
    "                       .withColumn('duration_weeks', (F.col('end_ts') - F.col('start_ts')) / (1000 * 60 * 60 * 24 * 7))\n",
    "        \n",
    "    # Calculate number of sessions per week and user\n",
    "    num_sessions = user_log.groupBy('userId', 'duration_weeks')\\\n",
    "                           .agg((F.countDistinct('sessionId') / F.col('duration_weeks')).alias('Sessions Per Week'))\\\n",
    "                           .select('userId', 'Sessions Per Week')\n",
    "    \n",
    "    return num_sessions"
   ]
  },
  {
   "cell_type": "code",
   "execution_count": 645,
   "metadata": {},
   "outputs": [],
   "source": [
    "sessions = get_number_of_sessions(user_log)"
   ]
  },
  {
   "cell_type": "code",
   "execution_count": 646,
   "metadata": {},
   "outputs": [
    {
     "data": {
      "text/html": [
       "<div>\n",
       "<style scoped>\n",
       "    .dataframe tbody tr th:only-of-type {\n",
       "        vertical-align: middle;\n",
       "    }\n",
       "\n",
       "    .dataframe tbody tr th {\n",
       "        vertical-align: top;\n",
       "    }\n",
       "\n",
       "    .dataframe thead th {\n",
       "        text-align: right;\n",
       "    }\n",
       "</style>\n",
       "<table border=\"1\" class=\"dataframe\">\n",
       "  <thead>\n",
       "    <tr style=\"text-align: right;\">\n",
       "      <th></th>\n",
       "      <th>userId</th>\n",
       "      <th>Sessions Per Week</th>\n",
       "      <th>churn</th>\n",
       "    </tr>\n",
       "  </thead>\n",
       "  <tbody>\n",
       "    <tr>\n",
       "      <th>0</th>\n",
       "      <td>148</td>\n",
       "      <td>1.332315</td>\n",
       "      <td>0</td>\n",
       "    </tr>\n",
       "    <tr>\n",
       "      <th>1</th>\n",
       "      <td>85</td>\n",
       "      <td>4.552077</td>\n",
       "      <td>0</td>\n",
       "    </tr>\n",
       "    <tr>\n",
       "      <th>2</th>\n",
       "      <td>137</td>\n",
       "      <td>0.333079</td>\n",
       "      <td>0</td>\n",
       "    </tr>\n",
       "    <tr>\n",
       "      <th>3</th>\n",
       "      <td>65</td>\n",
       "      <td>2.553604</td>\n",
       "      <td>0</td>\n",
       "    </tr>\n",
       "    <tr>\n",
       "      <th>4</th>\n",
       "      <td>200001</td>\n",
       "      <td>0.666158</td>\n",
       "      <td>1</td>\n",
       "    </tr>\n",
       "  </tbody>\n",
       "</table>\n",
       "</div>"
      ],
      "text/plain": [
       "   userId  Sessions Per Week  churn\n",
       "0     148           1.332315      0\n",
       "1      85           4.552077      0\n",
       "2     137           0.333079      0\n",
       "3      65           2.553604      0\n",
       "4  200001           0.666158      1"
      ]
     },
     "execution_count": 646,
     "metadata": {},
     "output_type": "execute_result"
    }
   ],
   "source": [
    "# Make pandas dataframe for exploration\n",
    "sessions_pandas = sessions.toPandas()\n",
    "sessions_pandas['churn'] = sessions_pandas['userId'].isin(churn_users).astype(int)\n",
    "sessions_pandas.head()"
   ]
  },
  {
   "cell_type": "code",
   "execution_count": 650,
   "metadata": {},
   "outputs": [
    {
     "data": {
      "image/png": "[encoded data removed]",
      "text/plain": [
       "<Figure size 1080x360 with 1 Axes>"
      ]
     },
     "metadata": {
      "needs_background": "light"
     },
     "output_type": "display_data"
    }
   ],
   "source": [
    "# Plot sessions per week and user\n",
    "sessions_pandas_plot = sessions_pandas.groupby('churn', as_index=False)['Sessions Per Week'].mean()\n",
    "plt.figure(figsize=(15, 5))\n",
    "plt.title(\"Average sessions per week and user\")\n",
    "sns.barplot(x = 'churn', y = 'Sessions Per Week', data = sessions_pandas_plot)\n",
    "plt.show()"
   ]
  },
  {
   "cell_type": "markdown",
   "metadata": {},
   "source": [
    "### Average session length"
   ]
  },
  {
   "cell_type": "code",
   "execution_count": 450,
   "metadata": {},
   "outputs": [],
   "source": [
    "def calculate_session_length(user_log):\n",
    "    \"\"\" Calculates the average length of all sessions of a user \n",
    "    \n",
    "    Input:\n",
    "        user_log (DataFrame) - a DataFrame containing the cleansed user log data\n",
    "        \n",
    "    Output:\n",
    "        DataFrame - average session length per user\n",
    "    \n",
    "    \"\"\"\n",
    "\n",
    "    # Calculate length per session\n",
    "    session_length = user_log.groupBy(['userId', 'sessionId'])\\\n",
    "                             .agg((F.max('ts')-F.min('ts')).alias('session_length'))\n",
    "    \n",
    "    # Calculate average length of all sessions per user\n",
    "    avg_session_length = session_length.groupBy('userId')\\\n",
    "                                       .agg((F.mean('session_length')/60000).alias('Length Per Session'))\n",
    "    \n",
    "    return avg_session_length"
   ]
  },
  {
   "cell_type": "code",
   "execution_count": 654,
   "metadata": {},
   "outputs": [],
   "source": [
    "length = calculate_session_length(user_log)"
   ]
  },
  {
   "cell_type": "code",
   "execution_count": 652,
   "metadata": {},
   "outputs": [
    {
     "data": {
      "text/html": [
       "<div>\n",
       "<style scoped>\n",
       "    .dataframe tbody tr th:only-of-type {\n",
       "        vertical-align: middle;\n",
       "    }\n",
       "\n",
       "    .dataframe tbody tr th {\n",
       "        vertical-align: top;\n",
       "    }\n",
       "\n",
       "    .dataframe thead th {\n",
       "        text-align: right;\n",
       "    }\n",
       "</style>\n",
       "<table border=\"1\" class=\"dataframe\">\n",
       "  <thead>\n",
       "    <tr style=\"text-align: right;\">\n",
       "      <th></th>\n",
       "      <th>userId</th>\n",
       "      <th>Length Per Session</th>\n",
       "      <th>churn</th>\n",
       "    </tr>\n",
       "  </thead>\n",
       "  <tbody>\n",
       "    <tr>\n",
       "      <th>0</th>\n",
       "      <td>148</td>\n",
       "      <td>132.355556</td>\n",
       "      <td>0</td>\n",
       "    </tr>\n",
       "    <tr>\n",
       "      <th>1</th>\n",
       "      <td>85</td>\n",
       "      <td>370.846341</td>\n",
       "      <td>0</td>\n",
       "    </tr>\n",
       "    <tr>\n",
       "      <th>2</th>\n",
       "      <td>137</td>\n",
       "      <td>211.261111</td>\n",
       "      <td>0</td>\n",
       "    </tr>\n",
       "    <tr>\n",
       "      <th>3</th>\n",
       "      <td>200001</td>\n",
       "      <td>83.508333</td>\n",
       "      <td>1</td>\n",
       "    </tr>\n",
       "    <tr>\n",
       "      <th>4</th>\n",
       "      <td>65</td>\n",
       "      <td>384.174638</td>\n",
       "      <td>0</td>\n",
       "    </tr>\n",
       "  </tbody>\n",
       "</table>\n",
       "</div>"
      ],
      "text/plain": [
       "   userId  Length Per Session  churn\n",
       "0     148          132.355556      0\n",
       "1      85          370.846341      0\n",
       "2     137          211.261111      0\n",
       "3  200001           83.508333      1\n",
       "4      65          384.174638      0"
      ]
     },
     "execution_count": 652,
     "metadata": {},
     "output_type": "execute_result"
    }
   ],
   "source": [
    "# Make pandas dataframe for exploration\n",
    "length_pandas = length.toPandas()\n",
    "length_pandas['churn'] = length_pandas['userId'].isin(churn_users).astype(int)\n",
    "length_pandas.head()"
   ]
  },
  {
   "cell_type": "code",
   "execution_count": 653,
   "metadata": {},
   "outputs": [
    {
     "data": {
      "image/png": "[encoded data removed]",
      "text/plain": [
       "<Figure size 1080x360 with 1 Axes>"
      ]
     },
     "metadata": {
      "needs_background": "light"
     },
     "output_type": "display_data"
    }
   ],
   "source": [
    "# Plot length per session \n",
    "length_pandas_plot = length_pandas.groupby('churn', as_index=False)['Length Per Session'].mean()\n",
    "plt.figure(figsize=(15, 5))\n",
    "plt.title(\"Average length per session\")\n",
    "sns.barplot(x = 'churn', y = 'Length Per Session', data = length_pandas_plot)\n",
    "plt.show()"
   ]
  },
  {
   "cell_type": "markdown",
   "metadata": {},
   "source": [
    "### Days since registration"
   ]
  },
  {
   "cell_type": "code",
   "execution_count": 456,
   "metadata": {},
   "outputs": [],
   "source": [
    "def calculate_days_since_registration(user_log):\n",
    "    \"\"\" Calculates the number of days between the registration of a user \n",
    "    and the prediction date\n",
    "    \n",
    "    Input:\n",
    "        user_log (DataFrame) - a DataFrame containing the cleansed user log data\n",
    "        \n",
    "    Output:\n",
    "        DataFrame - days since registration\n",
    "    \n",
    "    \"\"\"\n",
    "    \n",
    "    # Get prediction timestamp for each user\n",
    "    end_date_max = user_log.agg({'ts': 'max'}).collect()[0][0]\n",
    "    window_var = Window().partitionBy('userId')\n",
    "    user_log = user_log.withColumn('end_ts',\\\n",
    "                               F.when(F.col('churn') == 1, F.max(F.col('ts')).over(window_var))\\\n",
    "                               .otherwise(end_date_max))\n",
    "    \n",
    "    # Calculate difference between prediction and registration timestamp\n",
    "    registration = user_log.select('userId', 'registration', 'end_ts').dropDuplicates()\\\n",
    "                           .withColumn('Days Since Registration', (F.col('end_ts') - F.col('registration')) \\\n",
    "                                      / (1000 * 60 * 60 * 24))\\\n",
    "                           .select('userId', 'Days Since Registration')\n",
    "    \n",
    "    return registration"
   ]
  },
  {
   "cell_type": "code",
   "execution_count": 655,
   "metadata": {},
   "outputs": [],
   "source": [
    "registration = calculate_days_since_registration(user_log)"
   ]
  },
  {
   "cell_type": "code",
   "execution_count": 656,
   "metadata": {},
   "outputs": [
    {
     "data": {
      "text/html": [
       "<div>\n",
       "<style scoped>\n",
       "    .dataframe tbody tr th:only-of-type {\n",
       "        vertical-align: middle;\n",
       "    }\n",
       "\n",
       "    .dataframe tbody tr th {\n",
       "        vertical-align: top;\n",
       "    }\n",
       "\n",
       "    .dataframe thead th {\n",
       "        text-align: right;\n",
       "    }\n",
       "</style>\n",
       "<table border=\"1\" class=\"dataframe\">\n",
       "  <thead>\n",
       "    <tr style=\"text-align: right;\">\n",
       "      <th></th>\n",
       "      <th>userId</th>\n",
       "      <th>Days Since Registration</th>\n",
       "      <th>churn</th>\n",
       "    </tr>\n",
       "  </thead>\n",
       "  <tbody>\n",
       "    <tr>\n",
       "      <th>0</th>\n",
       "      <td>148</td>\n",
       "      <td>72.550926</td>\n",
       "      <td>0</td>\n",
       "    </tr>\n",
       "    <tr>\n",
       "      <th>1</th>\n",
       "      <td>85</td>\n",
       "      <td>111.870116</td>\n",
       "      <td>0</td>\n",
       "    </tr>\n",
       "    <tr>\n",
       "      <th>2</th>\n",
       "      <td>137</td>\n",
       "      <td>131.351968</td>\n",
       "      <td>0</td>\n",
       "    </tr>\n",
       "    <tr>\n",
       "      <th>3</th>\n",
       "      <td>65</td>\n",
       "      <td>74.678993</td>\n",
       "      <td>0</td>\n",
       "    </tr>\n",
       "    <tr>\n",
       "      <th>4</th>\n",
       "      <td>200001</td>\n",
       "      <td>64.170093</td>\n",
       "      <td>1</td>\n",
       "    </tr>\n",
       "  </tbody>\n",
       "</table>\n",
       "</div>"
      ],
      "text/plain": [
       "   userId  Days Since Registration  churn\n",
       "0     148                72.550926      0\n",
       "1      85               111.870116      0\n",
       "2     137               131.351968      0\n",
       "3      65                74.678993      0\n",
       "4  200001                64.170093      1"
      ]
     },
     "execution_count": 656,
     "metadata": {},
     "output_type": "execute_result"
    }
   ],
   "source": [
    "# Make pandas dataframe for exploration\n",
    "registration_pandas = registration.toPandas()\n",
    "registration_pandas['churn'] = registration_pandas['userId'].isin(churn_users).astype(int)\n",
    "registration_pandas.head()"
   ]
  },
  {
   "cell_type": "code",
   "execution_count": 658,
   "metadata": {},
   "outputs": [
    {
     "data": {
      "image/png": "[encoded data removed]",
      "text/plain": [
       "<Figure size 1080x360 with 1 Axes>"
      ]
     },
     "metadata": {
      "needs_background": "light"
     },
     "output_type": "display_data"
    }
   ],
   "source": [
    "# Plot days since registration\n",
    "registration_pandas_plot = registration_pandas.groupby('churn', as_index=False)['Days Since Registration'].mean()\n",
    "plt.figure(figsize=(15, 5))\n",
    "plt.title(\"Days since registration\")\n",
    "sns.barplot(x = 'churn', y = 'Days Since Registration', data = registration_pandas_plot)\n",
    "plt.show()"
   ]
  },
  {
   "cell_type": "markdown",
   "metadata": {},
   "source": [
    "### Page share"
   ]
  },
  {
   "cell_type": "code",
   "execution_count": 671,
   "metadata": {},
   "outputs": [],
   "source": [
    "def calculate_page_share(user_log):\n",
    "    \"\"\" Calculates the share of each page on all events of a user\n",
    "    \n",
    "    Input:\n",
    "        user_log (DataFrame) - a DataFrame containing the cleansed user log data\n",
    "        \n",
    "    Output:\n",
    "        DataFrame - page shares per user\n",
    "    \n",
    "    \"\"\"\n",
    "\n",
    "    \n",
    "    vals = ['Home', 'NextSong', 'Roll Advert', 'Thumbs Up', 'Add Friend', 'Logout', 'Add to Playlist', \n",
    "            'Upgrade', 'Help', 'Settings', 'Thumbs Down', 'About', 'Submit Upgrade', 'Downgrade', \n",
    "            'Submit Downgrade', 'Error', 'Save Settings']\n",
    "    \n",
    "    pages = user_log.groupBy('userId', 'sessionId', 'itemInSession').pivot('page').count()\n",
    "    pages = pages.na.fill(0)\n",
    "    pages = pages.groupBy('userId').mean()\n",
    "    pages = pages.select('userId', *(F.col(\"avg(\"+x+\")\").alias(x) for x in vals))\n",
    "    \n",
    "    return pages"
   ]
  },
  {
   "cell_type": "code",
   "execution_count": 672,
   "metadata": {},
   "outputs": [],
   "source": [
    "pages = calculate_page_share(user_log)"
   ]
  },
  {
   "cell_type": "code",
   "execution_count": 673,
   "metadata": {},
   "outputs": [
    {
     "data": {
      "text/html": [
       "<div>\n",
       "<style scoped>\n",
       "    .dataframe tbody tr th:only-of-type {\n",
       "        vertical-align: middle;\n",
       "    }\n",
       "\n",
       "    .dataframe tbody tr th {\n",
       "        vertical-align: top;\n",
       "    }\n",
       "\n",
       "    .dataframe thead th {\n",
       "        text-align: right;\n",
       "    }\n",
       "</style>\n",
       "<table border=\"1\" class=\"dataframe\">\n",
       "  <thead>\n",
       "    <tr style=\"text-align: right;\">\n",
       "      <th></th>\n",
       "      <th>userId</th>\n",
       "      <th>Home</th>\n",
       "      <th>NextSong</th>\n",
       "      <th>Roll Advert</th>\n",
       "      <th>Thumbs Up</th>\n",
       "      <th>Add Friend</th>\n",
       "      <th>Logout</th>\n",
       "      <th>Add to Playlist</th>\n",
       "      <th>Upgrade</th>\n",
       "      <th>Help</th>\n",
       "      <th>Settings</th>\n",
       "      <th>Thumbs Down</th>\n",
       "      <th>About</th>\n",
       "      <th>Submit Upgrade</th>\n",
       "      <th>Downgrade</th>\n",
       "      <th>Submit Downgrade</th>\n",
       "      <th>Error</th>\n",
       "      <th>Save Settings</th>\n",
       "      <th>churn</th>\n",
       "    </tr>\n",
       "  </thead>\n",
       "  <tbody>\n",
       "    <tr>\n",
       "      <th>0</th>\n",
       "      <td>148</td>\n",
       "      <td>0.050193</td>\n",
       "      <td>0.768340</td>\n",
       "      <td>0.061776</td>\n",
       "      <td>0.054054</td>\n",
       "      <td>0.013514</td>\n",
       "      <td>0.017375</td>\n",
       "      <td>0.009653</td>\n",
       "      <td>0.005792</td>\n",
       "      <td>0.005792</td>\n",
       "      <td>0.005792</td>\n",
       "      <td>0.005792</td>\n",
       "      <td>0.001931</td>\n",
       "      <td>0.000000</td>\n",
       "      <td>0.000000</td>\n",
       "      <td>0.000000</td>\n",
       "      <td>0.000000</td>\n",
       "      <td>0.000000</td>\n",
       "      <td>0</td>\n",
       "    </tr>\n",
       "    <tr>\n",
       "      <th>1</th>\n",
       "      <td>85</td>\n",
       "      <td>0.035927</td>\n",
       "      <td>0.827460</td>\n",
       "      <td>0.007551</td>\n",
       "      <td>0.043936</td>\n",
       "      <td>0.013272</td>\n",
       "      <td>0.012357</td>\n",
       "      <td>0.024714</td>\n",
       "      <td>0.001602</td>\n",
       "      <td>0.005492</td>\n",
       "      <td>0.005721</td>\n",
       "      <td>0.008696</td>\n",
       "      <td>0.001373</td>\n",
       "      <td>0.000686</td>\n",
       "      <td>0.009611</td>\n",
       "      <td>0.000458</td>\n",
       "      <td>0.000458</td>\n",
       "      <td>0.000686</td>\n",
       "      <td>0</td>\n",
       "    </tr>\n",
       "    <tr>\n",
       "      <th>2</th>\n",
       "      <td>137</td>\n",
       "      <td>0.057416</td>\n",
       "      <td>0.736842</td>\n",
       "      <td>0.047847</td>\n",
       "      <td>0.038278</td>\n",
       "      <td>0.038278</td>\n",
       "      <td>0.023923</td>\n",
       "      <td>0.019139</td>\n",
       "      <td>0.019139</td>\n",
       "      <td>0.004785</td>\n",
       "      <td>0.004785</td>\n",
       "      <td>0.004785</td>\n",
       "      <td>0.000000</td>\n",
       "      <td>0.004785</td>\n",
       "      <td>0.000000</td>\n",
       "      <td>0.000000</td>\n",
       "      <td>0.000000</td>\n",
       "      <td>0.000000</td>\n",
       "      <td>0</td>\n",
       "    </tr>\n",
       "    <tr>\n",
       "      <th>3</th>\n",
       "      <td>65</td>\n",
       "      <td>0.031447</td>\n",
       "      <td>0.830582</td>\n",
       "      <td>0.003145</td>\n",
       "      <td>0.043632</td>\n",
       "      <td>0.020833</td>\n",
       "      <td>0.008255</td>\n",
       "      <td>0.026730</td>\n",
       "      <td>0.001179</td>\n",
       "      <td>0.005110</td>\n",
       "      <td>0.009041</td>\n",
       "      <td>0.006682</td>\n",
       "      <td>0.002358</td>\n",
       "      <td>0.000393</td>\n",
       "      <td>0.007862</td>\n",
       "      <td>0.000000</td>\n",
       "      <td>0.000000</td>\n",
       "      <td>0.002752</td>\n",
       "      <td>0</td>\n",
       "    </tr>\n",
       "    <tr>\n",
       "      <th>4</th>\n",
       "      <td>200001</td>\n",
       "      <td>0.064103</td>\n",
       "      <td>0.737179</td>\n",
       "      <td>0.019231</td>\n",
       "      <td>0.064103</td>\n",
       "      <td>0.000000</td>\n",
       "      <td>0.025641</td>\n",
       "      <td>0.019231</td>\n",
       "      <td>0.006410</td>\n",
       "      <td>0.006410</td>\n",
       "      <td>0.038462</td>\n",
       "      <td>0.006410</td>\n",
       "      <td>0.000000</td>\n",
       "      <td>0.000000</td>\n",
       "      <td>0.000000</td>\n",
       "      <td>0.000000</td>\n",
       "      <td>0.000000</td>\n",
       "      <td>0.012821</td>\n",
       "      <td>1</td>\n",
       "    </tr>\n",
       "  </tbody>\n",
       "</table>\n",
       "</div>"
      ],
      "text/plain": [
       "   userId      Home  NextSong  Roll Advert  Thumbs Up  Add Friend    Logout  \\\n",
       "0     148  0.050193  0.768340     0.061776   0.054054    0.013514  0.017375   \n",
       "1      85  0.035927  0.827460     0.007551   0.043936    0.013272  0.012357   \n",
       "2     137  0.057416  0.736842     0.047847   0.038278    0.038278  0.023923   \n",
       "3      65  0.031447  0.830582     0.003145   0.043632    0.020833  0.008255   \n",
       "4  200001  0.064103  0.737179     0.019231   0.064103    0.000000  0.025641   \n",
       "\n",
       "   Add to Playlist   Upgrade      Help  Settings  Thumbs Down     About  \\\n",
       "0         0.009653  0.005792  0.005792  0.005792     0.005792  0.001931   \n",
       "1         0.024714  0.001602  0.005492  0.005721     0.008696  0.001373   \n",
       "2         0.019139  0.019139  0.004785  0.004785     0.004785  0.000000   \n",
       "3         0.026730  0.001179  0.005110  0.009041     0.006682  0.002358   \n",
       "4         0.019231  0.006410  0.006410  0.038462     0.006410  0.000000   \n",
       "\n",
       "   Submit Upgrade  Downgrade  Submit Downgrade     Error  Save Settings  churn  \n",
       "0        0.000000   0.000000          0.000000  0.000000       0.000000      0  \n",
       "1        0.000686   0.009611          0.000458  0.000458       0.000686      0  \n",
       "2        0.004785   0.000000          0.000000  0.000000       0.000000      0  \n",
       "3        0.000393   0.007862          0.000000  0.000000       0.002752      0  \n",
       "4        0.000000   0.000000          0.000000  0.000000       0.012821      1  "
      ]
     },
     "execution_count": 673,
     "metadata": {},
     "output_type": "execute_result"
    }
   ],
   "source": [
    "# Make pandas dataframe for exploration\n",
    "pages_pandas = pages.toPandas()\n",
    "pages_pandas['churn'] = pages_pandas['userId'].isin(churn_users).astype(int)\n",
    "pages_pandas.head()"
   ]
  },
  {
   "cell_type": "code",
   "execution_count": 674,
   "metadata": {},
   "outputs": [
    {
     "data": {
      "image/png": "[encoded data removed]",
      "text/plain": [
       "<Figure size 1080x360 with 1 Axes>"
      ]
     },
     "metadata": {
      "needs_background": "light"
     },
     "output_type": "display_data"
    },
    {
     "data": {
      "image/png": "[encoded data removed]",
      "text/plain": [
       "<Figure size 1080x360 with 1 Axes>"
      ]
     },
     "metadata": {
      "needs_background": "light"
     },
     "output_type": "display_data"
    }
   ],
   "source": [
    "# Plot share per page\n",
    "pages_pandas_plot = pages_pandas.groupby('churn').mean().drop('userId', axis=1).unstack().reset_index()\n",
    "pages_pandas_plot.columns = ['page', 'churn', 'share']\n",
    "\n",
    "# All pages\n",
    "plt.figure(figsize=(15, 5))\n",
    "plt.title(\"Share per page\")\n",
    "sns.barplot(x = 'page', y = 'share', hue = 'churn', data = pages_pandas_plot)\n",
    "plt.xticks(rotation=90)\n",
    "plt.show()\n",
    "\n",
    "# Without Nextsong\n",
    "plt.figure(figsize=(15, 5))\n",
    "plt.title(\"Share per page (without `NextSong`)\")\n",
    "sns.barplot(x = 'page', y = 'share', hue = 'churn', data = pages_pandas_plot[pages_pandas_plot.page!='NextSong'])\n",
    "plt.xticks(rotation=90)\n",
    "plt.show()"
   ]
  },
  {
   "cell_type": "markdown",
   "metadata": {},
   "source": [
    "### Average plays per song"
   ]
  },
  {
   "cell_type": "code",
   "execution_count": 466,
   "metadata": {},
   "outputs": [],
   "source": [
    "def calculate_average_plays_per_song(user_log):\n",
    "    \"\"\" Calculates how often users on average listen to the same song\n",
    "    \n",
    "    Input:\n",
    "        user_log (DataFrame) - a DataFrame containing the cleansed user log data\n",
    "        \n",
    "    Output:\n",
    "        DataFrame - average plays per sond per user\n",
    "    \n",
    "    \"\"\"\n",
    "    \n",
    "    plays = user_log.filter(user_log.page == 'NextSong')\\\n",
    "                         .groupBy('userId').agg((F.count('song') / F.countDistinct('song'))\\\n",
    "                                                .alias('Average Plays Per Song'))\n",
    "    \n",
    "    return plays"
   ]
  },
  {
   "cell_type": "code",
   "execution_count": 678,
   "metadata": {},
   "outputs": [],
   "source": [
    "plays = calculate_average_song_plays(user_log)"
   ]
  },
  {
   "cell_type": "code",
   "execution_count": 676,
   "metadata": {},
   "outputs": [
    {
     "data": {
      "text/html": [
       "<div>\n",
       "<style scoped>\n",
       "    .dataframe tbody tr th:only-of-type {\n",
       "        vertical-align: middle;\n",
       "    }\n",
       "\n",
       "    .dataframe tbody tr th {\n",
       "        vertical-align: top;\n",
       "    }\n",
       "\n",
       "    .dataframe thead th {\n",
       "        text-align: right;\n",
       "    }\n",
       "</style>\n",
       "<table border=\"1\" class=\"dataframe\">\n",
       "  <thead>\n",
       "    <tr style=\"text-align: right;\">\n",
       "      <th></th>\n",
       "      <th>userId</th>\n",
       "      <th>Average Plays Per Song</th>\n",
       "      <th>churn</th>\n",
       "    </tr>\n",
       "  </thead>\n",
       "  <tbody>\n",
       "    <tr>\n",
       "      <th>0</th>\n",
       "      <td>148</td>\n",
       "      <td>1.041885</td>\n",
       "      <td>0</td>\n",
       "    </tr>\n",
       "    <tr>\n",
       "      <th>1</th>\n",
       "      <td>85</td>\n",
       "      <td>1.178234</td>\n",
       "      <td>0</td>\n",
       "    </tr>\n",
       "    <tr>\n",
       "      <th>2</th>\n",
       "      <td>137</td>\n",
       "      <td>1.006536</td>\n",
       "      <td>0</td>\n",
       "    </tr>\n",
       "    <tr>\n",
       "      <th>3</th>\n",
       "      <td>65</td>\n",
       "      <td>1.150245</td>\n",
       "      <td>0</td>\n",
       "    </tr>\n",
       "    <tr>\n",
       "      <th>4</th>\n",
       "      <td>200001</td>\n",
       "      <td>1.008772</td>\n",
       "      <td>1</td>\n",
       "    </tr>\n",
       "  </tbody>\n",
       "</table>\n",
       "</div>"
      ],
      "text/plain": [
       "   userId  Average Plays Per Song  churn\n",
       "0     148                1.041885      0\n",
       "1      85                1.178234      0\n",
       "2     137                1.006536      0\n",
       "3      65                1.150245      0\n",
       "4  200001                1.008772      1"
      ]
     },
     "execution_count": 676,
     "metadata": {},
     "output_type": "execute_result"
    }
   ],
   "source": [
    "# Make pandas dataframe for exploration\n",
    "plays_pandas = plays.toPandas()\n",
    "plays_pandas['churn'] = plays_pandas['userId'].isin(churn_users).astype(int)\n",
    "plays_pandas.head()"
   ]
  },
  {
   "cell_type": "code",
   "execution_count": 677,
   "metadata": {},
   "outputs": [
    {
     "data": {
      "image/png": "[encoded data removed]",
      "text/plain": [
       "<Figure size 1080x360 with 1 Axes>"
      ]
     },
     "metadata": {
      "needs_background": "light"
     },
     "output_type": "display_data"
    }
   ],
   "source": [
    "# Plot length per session \n",
    "plays_pandas_plot = plays_pandas.groupby('churn', as_index=False)['Average Plays Per Song'].mean()\n",
    "plt.figure(figsize=(15, 5))\n",
    "plt.title(\"Average plays per song\")\n",
    "sns.barplot(x = 'churn', y = 'Average Plays Per Song', data = plays_pandas_plot)\n",
    "plt.show()"
   ]
  },
  {
   "cell_type": "code",
   "execution_count": null,
   "metadata": {},
   "outputs": [],
   "source": []
  },
  {
   "cell_type": "code",
   "execution_count": 681,
   "metadata": {},
   "outputs": [],
   "source": [
    "from functools import reduce"
   ]
  },
  {
   "cell_type": "markdown",
   "metadata": {},
   "source": [
    "# Modeling\n",
    "Split the full dataset into train, test, and validation sets. Test out several of the machine learning methods you learned. Evaluate the accuracy of the various models, tuning parameters as necessary. Determine your winning model based on test accuracy and report results on the validation set. Since the churned users are a fairly small subset, I suggest using F1 score as the metric to optimize."
   ]
  },
  {
   "cell_type": "code",
   "execution_count": 700,
   "metadata": {},
   "outputs": [
    {
     "data": {
      "text/html": [
       "<div>\n",
       "<style scoped>\n",
       "    .dataframe tbody tr th:only-of-type {\n",
       "        vertical-align: middle;\n",
       "    }\n",
       "\n",
       "    .dataframe tbody tr th {\n",
       "        vertical-align: top;\n",
       "    }\n",
       "\n",
       "    .dataframe thead th {\n",
       "        text-align: right;\n",
       "    }\n",
       "</style>\n",
       "<table border=\"1\" class=\"dataframe\">\n",
       "  <thead>\n",
       "    <tr style=\"text-align: right;\">\n",
       "      <th></th>\n",
       "      <th>gender</th>\n",
       "      <th>AK</th>\n",
       "      <th>AL</th>\n",
       "      <th>AR</th>\n",
       "      <th>AZ</th>\n",
       "      <th>CA</th>\n",
       "      <th>CO</th>\n",
       "      <th>CT</th>\n",
       "      <th>DC-VA-MD-WV</th>\n",
       "      <th>FL</th>\n",
       "      <th>GA</th>\n",
       "      <th>GA-AL</th>\n",
       "      <th>IA</th>\n",
       "      <th>IL</th>\n",
       "      <th>IL-IN-WI</th>\n",
       "      <th>IL-MO</th>\n",
       "      <th>IN</th>\n",
       "      <th>KY</th>\n",
       "      <th>KY-IN</th>\n",
       "      <th>LA</th>\n",
       "      <th>MA-NH</th>\n",
       "      <th>MD</th>\n",
       "      <th>MD-WV</th>\n",
       "      <th>MI</th>\n",
       "      <th>MN-WI</th>\n",
       "      <th>MO-IL</th>\n",
       "      <th>MO-KS</th>\n",
       "      <th>MS</th>\n",
       "      <th>MT</th>\n",
       "      <th>NC</th>\n",
       "      <th>NC-SC</th>\n",
       "      <th>NE-IA</th>\n",
       "      <th>NH</th>\n",
       "      <th>NJ</th>\n",
       "      <th>NV</th>\n",
       "      <th>NY</th>\n",
       "      <th>NY-NJ-PA</th>\n",
       "      <th>OH</th>\n",
       "      <th>OH-KY-IN</th>\n",
       "      <th>OK</th>\n",
       "      <th>OR</th>\n",
       "      <th>OR-WA</th>\n",
       "      <th>PA</th>\n",
       "      <th>PA-NJ</th>\n",
       "      <th>PA-NJ-DE-MD</th>\n",
       "      <th>RI-MA</th>\n",
       "      <th>SC</th>\n",
       "      <th>SC-NC</th>\n",
       "      <th>TN</th>\n",
       "      <th>TN-MS-AR</th>\n",
       "      <th>TN-VA</th>\n",
       "      <th>TX</th>\n",
       "      <th>UT</th>\n",
       "      <th>UT-ID</th>\n",
       "      <th>VA</th>\n",
       "      <th>VA-NC</th>\n",
       "      <th>WA</th>\n",
       "      <th>WI</th>\n",
       "      <th>WV</th>\n",
       "      <th>Linux</th>\n",
       "      <th>Mac</th>\n",
       "      <th>Windows</th>\n",
       "      <th>iPad</th>\n",
       "      <th>iPhone</th>\n",
       "      <th>Pay Status</th>\n",
       "      <th>Sessions Per Week</th>\n",
       "      <th>Length Per Session</th>\n",
       "      <th>Days Since Registration</th>\n",
       "      <th>Home</th>\n",
       "      <th>NextSong</th>\n",
       "      <th>Roll Advert</th>\n",
       "      <th>Thumbs Up</th>\n",
       "      <th>Add Friend</th>\n",
       "      <th>Logout</th>\n",
       "      <th>Add to Playlist</th>\n",
       "      <th>Upgrade</th>\n",
       "      <th>Help</th>\n",
       "      <th>Settings</th>\n",
       "      <th>Thumbs Down</th>\n",
       "      <th>About</th>\n",
       "      <th>Submit Upgrade</th>\n",
       "      <th>Downgrade</th>\n",
       "      <th>Submit Downgrade</th>\n",
       "      <th>Error</th>\n",
       "      <th>Save Settings</th>\n",
       "      <th>Average Plays Per Song</th>\n",
       "      <th>label</th>\n",
       "    </tr>\n",
       "  </thead>\n",
       "  <tbody>\n",
       "    <tr>\n",
       "      <th>0</th>\n",
       "      <td>1</td>\n",
       "      <td>0</td>\n",
       "      <td>0</td>\n",
       "      <td>0</td>\n",
       "      <td>0</td>\n",
       "      <td>0</td>\n",
       "      <td>0</td>\n",
       "      <td>0</td>\n",
       "      <td>0</td>\n",
       "      <td>1</td>\n",
       "      <td>0</td>\n",
       "      <td>0</td>\n",
       "      <td>0</td>\n",
       "      <td>0</td>\n",
       "      <td>0</td>\n",
       "      <td>0</td>\n",
       "      <td>0</td>\n",
       "      <td>0</td>\n",
       "      <td>0</td>\n",
       "      <td>0</td>\n",
       "      <td>0</td>\n",
       "      <td>0</td>\n",
       "      <td>0</td>\n",
       "      <td>0</td>\n",
       "      <td>0</td>\n",
       "      <td>0</td>\n",
       "      <td>0</td>\n",
       "      <td>0</td>\n",
       "      <td>0</td>\n",
       "      <td>0</td>\n",
       "      <td>0</td>\n",
       "      <td>0</td>\n",
       "      <td>0</td>\n",
       "      <td>0</td>\n",
       "      <td>0</td>\n",
       "      <td>0</td>\n",
       "      <td>0</td>\n",
       "      <td>0</td>\n",
       "      <td>0</td>\n",
       "      <td>0</td>\n",
       "      <td>0</td>\n",
       "      <td>0</td>\n",
       "      <td>0</td>\n",
       "      <td>0</td>\n",
       "      <td>0</td>\n",
       "      <td>0</td>\n",
       "      <td>0</td>\n",
       "      <td>0</td>\n",
       "      <td>0</td>\n",
       "      <td>0</td>\n",
       "      <td>0</td>\n",
       "      <td>0</td>\n",
       "      <td>0</td>\n",
       "      <td>0</td>\n",
       "      <td>0</td>\n",
       "      <td>0</td>\n",
       "      <td>0</td>\n",
       "      <td>0</td>\n",
       "      <td>0</td>\n",
       "      <td>0</td>\n",
       "      <td>0</td>\n",
       "      <td>1</td>\n",
       "      <td>0</td>\n",
       "      <td>0</td>\n",
       "      <td>0</td>\n",
       "      <td>1.332315</td>\n",
       "      <td>132.355556</td>\n",
       "      <td>72.550926</td>\n",
       "      <td>0.050193</td>\n",
       "      <td>0.768340</td>\n",
       "      <td>0.061776</td>\n",
       "      <td>0.054054</td>\n",
       "      <td>0.013514</td>\n",
       "      <td>0.017375</td>\n",
       "      <td>0.009653</td>\n",
       "      <td>0.005792</td>\n",
       "      <td>0.005792</td>\n",
       "      <td>0.005792</td>\n",
       "      <td>0.005792</td>\n",
       "      <td>0.001931</td>\n",
       "      <td>0.000000</td>\n",
       "      <td>0.000000</td>\n",
       "      <td>0.000000</td>\n",
       "      <td>0.000000</td>\n",
       "      <td>0.000000</td>\n",
       "      <td>1.041885</td>\n",
       "      <td>0</td>\n",
       "    </tr>\n",
       "    <tr>\n",
       "      <th>1</th>\n",
       "      <td>1</td>\n",
       "      <td>0</td>\n",
       "      <td>0</td>\n",
       "      <td>0</td>\n",
       "      <td>0</td>\n",
       "      <td>1</td>\n",
       "      <td>0</td>\n",
       "      <td>0</td>\n",
       "      <td>0</td>\n",
       "      <td>0</td>\n",
       "      <td>0</td>\n",
       "      <td>0</td>\n",
       "      <td>0</td>\n",
       "      <td>0</td>\n",
       "      <td>0</td>\n",
       "      <td>0</td>\n",
       "      <td>0</td>\n",
       "      <td>0</td>\n",
       "      <td>0</td>\n",
       "      <td>0</td>\n",
       "      <td>0</td>\n",
       "      <td>0</td>\n",
       "      <td>0</td>\n",
       "      <td>0</td>\n",
       "      <td>0</td>\n",
       "      <td>0</td>\n",
       "      <td>0</td>\n",
       "      <td>0</td>\n",
       "      <td>0</td>\n",
       "      <td>0</td>\n",
       "      <td>0</td>\n",
       "      <td>0</td>\n",
       "      <td>0</td>\n",
       "      <td>0</td>\n",
       "      <td>0</td>\n",
       "      <td>0</td>\n",
       "      <td>0</td>\n",
       "      <td>0</td>\n",
       "      <td>0</td>\n",
       "      <td>0</td>\n",
       "      <td>0</td>\n",
       "      <td>0</td>\n",
       "      <td>0</td>\n",
       "      <td>0</td>\n",
       "      <td>0</td>\n",
       "      <td>0</td>\n",
       "      <td>0</td>\n",
       "      <td>0</td>\n",
       "      <td>0</td>\n",
       "      <td>0</td>\n",
       "      <td>0</td>\n",
       "      <td>0</td>\n",
       "      <td>0</td>\n",
       "      <td>0</td>\n",
       "      <td>0</td>\n",
       "      <td>0</td>\n",
       "      <td>0</td>\n",
       "      <td>0</td>\n",
       "      <td>0</td>\n",
       "      <td>0</td>\n",
       "      <td>1</td>\n",
       "      <td>0</td>\n",
       "      <td>0</td>\n",
       "      <td>0</td>\n",
       "      <td>1</td>\n",
       "      <td>4.552077</td>\n",
       "      <td>370.846341</td>\n",
       "      <td>111.870116</td>\n",
       "      <td>0.035927</td>\n",
       "      <td>0.827460</td>\n",
       "      <td>0.007551</td>\n",
       "      <td>0.043936</td>\n",
       "      <td>0.013272</td>\n",
       "      <td>0.012357</td>\n",
       "      <td>0.024714</td>\n",
       "      <td>0.001602</td>\n",
       "      <td>0.005492</td>\n",
       "      <td>0.005721</td>\n",
       "      <td>0.008696</td>\n",
       "      <td>0.001373</td>\n",
       "      <td>0.000686</td>\n",
       "      <td>0.009611</td>\n",
       "      <td>0.000458</td>\n",
       "      <td>0.000458</td>\n",
       "      <td>0.000686</td>\n",
       "      <td>1.178234</td>\n",
       "      <td>0</td>\n",
       "    </tr>\n",
       "    <tr>\n",
       "      <th>2</th>\n",
       "      <td>1</td>\n",
       "      <td>0</td>\n",
       "      <td>0</td>\n",
       "      <td>0</td>\n",
       "      <td>0</td>\n",
       "      <td>0</td>\n",
       "      <td>0</td>\n",
       "      <td>0</td>\n",
       "      <td>0</td>\n",
       "      <td>0</td>\n",
       "      <td>0</td>\n",
       "      <td>0</td>\n",
       "      <td>0</td>\n",
       "      <td>0</td>\n",
       "      <td>0</td>\n",
       "      <td>0</td>\n",
       "      <td>0</td>\n",
       "      <td>0</td>\n",
       "      <td>0</td>\n",
       "      <td>0</td>\n",
       "      <td>0</td>\n",
       "      <td>0</td>\n",
       "      <td>0</td>\n",
       "      <td>0</td>\n",
       "      <td>0</td>\n",
       "      <td>0</td>\n",
       "      <td>0</td>\n",
       "      <td>0</td>\n",
       "      <td>0</td>\n",
       "      <td>0</td>\n",
       "      <td>0</td>\n",
       "      <td>0</td>\n",
       "      <td>0</td>\n",
       "      <td>0</td>\n",
       "      <td>0</td>\n",
       "      <td>0</td>\n",
       "      <td>1</td>\n",
       "      <td>0</td>\n",
       "      <td>0</td>\n",
       "      <td>0</td>\n",
       "      <td>0</td>\n",
       "      <td>0</td>\n",
       "      <td>0</td>\n",
       "      <td>0</td>\n",
       "      <td>0</td>\n",
       "      <td>0</td>\n",
       "      <td>0</td>\n",
       "      <td>0</td>\n",
       "      <td>0</td>\n",
       "      <td>0</td>\n",
       "      <td>0</td>\n",
       "      <td>0</td>\n",
       "      <td>0</td>\n",
       "      <td>0</td>\n",
       "      <td>0</td>\n",
       "      <td>0</td>\n",
       "      <td>0</td>\n",
       "      <td>0</td>\n",
       "      <td>0</td>\n",
       "      <td>0</td>\n",
       "      <td>1</td>\n",
       "      <td>0</td>\n",
       "      <td>0</td>\n",
       "      <td>0</td>\n",
       "      <td>1</td>\n",
       "      <td>0.333079</td>\n",
       "      <td>211.261111</td>\n",
       "      <td>131.351968</td>\n",
       "      <td>0.057416</td>\n",
       "      <td>0.736842</td>\n",
       "      <td>0.047847</td>\n",
       "      <td>0.038278</td>\n",
       "      <td>0.038278</td>\n",
       "      <td>0.023923</td>\n",
       "      <td>0.019139</td>\n",
       "      <td>0.019139</td>\n",
       "      <td>0.004785</td>\n",
       "      <td>0.004785</td>\n",
       "      <td>0.004785</td>\n",
       "      <td>0.000000</td>\n",
       "      <td>0.004785</td>\n",
       "      <td>0.000000</td>\n",
       "      <td>0.000000</td>\n",
       "      <td>0.000000</td>\n",
       "      <td>0.000000</td>\n",
       "      <td>1.006536</td>\n",
       "      <td>0</td>\n",
       "    </tr>\n",
       "    <tr>\n",
       "      <th>3</th>\n",
       "      <td>1</td>\n",
       "      <td>0</td>\n",
       "      <td>0</td>\n",
       "      <td>0</td>\n",
       "      <td>0</td>\n",
       "      <td>0</td>\n",
       "      <td>0</td>\n",
       "      <td>0</td>\n",
       "      <td>0</td>\n",
       "      <td>0</td>\n",
       "      <td>0</td>\n",
       "      <td>0</td>\n",
       "      <td>0</td>\n",
       "      <td>0</td>\n",
       "      <td>0</td>\n",
       "      <td>0</td>\n",
       "      <td>0</td>\n",
       "      <td>0</td>\n",
       "      <td>0</td>\n",
       "      <td>0</td>\n",
       "      <td>0</td>\n",
       "      <td>0</td>\n",
       "      <td>0</td>\n",
       "      <td>0</td>\n",
       "      <td>0</td>\n",
       "      <td>0</td>\n",
       "      <td>0</td>\n",
       "      <td>0</td>\n",
       "      <td>0</td>\n",
       "      <td>0</td>\n",
       "      <td>0</td>\n",
       "      <td>0</td>\n",
       "      <td>1</td>\n",
       "      <td>0</td>\n",
       "      <td>0</td>\n",
       "      <td>0</td>\n",
       "      <td>0</td>\n",
       "      <td>0</td>\n",
       "      <td>0</td>\n",
       "      <td>0</td>\n",
       "      <td>0</td>\n",
       "      <td>0</td>\n",
       "      <td>0</td>\n",
       "      <td>0</td>\n",
       "      <td>0</td>\n",
       "      <td>0</td>\n",
       "      <td>0</td>\n",
       "      <td>0</td>\n",
       "      <td>0</td>\n",
       "      <td>0</td>\n",
       "      <td>0</td>\n",
       "      <td>0</td>\n",
       "      <td>0</td>\n",
       "      <td>0</td>\n",
       "      <td>0</td>\n",
       "      <td>0</td>\n",
       "      <td>0</td>\n",
       "      <td>0</td>\n",
       "      <td>0</td>\n",
       "      <td>1</td>\n",
       "      <td>0</td>\n",
       "      <td>0</td>\n",
       "      <td>0</td>\n",
       "      <td>0</td>\n",
       "      <td>1</td>\n",
       "      <td>2.553604</td>\n",
       "      <td>384.174638</td>\n",
       "      <td>74.678993</td>\n",
       "      <td>0.031447</td>\n",
       "      <td>0.830582</td>\n",
       "      <td>0.003145</td>\n",
       "      <td>0.043632</td>\n",
       "      <td>0.020833</td>\n",
       "      <td>0.008255</td>\n",
       "      <td>0.026730</td>\n",
       "      <td>0.001179</td>\n",
       "      <td>0.005110</td>\n",
       "      <td>0.009041</td>\n",
       "      <td>0.006682</td>\n",
       "      <td>0.002358</td>\n",
       "      <td>0.000393</td>\n",
       "      <td>0.007862</td>\n",
       "      <td>0.000000</td>\n",
       "      <td>0.000000</td>\n",
       "      <td>0.002752</td>\n",
       "      <td>1.150245</td>\n",
       "      <td>0</td>\n",
       "    </tr>\n",
       "    <tr>\n",
       "      <th>4</th>\n",
       "      <td>1</td>\n",
       "      <td>0</td>\n",
       "      <td>0</td>\n",
       "      <td>0</td>\n",
       "      <td>0</td>\n",
       "      <td>0</td>\n",
       "      <td>0</td>\n",
       "      <td>0</td>\n",
       "      <td>1</td>\n",
       "      <td>0</td>\n",
       "      <td>0</td>\n",
       "      <td>0</td>\n",
       "      <td>0</td>\n",
       "      <td>0</td>\n",
       "      <td>0</td>\n",
       "      <td>0</td>\n",
       "      <td>0</td>\n",
       "      <td>0</td>\n",
       "      <td>0</td>\n",
       "      <td>0</td>\n",
       "      <td>0</td>\n",
       "      <td>0</td>\n",
       "      <td>0</td>\n",
       "      <td>0</td>\n",
       "      <td>0</td>\n",
       "      <td>0</td>\n",
       "      <td>0</td>\n",
       "      <td>0</td>\n",
       "      <td>0</td>\n",
       "      <td>0</td>\n",
       "      <td>0</td>\n",
       "      <td>0</td>\n",
       "      <td>0</td>\n",
       "      <td>0</td>\n",
       "      <td>0</td>\n",
       "      <td>0</td>\n",
       "      <td>0</td>\n",
       "      <td>0</td>\n",
       "      <td>0</td>\n",
       "      <td>0</td>\n",
       "      <td>0</td>\n",
       "      <td>0</td>\n",
       "      <td>0</td>\n",
       "      <td>0</td>\n",
       "      <td>0</td>\n",
       "      <td>0</td>\n",
       "      <td>0</td>\n",
       "      <td>0</td>\n",
       "      <td>0</td>\n",
       "      <td>0</td>\n",
       "      <td>0</td>\n",
       "      <td>0</td>\n",
       "      <td>0</td>\n",
       "      <td>0</td>\n",
       "      <td>0</td>\n",
       "      <td>0</td>\n",
       "      <td>0</td>\n",
       "      <td>0</td>\n",
       "      <td>0</td>\n",
       "      <td>0</td>\n",
       "      <td>0</td>\n",
       "      <td>1</td>\n",
       "      <td>0</td>\n",
       "      <td>0</td>\n",
       "      <td>0</td>\n",
       "      <td>0.666158</td>\n",
       "      <td>83.508333</td>\n",
       "      <td>64.170093</td>\n",
       "      <td>0.064103</td>\n",
       "      <td>0.737179</td>\n",
       "      <td>0.019231</td>\n",
       "      <td>0.064103</td>\n",
       "      <td>0.000000</td>\n",
       "      <td>0.025641</td>\n",
       "      <td>0.019231</td>\n",
       "      <td>0.006410</td>\n",
       "      <td>0.006410</td>\n",
       "      <td>0.038462</td>\n",
       "      <td>0.006410</td>\n",
       "      <td>0.000000</td>\n",
       "      <td>0.000000</td>\n",
       "      <td>0.000000</td>\n",
       "      <td>0.000000</td>\n",
       "      <td>0.000000</td>\n",
       "      <td>0.012821</td>\n",
       "      <td>1.008772</td>\n",
       "      <td>1</td>\n",
       "    </tr>\n",
       "  </tbody>\n",
       "</table>\n",
       "</div>"
      ],
      "text/plain": [
       "   gender  AK  AL  AR  AZ  CA  CO  CT  DC-VA-MD-WV  FL  GA  GA-AL  IA  IL  \\\n",
       "0       1   0   0   0   0   0   0   0            0   1   0      0   0   0   \n",
       "1       1   0   0   0   0   1   0   0            0   0   0      0   0   0   \n",
       "2       1   0   0   0   0   0   0   0            0   0   0      0   0   0   \n",
       "3       1   0   0   0   0   0   0   0            0   0   0      0   0   0   \n",
       "4       1   0   0   0   0   0   0   0            1   0   0      0   0   0   \n",
       "\n",
       "   IL-IN-WI  IL-MO  IN  KY  KY-IN  LA  MA-NH  MD  MD-WV  MI  MN-WI  MO-IL  \\\n",
       "0         0      0   0   0      0   0      0   0      0   0      0      0   \n",
       "1         0      0   0   0      0   0      0   0      0   0      0      0   \n",
       "2         0      0   0   0      0   0      0   0      0   0      0      0   \n",
       "3         0      0   0   0      0   0      0   0      0   0      0      0   \n",
       "4         0      0   0   0      0   0      0   0      0   0      0      0   \n",
       "\n",
       "   MO-KS  MS  MT  NC  NC-SC  NE-IA  NH  NJ  NV  NY  NY-NJ-PA  OH  OH-KY-IN  \\\n",
       "0      0   0   0   0      0      0   0   0   0   0         0   0         0   \n",
       "1      0   0   0   0      0      0   0   0   0   0         0   0         0   \n",
       "2      0   0   0   0      0      0   0   0   0   0         1   0         0   \n",
       "3      0   0   0   0      0      0   1   0   0   0         0   0         0   \n",
       "4      0   0   0   0      0      0   0   0   0   0         0   0         0   \n",
       "\n",
       "   OK  OR  OR-WA  PA  PA-NJ  PA-NJ-DE-MD  RI-MA  SC  SC-NC  TN  TN-MS-AR  \\\n",
       "0   0   0      0   0      0            0      0   0      0   0         0   \n",
       "1   0   0      0   0      0            0      0   0      0   0         0   \n",
       "2   0   0      0   0      0            0      0   0      0   0         0   \n",
       "3   0   0      0   0      0            0      0   0      0   0         0   \n",
       "4   0   0      0   0      0            0      0   0      0   0         0   \n",
       "\n",
       "   TN-VA  TX  UT  UT-ID  VA  VA-NC  WA  WI  WV  Linux  Mac  Windows  iPad  \\\n",
       "0      0   0   0      0   0      0   0   0   0      0    0        1     0   \n",
       "1      0   0   0      0   0      0   0   0   0      0    1        0     0   \n",
       "2      0   0   0      0   0      0   0   0   0      0    1        0     0   \n",
       "3      0   0   0      0   0      0   0   0   0      1    0        0     0   \n",
       "4      0   0   0      0   0      0   0   0   0      0    0        1     0   \n",
       "\n",
       "   iPhone  Pay Status  Sessions Per Week  Length Per Session  \\\n",
       "0       0           0           1.332315          132.355556   \n",
       "1       0           1           4.552077          370.846341   \n",
       "2       0           1           0.333079          211.261111   \n",
       "3       0           1           2.553604          384.174638   \n",
       "4       0           0           0.666158           83.508333   \n",
       "\n",
       "   Days Since Registration      Home  NextSong  Roll Advert  Thumbs Up  \\\n",
       "0                72.550926  0.050193  0.768340     0.061776   0.054054   \n",
       "1               111.870116  0.035927  0.827460     0.007551   0.043936   \n",
       "2               131.351968  0.057416  0.736842     0.047847   0.038278   \n",
       "3                74.678993  0.031447  0.830582     0.003145   0.043632   \n",
       "4                64.170093  0.064103  0.737179     0.019231   0.064103   \n",
       "\n",
       "   Add Friend    Logout  Add to Playlist   Upgrade      Help  Settings  \\\n",
       "0    0.013514  0.017375         0.009653  0.005792  0.005792  0.005792   \n",
       "1    0.013272  0.012357         0.024714  0.001602  0.005492  0.005721   \n",
       "2    0.038278  0.023923         0.019139  0.019139  0.004785  0.004785   \n",
       "3    0.020833  0.008255         0.026730  0.001179  0.005110  0.009041   \n",
       "4    0.000000  0.025641         0.019231  0.006410  0.006410  0.038462   \n",
       "\n",
       "   Thumbs Down     About  Submit Upgrade  Downgrade  Submit Downgrade  \\\n",
       "0     0.005792  0.001931        0.000000   0.000000          0.000000   \n",
       "1     0.008696  0.001373        0.000686   0.009611          0.000458   \n",
       "2     0.004785  0.000000        0.004785   0.000000          0.000000   \n",
       "3     0.006682  0.002358        0.000393   0.007862          0.000000   \n",
       "4     0.006410  0.000000        0.000000   0.000000          0.000000   \n",
       "\n",
       "      Error  Save Settings  Average Plays Per Song  label  \n",
       "0  0.000000       0.000000                1.041885      0  \n",
       "1  0.000458       0.000686                1.178234      0  \n",
       "2  0.000000       0.000000                1.006536      0  \n",
       "3  0.000000       0.002752                1.150245      0  \n",
       "4  0.000000       0.012821                1.008772      1  "
      ]
     },
     "execution_count": 700,
     "metadata": {},
     "output_type": "execute_result"
    }
   ],
   "source": [
    "# Merge features and create target label\n",
    "dfs = [gender, area, device, status, sessions, length, registration, pages, plays]\n",
    "df = reduce(lambda left, right: left.join(right, how='left', on='userId'), dfs)\n",
    "is_churn_user = F.udf(lambda x: 1 if str(x) in churn_users else 0, IntegerType())\n",
    "df = df.withColumn('label', is_churn_user('userId')).drop('userId')\n",
    "df.toPandas().head()"
   ]
  },
  {
   "cell_type": "code",
   "execution_count": 701,
   "metadata": {},
   "outputs": [
    {
     "data": {
      "text/plain": [
       "52"
      ]
     },
     "execution_count": 701,
     "metadata": {},
     "output_type": "execute_result"
    }
   ],
   "source": [
    "df.toPandas().label.sum()"
   ]
  },
  {
   "cell_type": "code",
   "execution_count": 702,
   "metadata": {},
   "outputs": [],
   "source": [
    "input_cols = df.columns\n",
    "input_cols.remove('label')"
   ]
  },
  {
   "cell_type": "code",
   "execution_count": 703,
   "metadata": {},
   "outputs": [
    {
     "data": {
      "text/plain": [
       "['gender',\n",
       " 'AK',\n",
       " 'AL',\n",
       " 'AR',\n",
       " 'AZ',\n",
       " 'CA',\n",
       " 'CO',\n",
       " 'CT',\n",
       " 'DC-VA-MD-WV',\n",
       " 'FL',\n",
       " 'GA',\n",
       " 'GA-AL',\n",
       " 'IA',\n",
       " 'IL',\n",
       " 'IL-IN-WI',\n",
       " 'IL-MO',\n",
       " 'IN',\n",
       " 'KY',\n",
       " 'KY-IN',\n",
       " 'LA',\n",
       " 'MA-NH',\n",
       " 'MD',\n",
       " 'MD-WV',\n",
       " 'MI',\n",
       " 'MN-WI',\n",
       " 'MO-IL',\n",
       " 'MO-KS',\n",
       " 'MS',\n",
       " 'MT',\n",
       " 'NC',\n",
       " 'NC-SC',\n",
       " 'NE-IA',\n",
       " 'NH',\n",
       " 'NJ',\n",
       " 'NV',\n",
       " 'NY',\n",
       " 'NY-NJ-PA',\n",
       " 'OH',\n",
       " 'OH-KY-IN',\n",
       " 'OK',\n",
       " 'OR',\n",
       " 'OR-WA',\n",
       " 'PA',\n",
       " 'PA-NJ',\n",
       " 'PA-NJ-DE-MD',\n",
       " 'RI-MA',\n",
       " 'SC',\n",
       " 'SC-NC',\n",
       " 'TN',\n",
       " 'TN-MS-AR',\n",
       " 'TN-VA',\n",
       " 'TX',\n",
       " 'UT',\n",
       " 'UT-ID',\n",
       " 'VA',\n",
       " 'VA-NC',\n",
       " 'WA',\n",
       " 'WI',\n",
       " 'WV',\n",
       " 'Linux',\n",
       " 'Mac',\n",
       " 'Windows',\n",
       " 'iPad',\n",
       " 'iPhone',\n",
       " 'Pay Status',\n",
       " 'Sessions Per Week',\n",
       " 'Length Per Session',\n",
       " 'Days Since Registration',\n",
       " 'Home',\n",
       " 'NextSong',\n",
       " 'Roll Advert',\n",
       " 'Thumbs Up',\n",
       " 'Add Friend',\n",
       " 'Logout',\n",
       " 'Add to Playlist',\n",
       " 'Upgrade',\n",
       " 'Help',\n",
       " 'Settings',\n",
       " 'Thumbs Down',\n",
       " 'About',\n",
       " 'Submit Upgrade',\n",
       " 'Downgrade',\n",
       " 'Submit Downgrade',\n",
       " 'Error',\n",
       " 'Save Settings',\n",
       " 'Average Plays Per Song']"
      ]
     },
     "execution_count": 703,
     "metadata": {},
     "output_type": "execute_result"
    }
   ],
   "source": [
    "input_cols"
   ]
  },
  {
   "cell_type": "code",
   "execution_count": 704,
   "metadata": {},
   "outputs": [],
   "source": [
    "train, test = df.randomSplit([0.8, 0.2], seed=50)\n",
    "assembler = VectorAssembler(inputCols=input_cols, outputCol=\"FeaturesVec\")\n",
    "scaler = StandardScaler(inputCol=\"FeaturesVec\", outputCol=\"features\", withMean=True, withStd=True)\n",
    "gbt = GBTClassifier(maxIter=20, seed=50)\n",
    "pipeline_gbt = Pipeline(stages=[assembler, scaler, gbt])"
   ]
  },
  {
   "cell_type": "code",
   "execution_count": 705,
   "metadata": {},
   "outputs": [],
   "source": [
    "# Gradient Boosted Trees\n",
    "paramGrid = ParamGridBuilder() \\\n",
    "            .addGrid(gbt.minInstancesPerNode,[20]) \\\n",
    "            .addGrid(gbt.maxDepth,[9])\\\n",
    "            .addGrid(gbt.subsamplingRate,[0.5])\\\n",
    "            .build()\n",
    "\n",
    "cv_gbt = CrossValidator(estimator=pipeline_gbt,\\\n",
    "                        estimatorParamMaps=paramGrid,\\\n",
    "                        evaluator=MulticlassClassificationEvaluator(),\\\n",
    "                        numFolds=2,\\\n",
    "                        seed=42\n",
    "                       )\n",
    "cvModel_gbt = cv_gbt.fit(train)"
   ]
  },
  {
   "cell_type": "code",
   "execution_count": 706,
   "metadata": {},
   "outputs": [
    {
     "data": {
      "text/plain": [
       "[0.6670409768264363]"
      ]
     },
     "execution_count": 706,
     "metadata": {},
     "output_type": "execute_result"
    }
   ],
   "source": [
    "cvModel_gbt.avgMetrics"
   ]
  },
  {
   "cell_type": "code",
   "execution_count": 707,
   "metadata": {},
   "outputs": [],
   "source": [
    "gbt_results = cvModel_gbt.transform(test)"
   ]
  },
  {
   "cell_type": "code",
   "execution_count": 708,
   "metadata": {},
   "outputs": [
    {
     "name": "stdout",
     "output_type": "stream",
     "text": [
      "GBT Model --- Accuracy is: \n",
      "0.6944444444444444\n"
     ]
    }
   ],
   "source": [
    "evaluator = MulticlassClassificationEvaluator(predictionCol=\"prediction\")\n",
    "print(\"GBT Model --- Accuracy is: \")\n",
    "print(evaluator.evaluate(gbt_results, {evaluator.metricName: \"accuracy\"}))"
   ]
  },
  {
   "cell_type": "code",
   "execution_count": 709,
   "metadata": {},
   "outputs": [
    {
     "name": "stdout",
     "output_type": "stream",
     "text": [
      "GBT Model --- F1-Score is: \n",
      "0.6882352941176471\n"
     ]
    }
   ],
   "source": [
    "print(\"GBT Model --- F1-Score is: \")\n",
    "print(evaluator.evaluate(gbt_results, {evaluator.metricName: \"f1\"}))"
   ]
  },
  {
   "cell_type": "markdown",
   "metadata": {},
   "source": [
    "# Final Steps\n",
    "Clean up your code, adding comments and renaming variables to make the code easier to read and maintain. Refer to the Spark Project Overview page and Data Scientist Capstone Project Rubric to make sure you are including all components of the capstone project and meet all expectations. Remember, this includes thorough documentation in a README file in a Github repository, as well as a web app or blog post."
   ]
  },
  {
   "cell_type": "code",
   "execution_count": null,
   "metadata": {},
   "outputs": [],
   "source": []
  }
 ],
 "metadata": {
  "kernelspec": {
   "display_name": "Python 3",
   "language": "python",
   "name": "python3"
  },
  "language_info": {
   "codemirror_mode": {
    "name": "ipython",
    "version": 3
   },
   "file_extension": ".py",
   "mimetype": "text/x-python",
   "name": "python",
   "nbconvert_exporter": "python",
   "pygments_lexer": "ipython3",
   "version": "3.7.6"
  }
 },
 "nbformat": 4,
 "nbformat_minor": 4
}
